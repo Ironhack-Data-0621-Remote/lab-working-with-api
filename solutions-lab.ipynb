{
 "cells": [
  {
   "cell_type": "markdown",
   "id": "1b027350-87d6-48c6-b28c-33cd3505bc4d",
   "metadata": {},
   "source": [
    "## Importing libraries"
   ]
  },
  {
   "cell_type": "code",
   "execution_count": 1,
   "id": "770383c7-412a-4735-a18e-b3c453e2511f",
   "metadata": {},
   "outputs": [],
   "source": [
    "import json\n",
    "import pandas as pd\n",
    "import requests"
   ]
  },
  {
   "cell_type": "markdown",
   "id": "16ded394-4089-4138-9221-6a1485ed73af",
   "metadata": {},
   "source": [
    "## Without function"
   ]
  },
  {
   "cell_type": "code",
   "execution_count": 2,
   "id": "ee733285-6b29-4912-8c7b-9089329bd696",
   "metadata": {},
   "outputs": [
    {
     "name": "stdout",
     "output_type": "stream",
     "text": [
      "{\n",
      "  \"Places\" : [ {\n",
      "    \"PlaceId\" : \"BER-sky\",\n",
      "    \"PlaceName\" : \"Berlin Brandenburg\",\n",
      "    \"CountryId\" : \"DE-sky\",\n",
      "    \"RegionId\" : \"\",\n",
      "    \"CityId\" : \"BERL-sky\",\n",
      "    \"CountryName\" : \"Germany\"\n",
      "  }, {\n",
      "    \"PlaceId\" : \"BLI-sky\",\n",
      "    \"PlaceName\" : \"Bellingham\",\n",
      "    \"CountryId\" : \"US-sky\",\n",
      "    \"RegionId\" : \"WA\",\n",
      "    \"CityId\" : \"BLIA-sky\",\n",
      "    \"CountryName\" : \"United States\"\n",
      "  }, {\n",
      "    \"PlaceId\" : \"BTV-sky\",\n",
      "    \"PlaceName\" : \"Burlington\",\n",
      "    \"CountryId\" : \"US-sky\",\n",
      "    \"RegionId\" : \"VT\",\n",
      "    \"CityId\" : \"BTVA-sky\",\n",
      "    \"CountryName\" : \"United States\"\n",
      "  }, {\n",
      "    \"PlaceId\" : \"BRL-sky\",\n",
      "    \"PlaceName\" : \"Burlington\",\n",
      "    \"CountryId\" : \"US-sky\",\n",
      "    \"RegionId\" : \"IA\",\n",
      "    \"CityId\" : \"BRLA-sky\",\n",
      "    \"CountryName\" : \"United States\"\n",
      "  } ]\n",
      "}\n"
     ]
    }
   ],
   "source": [
    "url = \"https://skyscanner-skyscanner-flight-search-v1.p.rapidapi.com/apiservices/autosuggest/v1.0/UK/GBP/en-GB/\"\n",
    "\n",
    "querystring = {\"query\":\"Berlin\"}\n",
    "\n",
    "headers = {\n",
    "    'x-rapidapi-host': \"skyscanner-skyscanner-flight-search-v1.p.rapidapi.com\",\n",
    "    'x-rapidapi-key': \"1c580f9607msh4374fd2295725efp12a851jsn8195424bb796\"\n",
    "    }\n",
    "\n",
    "response = requests.request(\"GET\", url, headers=headers, params=querystring)\n",
    "\n",
    "print(response.text)"
   ]
  },
  {
   "cell_type": "code",
   "execution_count": 3,
   "id": "cdd420ee-f44e-49d2-a61e-f4d6ab0f8810",
   "metadata": {},
   "outputs": [
    {
     "name": "stdout",
     "output_type": "stream",
     "text": [
      "{\n",
      "  \"Quotes\" : [ {\n",
      "    \"QuoteId\" : 1,\n",
      "    \"MinPrice\" : 68,\n",
      "    \"Direct\" : true,\n",
      "    \"OutboundLeg\" : {\n",
      "      \"CarrierIds\" : [ 851 ],\n",
      "      \"OriginId\" : 81727,\n",
      "      \"DestinationId\" : 60987,\n",
      "      \"DepartureDate\" : \"2021-11-01T00:00:00\"\n",
      "    },\n",
      "    \"QuoteDateTime\" : \"2021-10-11T17:16:00\"\n",
      "  } ],\n",
      "  \"Carriers\" : [ {\n",
      "    \"CarrierId\" : 851,\n",
      "    \"Name\" : \"Alaska Airlines\"\n",
      "  } ],\n",
      "  \"Places\" : [ {\n",
      "    \"Name\" : \"New York John F. Kennedy\",\n",
      "    \"Type\" : \"Station\",\n",
      "    \"PlaceId\" : 60987,\n",
      "    \"IataCode\" : \"JFK\",\n",
      "    \"SkyscannerCode\" : \"JFK\",\n",
      "    \"CityName\" : \"New York\",\n",
      "    \"CityId\" : \"NYCA\",\n",
      "    \"CountryName\" : \"United States\"\n",
      "  }, {\n",
      "    \"Name\" : \"San Francisco International\",\n",
      "    \"Type\" : \"Station\",\n",
      "    \"PlaceId\" : 81727,\n",
      "    \"IataCode\" : \"SFO\",\n",
      "    \"SkyscannerCode\" : \"SFO\",\n",
      "    \"CityName\" : \"San Francisco\",\n",
      "    \"CityId\" : \"SFOA\",\n",
      "    \"CountryName\" : \"United States\"\n",
      "  } ],\n",
      "  \"Currencies\" : [ {\n",
      "    \"Code\" : \"USD\",\n",
      "    \"Symbol\" : \"$\",\n",
      "    \"ThousandsSeparator\" : \",\",\n",
      "    \"DecimalSeparator\" : \".\",\n",
      "    \"SymbolOnLeft\" : true,\n",
      "    \"SpaceBetweenAmountAndSymbol\" : false,\n",
      "    \"RoundingCoefficient\" : 0,\n",
      "    \"DecimalDigits\" : 2\n",
      "  } ]\n",
      "}\n"
     ]
    }
   ],
   "source": [
    "url = \"https://skyscanner-skyscanner-flight-search-v1.p.rapidapi.com/apiservices/browsequotes/v1.0/US/USD/en-US/SFO-sky/JFK-sky/2021-11-01\"\n",
    "\n",
    "querystring = {\"inboundpartialdate\":\"2019-12-01\"}\n",
    "\n",
    "headers = {\n",
    "    'x-rapidapi-host': \"skyscanner-skyscanner-flight-search-v1.p.rapidapi.com\",\n",
    "    'x-rapidapi-key': \"1c580f9607msh4374fd2295725efp12a851jsn8195424bb796\"\n",
    "    }\n",
    "\n",
    "response = requests.request(\"GET\", url, headers=headers, params=querystring)\n",
    "\n",
    "print(response.text)"
   ]
  },
  {
   "cell_type": "code",
   "execution_count": 4,
   "id": "ffa80be1-90d8-4f8e-be41-2ee2ff4db740",
   "metadata": {},
   "outputs": [
    {
     "data": {
      "text/html": [
       "<div>\n",
       "<style scoped>\n",
       "    .dataframe tbody tr th:only-of-type {\n",
       "        vertical-align: middle;\n",
       "    }\n",
       "\n",
       "    .dataframe tbody tr th {\n",
       "        vertical-align: top;\n",
       "    }\n",
       "\n",
       "    .dataframe thead th {\n",
       "        text-align: right;\n",
       "    }\n",
       "</style>\n",
       "<table border=\"1\" class=\"dataframe\">\n",
       "  <thead>\n",
       "    <tr style=\"text-align: right;\">\n",
       "      <th></th>\n",
       "      <th>0</th>\n",
       "      <th>1</th>\n",
       "      <th>new_col</th>\n",
       "    </tr>\n",
       "  </thead>\n",
       "  <tbody>\n",
       "    <tr>\n",
       "      <th>0</th>\n",
       "      <td>Quotes</td>\n",
       "      <td>[{'QuoteId': 1, 'MinPrice': 68, 'Direct': True...</td>\n",
       "      <td>{'QuoteId': 1, 'MinPrice': 68, 'Direct': True,...</td>\n",
       "    </tr>\n",
       "    <tr>\n",
       "      <th>1</th>\n",
       "      <td>Carriers</td>\n",
       "      <td>[{'CarrierId': 851, 'Name': 'Alaska Airlines'}]</td>\n",
       "      <td>{'CarrierId': 851, 'Name': 'Alaska Airlines'}</td>\n",
       "    </tr>\n",
       "    <tr>\n",
       "      <th>2</th>\n",
       "      <td>Places</td>\n",
       "      <td>[{'Name': 'New York John F. Kennedy', 'Type': ...</td>\n",
       "      <td>{'Name': 'New York John F. Kennedy', 'Type': '...</td>\n",
       "    </tr>\n",
       "    <tr>\n",
       "      <th>3</th>\n",
       "      <td>Currencies</td>\n",
       "      <td>[{'Code': 'USD', 'Symbol': '$', 'ThousandsSepa...</td>\n",
       "      <td>{'Code': 'USD', 'Symbol': '$', 'ThousandsSepar...</td>\n",
       "    </tr>\n",
       "  </tbody>\n",
       "</table>\n",
       "</div>"
      ],
      "text/plain": [
       "            0                                                  1  \\\n",
       "0      Quotes  [{'QuoteId': 1, 'MinPrice': 68, 'Direct': True...   \n",
       "1    Carriers    [{'CarrierId': 851, 'Name': 'Alaska Airlines'}]   \n",
       "2      Places  [{'Name': 'New York John F. Kennedy', 'Type': ...   \n",
       "3  Currencies  [{'Code': 'USD', 'Symbol': '$', 'ThousandsSepa...   \n",
       "\n",
       "                                             new_col  \n",
       "0  {'QuoteId': 1, 'MinPrice': 68, 'Direct': True,...  \n",
       "1      {'CarrierId': 851, 'Name': 'Alaska Airlines'}  \n",
       "2  {'Name': 'New York John F. Kennedy', 'Type': '...  \n",
       "3  {'Code': 'USD', 'Symbol': '$', 'ThousandsSepar...  "
      ]
     },
     "execution_count": 4,
     "metadata": {},
     "output_type": "execute_result"
    }
   ],
   "source": [
    "df = pd.DataFrame(response.json().items())\n",
    "df['new_col'] = df[1].apply(lambda x: x[0])\n",
    "df"
   ]
  },
  {
   "cell_type": "code",
   "execution_count": 5,
   "id": "dc3a3805-a074-4b1c-bc97-334f2abb6e50",
   "metadata": {},
   "outputs": [
    {
     "data": {
      "text/html": [
       "<div>\n",
       "<style scoped>\n",
       "    .dataframe tbody tr th:only-of-type {\n",
       "        vertical-align: middle;\n",
       "    }\n",
       "\n",
       "    .dataframe tbody tr th {\n",
       "        vertical-align: top;\n",
       "    }\n",
       "\n",
       "    .dataframe thead th {\n",
       "        text-align: right;\n",
       "    }\n",
       "</style>\n",
       "<table border=\"1\" class=\"dataframe\">\n",
       "  <thead>\n",
       "    <tr style=\"text-align: right;\">\n",
       "      <th></th>\n",
       "      <th>Quotes</th>\n",
       "      <th>Carriers</th>\n",
       "      <th>Places</th>\n",
       "      <th>Currencies</th>\n",
       "    </tr>\n",
       "  </thead>\n",
       "  <tbody>\n",
       "    <tr>\n",
       "      <th>0</th>\n",
       "      <td>[{'QuoteId': 1, 'MinPrice': 68, 'Direct': True...</td>\n",
       "      <td>[{'CarrierId': 851, 'Name': 'Alaska Airlines'}]</td>\n",
       "      <td>[{'Name': 'New York John F. Kennedy', 'Type': ...</td>\n",
       "      <td>[{'Code': 'USD', 'Symbol': '$', 'ThousandsSepa...</td>\n",
       "    </tr>\n",
       "  </tbody>\n",
       "</table>\n",
       "</div>"
      ],
      "text/plain": [
       "                                              Quotes  \\\n",
       "0  [{'QuoteId': 1, 'MinPrice': 68, 'Direct': True...   \n",
       "\n",
       "                                          Carriers  \\\n",
       "0  [{'CarrierId': 851, 'Name': 'Alaska Airlines'}]   \n",
       "\n",
       "                                              Places  \\\n",
       "0  [{'Name': 'New York John F. Kennedy', 'Type': ...   \n",
       "\n",
       "                                          Currencies  \n",
       "0  [{'Code': 'USD', 'Symbol': '$', 'ThousandsSepa...  "
      ]
     },
     "execution_count": 5,
     "metadata": {},
     "output_type": "execute_result"
    }
   ],
   "source": [
    "# Normalize the response\n",
    "pd.json_normalize(response.json())"
   ]
  },
  {
   "cell_type": "code",
   "execution_count": 6,
   "id": "6bcbf3a3-aee6-4c6f-a5d3-039d2453e0b2",
   "metadata": {},
   "outputs": [],
   "source": [
    "quotes = pd.DataFrame(pd.json_normalize(response.json())[\"Quotes\"][0])\n",
    "carriers = pd.DataFrame(pd.json_normalize(response.json())[\"Carriers\"][0])\n",
    "places = pd.DataFrame(pd.json_normalize(response.json())[\"Places\"][0])\n",
    "currencies = pd.DataFrame(pd.json_normalize(response.json())[\"Currencies\"][0])"
   ]
  },
  {
   "cell_type": "code",
   "execution_count": 7,
   "id": "d52d3e41-3f8a-423d-845e-a223850e72bd",
   "metadata": {},
   "outputs": [
    {
     "data": {
      "text/html": [
       "<div>\n",
       "<style scoped>\n",
       "    .dataframe tbody tr th:only-of-type {\n",
       "        vertical-align: middle;\n",
       "    }\n",
       "\n",
       "    .dataframe tbody tr th {\n",
       "        vertical-align: top;\n",
       "    }\n",
       "\n",
       "    .dataframe thead th {\n",
       "        text-align: right;\n",
       "    }\n",
       "</style>\n",
       "<table border=\"1\" class=\"dataframe\">\n",
       "  <thead>\n",
       "    <tr style=\"text-align: right;\">\n",
       "      <th></th>\n",
       "      <th>Name</th>\n",
       "      <th>Type</th>\n",
       "      <th>PlaceId</th>\n",
       "      <th>IataCode</th>\n",
       "      <th>SkyscannerCode</th>\n",
       "      <th>CityName</th>\n",
       "      <th>CityId</th>\n",
       "      <th>CountryName</th>\n",
       "    </tr>\n",
       "  </thead>\n",
       "  <tbody>\n",
       "    <tr>\n",
       "      <th>0</th>\n",
       "      <td>New York John F. Kennedy</td>\n",
       "      <td>Station</td>\n",
       "      <td>60987</td>\n",
       "      <td>JFK</td>\n",
       "      <td>JFK</td>\n",
       "      <td>New York</td>\n",
       "      <td>NYCA</td>\n",
       "      <td>United States</td>\n",
       "    </tr>\n",
       "    <tr>\n",
       "      <th>1</th>\n",
       "      <td>San Francisco International</td>\n",
       "      <td>Station</td>\n",
       "      <td>81727</td>\n",
       "      <td>SFO</td>\n",
       "      <td>SFO</td>\n",
       "      <td>San Francisco</td>\n",
       "      <td>SFOA</td>\n",
       "      <td>United States</td>\n",
       "    </tr>\n",
       "  </tbody>\n",
       "</table>\n",
       "</div>"
      ],
      "text/plain": [
       "                          Name     Type  PlaceId IataCode SkyscannerCode  \\\n",
       "0     New York John F. Kennedy  Station    60987      JFK            JFK   \n",
       "1  San Francisco International  Station    81727      SFO            SFO   \n",
       "\n",
       "        CityName CityId    CountryName  \n",
       "0       New York   NYCA  United States  \n",
       "1  San Francisco   SFOA  United States  "
      ]
     },
     "execution_count": 7,
     "metadata": {},
     "output_type": "execute_result"
    }
   ],
   "source": [
    "places"
   ]
  },
  {
   "cell_type": "code",
   "execution_count": 10,
   "id": "0ba7fdae-aacf-467b-bb10-48b831bd1bbf",
   "metadata": {},
   "outputs": [
    {
     "data": {
      "text/html": [
       "<div>\n",
       "<style scoped>\n",
       "    .dataframe tbody tr th:only-of-type {\n",
       "        vertical-align: middle;\n",
       "    }\n",
       "\n",
       "    .dataframe tbody tr th {\n",
       "        vertical-align: top;\n",
       "    }\n",
       "\n",
       "    .dataframe thead th {\n",
       "        text-align: right;\n",
       "    }\n",
       "</style>\n",
       "<table border=\"1\" class=\"dataframe\">\n",
       "  <thead>\n",
       "    <tr style=\"text-align: right;\">\n",
       "      <th></th>\n",
       "      <th>CarrierId</th>\n",
       "      <th>Name</th>\n",
       "    </tr>\n",
       "  </thead>\n",
       "  <tbody>\n",
       "    <tr>\n",
       "      <th>0</th>\n",
       "      <td>851</td>\n",
       "      <td>Alaska Airlines</td>\n",
       "    </tr>\n",
       "  </tbody>\n",
       "</table>\n",
       "</div>"
      ],
      "text/plain": [
       "   CarrierId             Name\n",
       "0        851  Alaska Airlines"
      ]
     },
     "execution_count": 10,
     "metadata": {},
     "output_type": "execute_result"
    }
   ],
   "source": [
    "carriers"
   ]
  },
  {
   "cell_type": "code",
   "execution_count": 11,
   "id": "8d8dad82-433f-435e-a0b9-e1bbd1feaaa3",
   "metadata": {},
   "outputs": [
    {
     "data": {
      "text/html": [
       "<div>\n",
       "<style scoped>\n",
       "    .dataframe tbody tr th:only-of-type {\n",
       "        vertical-align: middle;\n",
       "    }\n",
       "\n",
       "    .dataframe tbody tr th {\n",
       "        vertical-align: top;\n",
       "    }\n",
       "\n",
       "    .dataframe thead th {\n",
       "        text-align: right;\n",
       "    }\n",
       "</style>\n",
       "<table border=\"1\" class=\"dataframe\">\n",
       "  <thead>\n",
       "    <tr style=\"text-align: right;\">\n",
       "      <th></th>\n",
       "      <th>Name</th>\n",
       "      <th>Type</th>\n",
       "      <th>PlaceId</th>\n",
       "      <th>IataCode</th>\n",
       "      <th>SkyscannerCode</th>\n",
       "      <th>CityName</th>\n",
       "      <th>CityId</th>\n",
       "      <th>CountryName</th>\n",
       "    </tr>\n",
       "  </thead>\n",
       "  <tbody>\n",
       "    <tr>\n",
       "      <th>0</th>\n",
       "      <td>New York John F. Kennedy</td>\n",
       "      <td>Station</td>\n",
       "      <td>60987</td>\n",
       "      <td>JFK</td>\n",
       "      <td>JFK</td>\n",
       "      <td>New York</td>\n",
       "      <td>NYCA</td>\n",
       "      <td>United States</td>\n",
       "    </tr>\n",
       "    <tr>\n",
       "      <th>1</th>\n",
       "      <td>San Francisco International</td>\n",
       "      <td>Station</td>\n",
       "      <td>81727</td>\n",
       "      <td>SFO</td>\n",
       "      <td>SFO</td>\n",
       "      <td>San Francisco</td>\n",
       "      <td>SFOA</td>\n",
       "      <td>United States</td>\n",
       "    </tr>\n",
       "  </tbody>\n",
       "</table>\n",
       "</div>"
      ],
      "text/plain": [
       "                          Name     Type  PlaceId IataCode SkyscannerCode  \\\n",
       "0     New York John F. Kennedy  Station    60987      JFK            JFK   \n",
       "1  San Francisco International  Station    81727      SFO            SFO   \n",
       "\n",
       "        CityName CityId    CountryName  \n",
       "0       New York   NYCA  United States  \n",
       "1  San Francisco   SFOA  United States  "
      ]
     },
     "execution_count": 11,
     "metadata": {},
     "output_type": "execute_result"
    }
   ],
   "source": [
    "places"
   ]
  },
  {
   "cell_type": "code",
   "execution_count": 12,
   "id": "798f6945-d011-4225-85b2-d066ce8a8a62",
   "metadata": {},
   "outputs": [
    {
     "data": {
      "text/html": [
       "<div>\n",
       "<style scoped>\n",
       "    .dataframe tbody tr th:only-of-type {\n",
       "        vertical-align: middle;\n",
       "    }\n",
       "\n",
       "    .dataframe tbody tr th {\n",
       "        vertical-align: top;\n",
       "    }\n",
       "\n",
       "    .dataframe thead th {\n",
       "        text-align: right;\n",
       "    }\n",
       "</style>\n",
       "<table border=\"1\" class=\"dataframe\">\n",
       "  <thead>\n",
       "    <tr style=\"text-align: right;\">\n",
       "      <th></th>\n",
       "      <th>Code</th>\n",
       "      <th>Symbol</th>\n",
       "      <th>ThousandsSeparator</th>\n",
       "      <th>DecimalSeparator</th>\n",
       "      <th>SymbolOnLeft</th>\n",
       "      <th>SpaceBetweenAmountAndSymbol</th>\n",
       "      <th>RoundingCoefficient</th>\n",
       "      <th>DecimalDigits</th>\n",
       "    </tr>\n",
       "  </thead>\n",
       "  <tbody>\n",
       "    <tr>\n",
       "      <th>0</th>\n",
       "      <td>USD</td>\n",
       "      <td>$</td>\n",
       "      <td>,</td>\n",
       "      <td>.</td>\n",
       "      <td>True</td>\n",
       "      <td>False</td>\n",
       "      <td>0</td>\n",
       "      <td>2</td>\n",
       "    </tr>\n",
       "  </tbody>\n",
       "</table>\n",
       "</div>"
      ],
      "text/plain": [
       "  Code Symbol ThousandsSeparator DecimalSeparator  SymbolOnLeft  \\\n",
       "0  USD      $                  ,                .          True   \n",
       "\n",
       "   SpaceBetweenAmountAndSymbol  RoundingCoefficient  DecimalDigits  \n",
       "0                        False                    0              2  "
      ]
     },
     "execution_count": 12,
     "metadata": {},
     "output_type": "execute_result"
    }
   ],
   "source": [
    "currencies"
   ]
  },
  {
   "cell_type": "code",
   "execution_count": 8,
   "id": "92efc4d4-7885-4782-8532-3b59a160bb23",
   "metadata": {},
   "outputs": [],
   "source": [
    "flights = pd.DataFrame(pd.DataFrame(pd.json_normalize(response.json())[\"Quotes\"][0])[\"OutboundLeg\"][0])"
   ]
  },
  {
   "cell_type": "code",
   "execution_count": 9,
   "id": "7f908b7d-6381-49c5-9378-a3e036aa3acd",
   "metadata": {},
   "outputs": [
    {
     "data": {
      "text/html": [
       "<div>\n",
       "<style scoped>\n",
       "    .dataframe tbody tr th:only-of-type {\n",
       "        vertical-align: middle;\n",
       "    }\n",
       "\n",
       "    .dataframe tbody tr th {\n",
       "        vertical-align: top;\n",
       "    }\n",
       "\n",
       "    .dataframe thead th {\n",
       "        text-align: right;\n",
       "    }\n",
       "</style>\n",
       "<table border=\"1\" class=\"dataframe\">\n",
       "  <thead>\n",
       "    <tr style=\"text-align: right;\">\n",
       "      <th></th>\n",
       "      <th>CarrierIds</th>\n",
       "      <th>OriginId</th>\n",
       "      <th>DestinationId</th>\n",
       "      <th>DepartureDate</th>\n",
       "    </tr>\n",
       "  </thead>\n",
       "  <tbody>\n",
       "    <tr>\n",
       "      <th>0</th>\n",
       "      <td>851</td>\n",
       "      <td>81727</td>\n",
       "      <td>60987</td>\n",
       "      <td>2021-11-01T00:00:00</td>\n",
       "    </tr>\n",
       "  </tbody>\n",
       "</table>\n",
       "</div>"
      ],
      "text/plain": [
       "   CarrierIds  OriginId  DestinationId        DepartureDate\n",
       "0         851     81727          60987  2021-11-01T00:00:00"
      ]
     },
     "execution_count": 9,
     "metadata": {},
     "output_type": "execute_result"
    }
   ],
   "source": [
    "flights"
   ]
  },
  {
   "cell_type": "markdown",
   "id": "f3fb8a1a-5415-4c5d-8215-1b91f9f203e8",
   "metadata": {},
   "source": [
    "## API + function"
   ]
  },
  {
   "cell_type": "code",
   "execution_count": 14,
   "id": "9b4a1a7b-cd00-4db0-8dac-9e296ccdc8f3",
   "metadata": {},
   "outputs": [],
   "source": [
    "def flight_search_city(city=\"\"):\n",
    "    url = \"https://skyscanner-skyscanner-flight-search-v1.p.rapidapi.com/apiservices/autosuggest/v1.0/UK/GBP/en-GB/\"\n",
    "\n",
    "    querystring = {\"query\":city}\n",
    "\n",
    "    headers = {\n",
    "        'x-rapidapi-host': \"skyscanner-skyscanner-flight-search-v1.p.rapidapi.com\",\n",
    "        'x-rapidapi-key': \"1c580f9607msh4374fd2295725efp12a851jsn8195424bb796\"\n",
    "        }\n",
    "\n",
    "    response = requests.request(\"GET\", url, headers=headers, params=querystring)\n",
    "\n",
    "    print(response.text)"
   ]
  },
  {
   "cell_type": "code",
   "execution_count": 15,
   "id": "775b37e6-392e-45c7-af67-04f3a1ead9f4",
   "metadata": {},
   "outputs": [
    {
     "name": "stdout",
     "output_type": "stream",
     "text": [
      "{\n",
      "  \"Places\" : [ {\n",
      "    \"PlaceId\" : \"PARI-sky\",\n",
      "    \"PlaceName\" : \"Paris\",\n",
      "    \"CountryId\" : \"FR-sky\",\n",
      "    \"RegionId\" : \"\",\n",
      "    \"CityId\" : \"PARI-sky\",\n",
      "    \"CountryName\" : \"France\"\n",
      "  }, {\n",
      "    \"PlaceId\" : \"CDG-sky\",\n",
      "    \"PlaceName\" : \"Paris Charles de Gaulle\",\n",
      "    \"CountryId\" : \"FR-sky\",\n",
      "    \"RegionId\" : \"\",\n",
      "    \"CityId\" : \"PARI-sky\",\n",
      "    \"CountryName\" : \"France\"\n",
      "  }, {\n",
      "    \"PlaceId\" : \"ORY-sky\",\n",
      "    \"PlaceName\" : \"Paris Orly\",\n",
      "    \"CountryId\" : \"FR-sky\",\n",
      "    \"RegionId\" : \"\",\n",
      "    \"CityId\" : \"PARI-sky\",\n",
      "    \"CountryName\" : \"France\"\n",
      "  }, {\n",
      "    \"PlaceId\" : \"BVA-sky\",\n",
      "    \"PlaceName\" : \"Paris Beauvais\",\n",
      "    \"CountryId\" : \"FR-sky\",\n",
      "    \"RegionId\" : \"\",\n",
      "    \"CityId\" : \"PARI-sky\",\n",
      "    \"CountryName\" : \"France\"\n",
      "  }, {\n",
      "    \"PlaceId\" : \"LBG-sky\",\n",
      "    \"PlaceName\" : \"Paris Le Bourget\",\n",
      "    \"CountryId\" : \"FR-sky\",\n",
      "    \"RegionId\" : \"\",\n",
      "    \"CityId\" : \"PARI-sky\",\n",
      "    \"CountryName\" : \"France\"\n",
      "  }, {\n",
      "    \"PlaceId\" : \"PIN-sky\",\n",
      "    \"PlaceName\" : \"Parintins\",\n",
      "    \"CountryId\" : \"BR-sky\",\n",
      "    \"RegionId\" : \"\",\n",
      "    \"CityId\" : \"PINA-sky\",\n",
      "    \"CountryName\" : \"Brazil\"\n",
      "  }, {\n",
      "    \"PlaceId\" : \"PK-sky\",\n",
      "    \"PlaceName\" : \"Pakistan\",\n",
      "    \"CountryId\" : \"PK-sky\",\n",
      "    \"RegionId\" : \"\",\n",
      "    \"CityId\" : \"-sky\",\n",
      "    \"CountryName\" : \"Pakistan\"\n",
      "  }, {\n",
      "    \"PlaceId\" : \"ISB-sky\",\n",
      "    \"PlaceName\" : \"Islamabad\",\n",
      "    \"CountryId\" : \"PK-sky\",\n",
      "    \"RegionId\" : \"\",\n",
      "    \"CityId\" : \"ISBA-sky\",\n",
      "    \"CountryName\" : \"Pakistan\"\n",
      "  }, {\n",
      "    \"PlaceId\" : \"LHE-sky\",\n",
      "    \"PlaceName\" : \"Lahore\",\n",
      "    \"CountryId\" : \"PK-sky\",\n",
      "    \"RegionId\" : \"\",\n",
      "    \"CityId\" : \"LHEA-sky\",\n",
      "    \"CountryName\" : \"Pakistan\"\n",
      "  }, {\n",
      "    \"PlaceId\" : \"KHI-sky\",\n",
      "    \"PlaceName\" : \"Karachi\",\n",
      "    \"CountryId\" : \"PK-sky\",\n",
      "    \"RegionId\" : \"\",\n",
      "    \"CityId\" : \"KHIA-sky\",\n",
      "    \"CountryName\" : \"Pakistan\"\n",
      "  } ]\n",
      "}\n"
     ]
    }
   ],
   "source": [
    "flight_search_city(city=\"Paris\")"
   ]
  },
  {
   "cell_type": "code",
   "execution_count": 17,
   "id": "aad341b3-3898-4a7f-8fdd-c40b7cc52192",
   "metadata": {},
   "outputs": [],
   "source": [
    "def flight_search_date(date=\"\"):\n",
    "    url = \"https://skyscanner-skyscanner-flight-search-v1.p.rapidapi.com/apiservices/browsequotes/v1.0/US/USD/en-US/SFO-sky/JFK-sky/2021-11-01\"\n",
    "\n",
    "    querystring = {\"inboundpartialdate\":date}\n",
    "\n",
    "    headers = {\n",
    "        'x-rapidapi-host': \"skyscanner-skyscanner-flight-search-v1.p.rapidapi.com\",\n",
    "        'x-rapidapi-key': \"1c580f9607msh4374fd2295725efp12a851jsn8195424bb796\"\n",
    "        }\n",
    "\n",
    "    response = requests.request(\"GET\", url, headers=headers, params=querystring)\n",
    "\n",
    "    print(response.text)"
   ]
  },
  {
   "cell_type": "code",
   "execution_count": 18,
   "id": "7438b9d0-e1fc-4588-88a4-e622cb8f8628",
   "metadata": {},
   "outputs": [
    {
     "name": "stdout",
     "output_type": "stream",
     "text": [
      "{\n",
      "  \"Quotes\" : [ {\n",
      "    \"QuoteId\" : 1,\n",
      "    \"MinPrice\" : 68,\n",
      "    \"Direct\" : true,\n",
      "    \"OutboundLeg\" : {\n",
      "      \"CarrierIds\" : [ 851 ],\n",
      "      \"OriginId\" : 81727,\n",
      "      \"DestinationId\" : 60987,\n",
      "      \"DepartureDate\" : \"2021-11-01T00:00:00\"\n",
      "    },\n",
      "    \"QuoteDateTime\" : \"2021-10-12T18:42:00\"\n",
      "  } ],\n",
      "  \"Carriers\" : [ {\n",
      "    \"CarrierId\" : 851,\n",
      "    \"Name\" : \"Alaska Airlines\"\n",
      "  } ],\n",
      "  \"Places\" : [ {\n",
      "    \"Name\" : \"New York John F. Kennedy\",\n",
      "    \"Type\" : \"Station\",\n",
      "    \"PlaceId\" : 60987,\n",
      "    \"IataCode\" : \"JFK\",\n",
      "    \"SkyscannerCode\" : \"JFK\",\n",
      "    \"CityName\" : \"New York\",\n",
      "    \"CityId\" : \"NYCA\",\n",
      "    \"CountryName\" : \"United States\"\n",
      "  }, {\n",
      "    \"Name\" : \"San Francisco International\",\n",
      "    \"Type\" : \"Station\",\n",
      "    \"PlaceId\" : 81727,\n",
      "    \"IataCode\" : \"SFO\",\n",
      "    \"SkyscannerCode\" : \"SFO\",\n",
      "    \"CityName\" : \"San Francisco\",\n",
      "    \"CityId\" : \"SFOA\",\n",
      "    \"CountryName\" : \"United States\"\n",
      "  } ],\n",
      "  \"Currencies\" : [ {\n",
      "    \"Code\" : \"USD\",\n",
      "    \"Symbol\" : \"$\",\n",
      "    \"ThousandsSeparator\" : \",\",\n",
      "    \"DecimalSeparator\" : \".\",\n",
      "    \"SymbolOnLeft\" : true,\n",
      "    \"SpaceBetweenAmountAndSymbol\" : false,\n",
      "    \"RoundingCoefficient\" : 0,\n",
      "    \"DecimalDigits\" : 2\n",
      "  } ]\n",
      "}\n"
     ]
    }
   ],
   "source": [
    "flight_search_date(date=\"2021-10-29\")"
   ]
  },
  {
   "cell_type": "code",
   "execution_count": 40,
   "id": "ef64aa3b-d921-4ffe-82ac-fa78e369407b",
   "metadata": {},
   "outputs": [],
   "source": [
    "def flight_search_combination(country=\"\", currency=\"\", origin=\"\", destination=\"\", outbound_date=\"\", inbound_date=\"\"):\n",
    "    url = \"https://skyscanner-skyscanner-flight-search-v1.p.rapidapi.com/apiservices/browsequotes/v1.0/{country}/{currency}/en-US/{origin}-sky/{destination}-sky/{outbound_date}\"\n",
    "        \n",
    "    querystring = {\"inboundpartialdate\":\"{inbound_date}\"}\n",
    "\n",
    "    headers = {\n",
    "        'x-rapidapi-host': \"skyscanner-skyscanner-flight-search-v1.p.rapidapi.com\",\n",
    "        'x-rapidapi-key': \"1c580f9607msh4374fd2295725efp12a851jsn8195424bb796\"\n",
    "        }\n",
    "\n",
    "    response = requests.request(\"GET\", url, headers=headers, params=querystring)\n",
    "\n",
    "    print(response.text)"
   ]
  },
  {
   "cell_type": "code",
   "execution_count": 43,
   "id": "f202f468-cea8-422d-9e1d-bf05bf7149d2",
   "metadata": {},
   "outputs": [
    {
     "name": "stdout",
     "output_type": "stream",
     "text": [
      "{\n",
      "  \"code\" : 404,\n",
      "  \"message\" : \"HTTP 404 Not Found\"\n",
      "}\n"
     ]
    }
   ],
   "source": [
    "flight_search_combination(country=\"DE\", currency=\"EUR\", origin=\"BCN\", destination=\"BER\", outbound_date=\"2021-11-27\", inbound_date=\"2021-11-30\")"
   ]
  },
  {
   "cell_type": "markdown",
   "id": "0588b94d-3479-4858-ac98-9fdad43ddced",
   "metadata": {},
   "source": [
    "--> why does thi give me an error? the code below works and uses the same url.."
   ]
  },
  {
   "cell_type": "code",
   "execution_count": 42,
   "id": "bc5949d2-ce44-4e13-86ab-b45400154578",
   "metadata": {},
   "outputs": [
    {
     "name": "stdout",
     "output_type": "stream",
     "text": [
      "{\n",
      "  \"Quotes\" : [ {\n",
      "    \"QuoteId\" : 1,\n",
      "    \"MinPrice\" : 22,\n",
      "    \"Direct\" : false,\n",
      "    \"OutboundLeg\" : {\n",
      "      \"CarrierIds\" : [ 1090 ],\n",
      "      \"OriginId\" : 42414,\n",
      "      \"DestinationId\" : 42514,\n",
      "      \"DepartureDate\" : \"2021-11-27T00:00:00\"\n",
      "    },\n",
      "    \"QuoteDateTime\" : \"2021-10-11T22:40:00\"\n",
      "  }, {\n",
      "    \"QuoteId\" : 2,\n",
      "    \"MinPrice\" : 28,\n",
      "    \"Direct\" : true,\n",
      "    \"OutboundLeg\" : {\n",
      "      \"CarrierIds\" : [ 1090 ],\n",
      "      \"OriginId\" : 42414,\n",
      "      \"DestinationId\" : 42514,\n",
      "      \"DepartureDate\" : \"2021-11-27T00:00:00\"\n",
      "    },\n",
      "    \"QuoteDateTime\" : \"2021-10-11T22:40:00\"\n",
      "  } ],\n",
      "  \"Carriers\" : [ {\n",
      "    \"CarrierId\" : 1090,\n",
      "    \"Name\" : \"Ryanair\"\n",
      "  } ],\n",
      "  \"Places\" : [ {\n",
      "    \"Name\" : \"Barcelona\",\n",
      "    \"Type\" : \"Station\",\n",
      "    \"PlaceId\" : 42414,\n",
      "    \"IataCode\" : \"BCN\",\n",
      "    \"SkyscannerCode\" : \"BCN\",\n",
      "    \"CityName\" : \"Barcelona\",\n",
      "    \"CityId\" : \"BARC\",\n",
      "    \"CountryName\" : \"Spain\"\n",
      "  }, {\n",
      "    \"Name\" : \"Berlin Brandenburg\",\n",
      "    \"Type\" : \"Station\",\n",
      "    \"PlaceId\" : 42514,\n",
      "    \"IataCode\" : \"BER\",\n",
      "    \"SkyscannerCode\" : \"BER\",\n",
      "    \"CityName\" : \"Berlin\",\n",
      "    \"CityId\" : \"BERL\",\n",
      "    \"CountryName\" : \"Germany\"\n",
      "  } ],\n",
      "  \"Currencies\" : [ {\n",
      "    \"Code\" : \"EUR\",\n",
      "    \"Symbol\" : \"€\",\n",
      "    \"ThousandsSeparator\" : \".\",\n",
      "    \"DecimalSeparator\" : \",\",\n",
      "    \"SymbolOnLeft\" : false,\n",
      "    \"SpaceBetweenAmountAndSymbol\" : true,\n",
      "    \"RoundingCoefficient\" : 0,\n",
      "    \"DecimalDigits\" : 2\n",
      "  } ]\n",
      "}\n"
     ]
    }
   ],
   "source": [
    "url = \"https://skyscanner-skyscanner-flight-search-v1.p.rapidapi.com/apiservices/browsequotes/v1.0/DE/EUR/en-US/BCN-sky/BER-sky/2021-11-27\"\n",
    "\n",
    "querystring = {\"inboundpartialdate\":\"2021-11-30\"}\n",
    "\n",
    "headers = {\n",
    "    'x-rapidapi-host': \"skyscanner-skyscanner-flight-search-v1.p.rapidapi.com\",\n",
    "    'x-rapidapi-key': \"1c580f9607msh4374fd2295725efp12a851jsn8195424bb796\"\n",
    "    }\n",
    "\n",
    "response = requests.request(\"GET\", url, headers=headers, params=querystring)\n",
    "\n",
    "print(response.text)"
   ]
  },
  {
   "cell_type": "code",
   "execution_count": null,
   "id": "96021095-6726-4101-b46b-a2cda6e54ceb",
   "metadata": {},
   "outputs": [],
   "source": []
  }
 ],
 "metadata": {
  "kernelspec": {
   "display_name": "Python 3",
   "language": "python",
   "name": "python3"
  },
  "language_info": {
   "codemirror_mode": {
    "name": "ipython",
    "version": 3
   },
   "file_extension": ".py",
   "mimetype": "text/x-python",
   "name": "python",
   "nbconvert_exporter": "python",
   "pygments_lexer": "ipython3",
   "version": "3.9.6"
  }
 },
 "nbformat": 4,
 "nbformat_minor": 5
}
