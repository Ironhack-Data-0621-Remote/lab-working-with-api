{
 "cells": [
  {
   "cell_type": "markdown",
   "metadata": {},
   "source": [
    "## Instructions\n",
    "\n",
    "Following the class example, create a function that returns the price, names of origin and arrival airports and the name of the company. Do it for all the flights between two dates that cost the same."
   ]
  },
  {
   "cell_type": "code",
   "execution_count": 43,
   "metadata": {},
   "outputs": [],
   "source": [
    "def flight_checker(start_city, destination_city, outbound_date, inbound_date):\n",
    "\n",
    "    # enter quotes to return flight quotes, places to return aiport info and carriers to return flight carrier details\n",
    "\n",
    "    df_toreturn = input(\"Please choose which info to return, list of quotes or places\")\n",
    "\n",
    "    import requests\n",
    "    import pandas as pd\n",
    "    import json\n",
    "\n",
    "    url = f\"https://skyscanner-skyscanner-flight-search-v1.p.rapidapi.com/apiservices/browsequotes/v1.0/UK/EUR/en-UK/{start_city}-sky/{destination_city}-sky/{outbound_date}\"\n",
    "\n",
    "    querystring = {\"inboundpartialdate\":\"{inbound_date}\"}\n",
    "\n",
    "    headers = {\n",
    "    'x-rapidapi-host': \"skyscanner-skyscanner-flight-search-v1.p.rapidapi.com\",\n",
    "    'x-rapidapi-key': \"d60fca7daemsha54e66d4637b69bp1b180djsn1d23512a5703\"\n",
    "    }\n",
    "\n",
    "    response = requests.request(\"GET\", url, headers=headers, params=querystring)\n",
    "\n",
    "    quotes = pd.DataFrame(pd.json_normalize(response.json())[\"Quotes\"][0])\n",
    "    places = pd.DataFrame(pd.json_normalize(response.json())[\"Places\"][0])\n",
    "    carriers = pd.DataFrame(pd.json_normalize(response.json())[\"Carriers\"][0])\n",
    "\n",
    "    if df_toreturn == 'quotes':\n",
    "        return quotes\n",
    "    elif df_toreturn == 'places':\n",
    "        return places\n",
    "    elif df_toreturn == 'carriers':\n",
    "        return carriers\n",
    "    else:\n",
    "        return 'please enter a suitable dataframe to return'"
   ]
  },
  {
   "cell_type": "code",
   "execution_count": 44,
   "metadata": {},
   "outputs": [
    {
     "data": {
      "text/html": [
       "<div>\n",
       "<style scoped>\n",
       "    .dataframe tbody tr th:only-of-type {\n",
       "        vertical-align: middle;\n",
       "    }\n",
       "\n",
       "    .dataframe tbody tr th {\n",
       "        vertical-align: top;\n",
       "    }\n",
       "\n",
       "    .dataframe thead th {\n",
       "        text-align: right;\n",
       "    }\n",
       "</style>\n",
       "<table border=\"1\" class=\"dataframe\">\n",
       "  <thead>\n",
       "    <tr style=\"text-align: right;\">\n",
       "      <th></th>\n",
       "      <th>Name</th>\n",
       "      <th>Type</th>\n",
       "      <th>PlaceId</th>\n",
       "      <th>IataCode</th>\n",
       "      <th>SkyscannerCode</th>\n",
       "      <th>CityName</th>\n",
       "      <th>CityId</th>\n",
       "      <th>CountryName</th>\n",
       "    </tr>\n",
       "  </thead>\n",
       "  <tbody>\n",
       "    <tr>\n",
       "      <th>0</th>\n",
       "      <td>Barcelona</td>\n",
       "      <td>Station</td>\n",
       "      <td>42414</td>\n",
       "      <td>BCN</td>\n",
       "      <td>BCN</td>\n",
       "      <td>Barcelona</td>\n",
       "      <td>BARC</td>\n",
       "      <td>Spain</td>\n",
       "    </tr>\n",
       "    <tr>\n",
       "      <th>1</th>\n",
       "      <td>Berlin Brandenburg</td>\n",
       "      <td>Station</td>\n",
       "      <td>42514</td>\n",
       "      <td>BER</td>\n",
       "      <td>BER</td>\n",
       "      <td>Berlin</td>\n",
       "      <td>BERL</td>\n",
       "      <td>Germany</td>\n",
       "    </tr>\n",
       "  </tbody>\n",
       "</table>\n",
       "</div>"
      ],
      "text/plain": [
       "                 Name     Type  PlaceId IataCode SkyscannerCode   CityName  \\\n",
       "0           Barcelona  Station    42414      BCN            BCN  Barcelona   \n",
       "1  Berlin Brandenburg  Station    42514      BER            BER     Berlin   \n",
       "\n",
       "  CityId CountryName  \n",
       "0   BARC       Spain  \n",
       "1   BERL     Germany  "
      ]
     },
     "execution_count": 44,
     "metadata": {},
     "output_type": "execute_result"
    }
   ],
   "source": [
    "# the 4 arguments to pass to the function should be something like this, any city with the correct aiport code should work.\n",
    "\n",
    "flight_checker('BER', 'BCN', '2021-12-16', '2021-12-22')"
   ]
  }
 ],
 "metadata": {
  "interpreter": {
   "hash": "576841b4f7799d251ae57aad53f0bddb5c298a2c04b91f5151e4f2b208165af8"
  },
  "kernelspec": {
   "display_name": "Python 3.8.8 64-bit ('base': conda)",
   "name": "python3"
  },
  "language_info": {
   "codemirror_mode": {
    "name": "ipython",
    "version": 3
   },
   "file_extension": ".py",
   "mimetype": "text/x-python",
   "name": "python",
   "nbconvert_exporter": "python",
   "pygments_lexer": "ipython3",
   "version": "3.8.8"
  },
  "orig_nbformat": 4
 },
 "nbformat": 4,
 "nbformat_minor": 2
}
