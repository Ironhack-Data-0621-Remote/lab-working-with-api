{
 "cells": [
  {
   "cell_type": "code",
   "execution_count": 1,
   "id": "a07c513b",
   "metadata": {},
   "outputs": [],
   "source": [
    "import json\n",
    "import pandas as pd\n",
    "import requests"
   ]
  },
  {
   "cell_type": "code",
   "execution_count": 2,
   "id": "9372d28d",
   "metadata": {},
   "outputs": [
    {
     "name": "stdout",
     "output_type": "stream",
     "text": [
      "{\n",
      "  \"Quotes\" : [ {\n",
      "    \"QuoteId\" : 1,\n",
      "    \"MinPrice\" : 336,\n",
      "    \"Direct\" : false,\n",
      "    \"OutboundLeg\" : {\n",
      "      \"CarrierIds\" : [ 1190 ],\n",
      "      \"OriginId\" : 40595,\n",
      "      \"DestinationId\" : 42601,\n",
      "      \"DepartureDate\" : \"2021-11-12T00:00:00\"\n",
      "    },\n",
      "    \"QuoteDateTime\" : \"2021-10-10T20:13:00\"\n",
      "  }, {\n",
      "    \"QuoteId\" : 2,\n",
      "    \"MinPrice\" : 378,\n",
      "    \"Direct\" : false,\n",
      "    \"OutboundLeg\" : {\n",
      "      \"CarrierIds\" : [ 1368 ],\n",
      "      \"OriginId\" : 40595,\n",
      "      \"DestinationId\" : 42601,\n",
      "      \"DepartureDate\" : \"2022-03-26T00:00:00\"\n",
      "    },\n",
      "    \"QuoteDateTime\" : \"2021-10-11T17:10:00\"\n",
      "  }, {\n",
      "    \"QuoteId\" : 3,\n",
      "    \"MinPrice\" : 378,\n",
      "    \"Direct\" : false,\n",
      "    \"OutboundLeg\" : {\n",
      "      \"CarrierIds\" : [ 1368 ],\n",
      "      \"OriginId\" : 40595,\n",
      "      \"DestinationId\" : 42601,\n",
      "      \"DepartureDate\" : \"2022-01-03T00:00:00\"\n",
      "    },\n",
      "    \"QuoteDateTime\" : \"2021-10-11T19:24:00\"\n",
      "  }, {\n",
      "    \"QuoteId\" : 4,\n",
      "    \"MinPrice\" : 383,\n",
      "    \"Direct\" : false,\n",
      "    \"OutboundLeg\" : {\n",
      "      \"CarrierIds\" : [ 1324 ],\n",
      "      \"OriginId\" : 40595,\n",
      "      \"DestinationId\" : 42601,\n",
      "      \"DepartureDate\" : \"2021-12-10T00:00:00\"\n",
      "    },\n",
      "    \"QuoteDateTime\" : \"2021-10-11T08:23:00\"\n",
      "  }, {\n",
      "    \"QuoteId\" : 5,\n",
      "    \"MinPrice\" : 462,\n",
      "    \"Direct\" : false,\n",
      "    \"OutboundLeg\" : {\n",
      "      \"CarrierIds\" : [ 50441 ],\n",
      "      \"OriginId\" : 40595,\n",
      "      \"DestinationId\" : 42601,\n",
      "      \"DepartureDate\" : \"2021-10-17T00:00:00\"\n",
      "    },\n",
      "    \"QuoteDateTime\" : \"2021-10-13T03:37:00\"\n",
      "  }, {\n",
      "    \"QuoteId\" : 6,\n",
      "    \"MinPrice\" : 510,\n",
      "    \"Direct\" : true,\n",
      "    \"OutboundLeg\" : {\n",
      "      \"CarrierIds\" : [ 1324 ],\n",
      "      \"OriginId\" : 40595,\n",
      "      \"DestinationId\" : 42601,\n",
      "      \"DepartureDate\" : \"2021-11-15T00:00:00\"\n",
      "    },\n",
      "    \"QuoteDateTime\" : \"2021-10-11T07:08:00\"\n",
      "  }, {\n",
      "    \"QuoteId\" : 7,\n",
      "    \"MinPrice\" : 523,\n",
      "    \"Direct\" : true,\n",
      "    \"OutboundLeg\" : {\n",
      "      \"CarrierIds\" : [ 1324 ],\n",
      "      \"OriginId\" : 40595,\n",
      "      \"DestinationId\" : 42601,\n",
      "      \"DepartureDate\" : \"2022-01-03T00:00:00\"\n",
      "    },\n",
      "    \"QuoteDateTime\" : \"2021-10-11T19:24:00\"\n",
      "  }, {\n",
      "    \"QuoteId\" : 8,\n",
      "    \"MinPrice\" : 611,\n",
      "    \"Direct\" : true,\n",
      "    \"OutboundLeg\" : {\n",
      "      \"CarrierIds\" : [ 1324 ],\n",
      "      \"OriginId\" : 40595,\n",
      "      \"DestinationId\" : 42601,\n",
      "      \"DepartureDate\" : \"2021-10-25T00:00:00\"\n",
      "    },\n",
      "    \"QuoteDateTime\" : \"2021-10-11T23:18:00\"\n",
      "  }, {\n",
      "    \"QuoteId\" : 9,\n",
      "    \"MinPrice\" : 769,\n",
      "    \"Direct\" : true,\n",
      "    \"OutboundLeg\" : {\n",
      "      \"CarrierIds\" : [ 1324 ],\n",
      "      \"OriginId\" : 40595,\n",
      "      \"DestinationId\" : 42601,\n",
      "      \"DepartureDate\" : \"2021-12-25T00:00:00\"\n",
      "    },\n",
      "    \"QuoteDateTime\" : \"2021-10-14T06:35:00\"\n",
      "  } ],\n",
      "  \"Carriers\" : [ {\n",
      "    \"CarrierId\" : 1190,\n",
      "    \"Name\" : \"transavia\"\n",
      "  }, {\n",
      "    \"CarrierId\" : 1324,\n",
      "    \"Name\" : \"KLM\"\n",
      "  }, {\n",
      "    \"CarrierId\" : 50441,\n",
      "    \"Name\" : \"easyJet\"\n",
      "  }, {\n",
      "    \"CarrierId\" : 1368,\n",
      "    \"Name\" : \"Lufthansa\"\n",
      "  } ],\n",
      "  \"Places\" : [ {\n",
      "    \"Name\" : \"Amsterdam Schiphol\",\n",
      "    \"Type\" : \"Station\",\n",
      "    \"PlaceId\" : 40595,\n",
      "    \"IataCode\" : \"AMS\",\n",
      "    \"SkyscannerCode\" : \"AMS\",\n",
      "    \"CityName\" : \"Amsterdam\",\n",
      "    \"CityId\" : \"AMST\",\n",
      "    \"CountryName\" : \"Nederland\"\n",
      "  }, {\n",
      "    \"Name\" : \"Bridgetown\",\n",
      "    \"Type\" : \"Station\",\n",
      "    \"PlaceId\" : 42601,\n",
      "    \"IataCode\" : \"BGI\",\n",
      "    \"SkyscannerCode\" : \"BGI\",\n",
      "    \"CityName\" : \"Bridgetown\",\n",
      "    \"CityId\" : \"BGIA\",\n",
      "    \"CountryName\" : \"Barbados\"\n",
      "  } ],\n",
      "  \"Currencies\" : [ {\n",
      "    \"Code\" : \"EUR\",\n",
      "    \"Symbol\" : \"€\",\n",
      "    \"ThousandsSeparator\" : \".\",\n",
      "    \"DecimalSeparator\" : \",\",\n",
      "    \"SymbolOnLeft\" : false,\n",
      "    \"SpaceBetweenAmountAndSymbol\" : true,\n",
      "    \"RoundingCoefficient\" : 0,\n",
      "    \"DecimalDigits\" : 2\n",
      "  } ],\n",
      "  \"Dates\" : {\n",
      "    \"OutboundDates\" : [ {\n",
      "      \"PartialDate\" : \"2021-10\",\n",
      "      \"Price\" : 462,\n",
      "      \"QuoteDateTime\" : \"2021-10-13T03:37:00\",\n",
      "      \"QuoteIds\" : [ 5, 8 ]\n",
      "    }, {\n",
      "      \"PartialDate\" : \"2021-11\",\n",
      "      \"Price\" : 336,\n",
      "      \"QuoteDateTime\" : \"2021-10-10T20:13:00\",\n",
      "      \"QuoteIds\" : [ 1, 6 ]\n",
      "    }, {\n",
      "      \"PartialDate\" : \"2021-12\",\n",
      "      \"Price\" : 383,\n",
      "      \"QuoteDateTime\" : \"2021-10-11T08:23:00\",\n",
      "      \"QuoteIds\" : [ 4, 9 ]\n",
      "    }, {\n",
      "      \"PartialDate\" : \"2022-01\",\n",
      "      \"Price\" : 378,\n",
      "      \"QuoteDateTime\" : \"2021-10-11T19:24:00\",\n",
      "      \"QuoteIds\" : [ 3, 7 ]\n",
      "    }, {\n",
      "      \"PartialDate\" : \"2022-03\",\n",
      "      \"Price\" : 378,\n",
      "      \"QuoteDateTime\" : \"2021-10-11T17:10:00\",\n",
      "      \"QuoteIds\" : [ 2 ]\n",
      "    } ]\n",
      "  }\n",
      "}\n"
     ]
    }
   ],
   "source": [
    "url = \"https://skyscanner-skyscanner-flight-search-v1.p.rapidapi.com/apiservices/browsedates/v1.0/NL/EUR/nl-NL/AMS-sky/BGI-sky/anytime\"\n",
    "\n",
    "headers = {\n",
    "    'x-rapidapi-host': \"skyscanner-skyscanner-flight-search-v1.p.rapidapi.com\",\n",
    "    'x-rapidapi-key': \"7935b28a5fmshfd5dfbfd9686997p15b1adjsnf354ade350c3\"\n",
    "    }\n",
    "\n",
    "response = requests.request(\"GET\", url, headers=headers)\n",
    "\n",
    "print(response.text)"
   ]
  },
  {
   "cell_type": "code",
   "execution_count": 3,
   "id": "70270c79",
   "metadata": {},
   "outputs": [],
   "source": [
    "# API's return non-relational databases ---> json_normalize"
   ]
  },
  {
   "cell_type": "code",
   "execution_count": 4,
   "id": "e2418882",
   "metadata": {},
   "outputs": [],
   "source": [
    "starts = range(1, 25, 1)"
   ]
  },
  {
   "cell_type": "code",
   "execution_count": 5,
   "id": "506e0ed8",
   "metadata": {},
   "outputs": [
    {
     "name": "stdout",
     "output_type": "stream",
     "text": [
      "[b'{\\n  \"Quotes\" : [ {\\n    \"QuoteId\" : 1,\\n    \"MinPrice\" : 336,\\n    \"Direct\" : false,\\n    \"OutboundLeg\" : {\\n      \"CarrierIds\" : [ 1', b'190 ],\\n      \"OriginId\" : 40595,\\n      \"DestinationId\" : 42601,\\n      \"DepartureDate\" : \"2021-11-12T00:00:00\"\\n    },\\n    \"QuoteD', b'ateTime\" : \"2021-10-10T20:13:00\"\\n  }, {\\n    \"QuoteId\" : 2,\\n    \"MinPrice\" : 378,\\n    \"Direct\" : false,\\n    \"OutboundLeg\" : {\\n   ', b'   \"CarrierIds\" : [ 1368 ],\\n      \"OriginId\" : 40595,\\n      \"DestinationId\" : 42601,\\n      \"DepartureDate\" : \"2022-03-26T00:00:0', b'0\"\\n    },\\n    \"QuoteDateTime\" : \"2021-10-11T17:10:00\"\\n  }, {\\n    \"QuoteId\" : 3,\\n    \"MinPrice\" : 378,\\n    \"Direct\" : false,\\n    ', b'\"OutboundLeg\" : {\\n      \"CarrierIds\" : [ 1368 ],\\n      \"OriginId\" : 40595,\\n      \"DestinationId\" : 42601,\\n      \"DepartureDate\" ', b': \"2022-01-03T00:00:00\"\\n    },\\n    \"QuoteDateTime\" : \"2021-10-11T19:24:00\"\\n  }, {\\n    \"QuoteId\" : 4,\\n    \"MinPrice\" : 383,\\n    \"', b'Direct\" : false,\\n    \"OutboundLeg\" : {\\n      \"CarrierIds\" : [ 1324 ],\\n      \"OriginId\" : 40595,\\n      \"DestinationId\" : 42601,\\n ', b'     \"DepartureDate\" : \"2021-12-10T00:00:00\"\\n    },\\n    \"QuoteDateTime\" : \"2021-10-11T08:23:00\"\\n  }, {\\n    \"QuoteId\" : 5,\\n    \"M', b'inPrice\" : 462,\\n    \"Direct\" : false,\\n    \"OutboundLeg\" : {\\n      \"CarrierIds\" : [ 50441 ],\\n      \"OriginId\" : 40595,\\n      \"Des', b'tinationId\" : 42601,\\n      \"DepartureDate\" : \"2021-10-17T00:00:00\"\\n    },\\n    \"QuoteDateTime\" : \"2021-10-13T03:37:00\"\\n  }, {\\n   ', b' \"QuoteId\" : 6,\\n    \"MinPrice\" : 510,\\n    \"Direct\" : true,\\n    \"OutboundLeg\" : {\\n      \"CarrierIds\" : [ 1324 ],\\n      \"OriginId\"', b' : 40595,\\n      \"DestinationId\" : 42601,\\n      \"DepartureDate\" : \"2021-11-15T00:00:00\"\\n    },\\n    \"QuoteDateTime\" : \"2021-10-11T', b'07:08:00\"\\n  }, {\\n    \"QuoteId\" : 7,\\n    \"MinPrice\" : 523,\\n    \"Direct\" : true,\\n    \"OutboundLeg\" : {\\n      \"CarrierIds\" : [ 1324', b' ],\\n      \"OriginId\" : 40595,\\n      \"DestinationId\" : 42601,\\n      \"DepartureDate\" : \"2022-01-03T00:00:00\"\\n    },\\n    \"QuoteDate', b'Time\" : \"2021-10-11T19:24:00\"\\n  }, {\\n    \"QuoteId\" : 8,\\n    \"MinPrice\" : 611,\\n    \"Direct\" : true,\\n    \"OutboundLeg\" : {\\n      \"', b'CarrierIds\" : [ 1324 ],\\n      \"OriginId\" : 40595,\\n      \"DestinationId\" : 42601,\\n      \"DepartureDate\" : \"2021-10-25T00:00:00\"\\n ', b'   },\\n    \"QuoteDateTime\" : \"2021-10-11T23:18:00\"\\n  }, {\\n    \"QuoteId\" : 9,\\n    \"MinPrice\" : 769,\\n    \"Direct\" : true,\\n    \"Outb', b'oundLeg\" : {\\n      \"CarrierIds\" : [ 1324 ],\\n      \"OriginId\" : 40595,\\n      \"DestinationId\" : 42601,\\n      \"DepartureDate\" : \"20', b'21-12-25T00:00:00\"\\n    },\\n    \"QuoteDateTime\" : \"2021-10-14T06:35:00\"\\n  } ],\\n  \"Carriers\" : [ {\\n    \"CarrierId\" : 1190,\\n    \"Nam', b'e\" : \"transavia\"\\n  }, {\\n    \"CarrierId\" : 1324,\\n    \"Name\" : \"KLM\"\\n  }, {\\n    \"CarrierId\" : 50441,\\n    \"Name\" : \"easyJet\"\\n  }, {', b'\\n    \"CarrierId\" : 1368,\\n    \"Name\" : \"Lufthansa\"\\n  } ],\\n  \"Places\" : [ {\\n    \"Name\" : \"Amsterdam Schiphol\",\\n    \"Type\" : \"Stati', b'on\",\\n    \"PlaceId\" : 40595,\\n    \"IataCode\" : \"AMS\",\\n    \"SkyscannerCode\" : \"AMS\",\\n    \"CityName\" : \"Amsterdam\",\\n    \"CityId\" : \"', b'AMST\",\\n    \"CountryName\" : \"Nederland\"\\n  }, {\\n    \"Name\" : \"Bridgetown\",\\n    \"Type\" : \"Station\",\\n    \"PlaceId\" : 42601,\\n    \"Iat', b'aCode\" : \"BGI\",\\n    \"SkyscannerCode\" : \"BGI\",\\n    \"CityName\" : \"Bridgetown\",\\n    \"CityId\" : \"BGIA\",\\n    \"CountryName\" : \"Barbado', b's\"\\n  } ],\\n  \"Currencies\" : [ {\\n    \"Code\" : \"EUR\",\\n    \"Symbol\" : \"\\xe2\\x82\\xac\",\\n    \"ThousandsSeparator\" : \".\",\\n    \"DecimalSeparator\" ', b': \",\",\\n    \"SymbolOnLeft\" : false,\\n    \"SpaceBetweenAmountAndSymbol\" : true,\\n    \"RoundingCoefficient\" : 0,\\n    \"DecimalDigits\" ', b': 2\\n  } ],\\n  \"Dates\" : {\\n    \"OutboundDates\" : [ {\\n      \"PartialDate\" : \"2021-10\",\\n      \"Price\" : 462,\\n      \"QuoteDateTime\" :', b' \"2021-10-13T03:37:00\",\\n      \"QuoteIds\" : [ 5, 8 ]\\n    }, {\\n      \"PartialDate\" : \"2021-11\",\\n      \"Price\" : 336,\\n      \"QuoteD', b'ateTime\" : \"2021-10-10T20:13:00\",\\n      \"QuoteIds\" : [ 1, 6 ]\\n    }, {\\n      \"PartialDate\" : \"2021-12\",\\n      \"Price\" : 383,\\n   ', b'   \"QuoteDateTime\" : \"2021-10-11T08:23:00\",\\n      \"QuoteIds\" : [ 4, 9 ]\\n    }, {\\n      \"PartialDate\" : \"2022-01\",\\n      \"Price\" ', b': 378,\\n      \"QuoteDateTime\" : \"2021-10-11T19:24:00\",\\n      \"QuoteIds\" : [ 3, 7 ]\\n    }, {\\n      \"PartialDate\" : \"2022-03\",\\n    ', b'  \"Price\" : 378,\\n      \"QuoteDateTime\" : \"2021-10-11T17:10:00\",\\n      \"QuoteIds\" : [ 2 ]\\n    } ]\\n  }\\n}']\n",
      "[b'{\\n  \"Quotes\" : [ {\\n    \"QuoteId\" : 1,\\n    \"MinPrice\" : 336,\\n    \"Direct\" : false,\\n    \"OutboundLeg\" : {\\n      \"CarrierIds\" : [ 1', b'190 ],\\n      \"OriginId\" : 40595,\\n      \"DestinationId\" : 42601,\\n      \"DepartureDate\" : \"2021-11-12T00:00:00\"\\n    },\\n    \"QuoteD', b'ateTime\" : \"2021-10-10T20:13:00\"\\n  }, {\\n    \"QuoteId\" : 2,\\n    \"MinPrice\" : 378,\\n    \"Direct\" : false,\\n    \"OutboundLeg\" : {\\n   ', b'   \"CarrierIds\" : [ 1368 ],\\n      \"OriginId\" : 40595,\\n      \"DestinationId\" : 42601,\\n      \"DepartureDate\" : \"2022-03-26T00:00:0', b'0\"\\n    },\\n    \"QuoteDateTime\" : \"2021-10-11T17:10:00\"\\n  }, {\\n    \"QuoteId\" : 3,\\n    \"MinPrice\" : 378,\\n    \"Direct\" : false,\\n    ', b'\"OutboundLeg\" : {\\n      \"CarrierIds\" : [ 1368 ],\\n      \"OriginId\" : 40595,\\n      \"DestinationId\" : 42601,\\n      \"DepartureDate\" ', b': \"2022-01-03T00:00:00\"\\n    },\\n    \"QuoteDateTime\" : \"2021-10-11T19:24:00\"\\n  }, {\\n    \"QuoteId\" : 4,\\n    \"MinPrice\" : 383,\\n    \"', b'Direct\" : false,\\n    \"OutboundLeg\" : {\\n      \"CarrierIds\" : [ 1324 ],\\n      \"OriginId\" : 40595,\\n      \"DestinationId\" : 42601,\\n ', b'     \"DepartureDate\" : \"2021-12-10T00:00:00\"\\n    },\\n    \"QuoteDateTime\" : \"2021-10-11T08:23:00\"\\n  }, {\\n    \"QuoteId\" : 5,\\n    \"M', b'inPrice\" : 462,\\n    \"Direct\" : false,\\n    \"OutboundLeg\" : {\\n      \"CarrierIds\" : [ 50441 ],\\n      \"OriginId\" : 40595,\\n      \"Des', b'tinationId\" : 42601,\\n      \"DepartureDate\" : \"2021-10-17T00:00:00\"\\n    },\\n    \"QuoteDateTime\" : \"2021-10-13T03:37:00\"\\n  }, {\\n   ', b' \"QuoteId\" : 6,\\n    \"MinPrice\" : 510,\\n    \"Direct\" : true,\\n    \"OutboundLeg\" : {\\n      \"CarrierIds\" : [ 1324 ],\\n      \"OriginId\"', b' : 40595,\\n      \"DestinationId\" : 42601,\\n      \"DepartureDate\" : \"2021-11-15T00:00:00\"\\n    },\\n    \"QuoteDateTime\" : \"2021-10-11T', b'07:08:00\"\\n  }, {\\n    \"QuoteId\" : 7,\\n    \"MinPrice\" : 523,\\n    \"Direct\" : true,\\n    \"OutboundLeg\" : {\\n      \"CarrierIds\" : [ 1324', b' ],\\n      \"OriginId\" : 40595,\\n      \"DestinationId\" : 42601,\\n      \"DepartureDate\" : \"2022-01-03T00:00:00\"\\n    },\\n    \"QuoteDate', b'Time\" : \"2021-10-11T19:24:00\"\\n  }, {\\n    \"QuoteId\" : 8,\\n    \"MinPrice\" : 611,\\n    \"Direct\" : true,\\n    \"OutboundLeg\" : {\\n      \"', b'CarrierIds\" : [ 1324 ],\\n      \"OriginId\" : 40595,\\n      \"DestinationId\" : 42601,\\n      \"DepartureDate\" : \"2021-10-25T00:00:00\"\\n ', b'   },\\n    \"QuoteDateTime\" : \"2021-10-11T23:18:00\"\\n  }, {\\n    \"QuoteId\" : 9,\\n    \"MinPrice\" : 769,\\n    \"Direct\" : true,\\n    \"Outb', b'oundLeg\" : {\\n      \"CarrierIds\" : [ 1324 ],\\n      \"OriginId\" : 40595,\\n      \"DestinationId\" : 42601,\\n      \"DepartureDate\" : \"20', b'21-12-25T00:00:00\"\\n    },\\n    \"QuoteDateTime\" : \"2021-10-14T06:35:00\"\\n  } ],\\n  \"Carriers\" : [ {\\n    \"CarrierId\" : 1190,\\n    \"Nam', b'e\" : \"transavia\"\\n  }, {\\n    \"CarrierId\" : 1324,\\n    \"Name\" : \"KLM\"\\n  }, {\\n    \"CarrierId\" : 50441,\\n    \"Name\" : \"easyJet\"\\n  }, {', b'\\n    \"CarrierId\" : 1368,\\n    \"Name\" : \"Lufthansa\"\\n  } ],\\n  \"Places\" : [ {\\n    \"Name\" : \"Amsterdam Schiphol\",\\n    \"Type\" : \"Stati', b'on\",\\n    \"PlaceId\" : 40595,\\n    \"IataCode\" : \"AMS\",\\n    \"SkyscannerCode\" : \"AMS\",\\n    \"CityName\" : \"Amsterdam\",\\n    \"CityId\" : \"', b'AMST\",\\n    \"CountryName\" : \"Nederland\"\\n  }, {\\n    \"Name\" : \"Bridgetown\",\\n    \"Type\" : \"Station\",\\n    \"PlaceId\" : 42601,\\n    \"Iat', b'aCode\" : \"BGI\",\\n    \"SkyscannerCode\" : \"BGI\",\\n    \"CityName\" : \"Bridgetown\",\\n    \"CityId\" : \"BGIA\",\\n    \"CountryName\" : \"Barbado', b's\"\\n  } ],\\n  \"Currencies\" : [ {\\n    \"Code\" : \"EUR\",\\n    \"Symbol\" : \"\\xe2\\x82\\xac\",\\n    \"ThousandsSeparator\" : \".\",\\n    \"DecimalSeparator\" ', b': \",\",\\n    \"SymbolOnLeft\" : false,\\n    \"SpaceBetweenAmountAndSymbol\" : true,\\n    \"RoundingCoefficient\" : 0,\\n    \"DecimalDigits\" ', b': 2\\n  } ],\\n  \"Dates\" : {\\n    \"OutboundDates\" : [ {\\n      \"PartialDate\" : \"2021-10\",\\n      \"Price\" : 462,\\n      \"QuoteDateTime\" :', b' \"2021-10-13T03:37:00\",\\n      \"QuoteIds\" : [ 5, 8 ]\\n    }, {\\n      \"PartialDate\" : \"2021-11\",\\n      \"Price\" : 336,\\n      \"QuoteD', b'ateTime\" : \"2021-10-10T20:13:00\",\\n      \"QuoteIds\" : [ 1, 6 ]\\n    }, {\\n      \"PartialDate\" : \"2021-12\",\\n      \"Price\" : 383,\\n   ', b'   \"QuoteDateTime\" : \"2021-10-11T08:23:00\",\\n      \"QuoteIds\" : [ 4, 9 ]\\n    }, {\\n      \"PartialDate\" : \"2022-01\",\\n      \"Price\" ', b': 378,\\n      \"QuoteDateTime\" : \"2021-10-11T19:24:00\",\\n      \"QuoteIds\" : [ 3, 7 ]\\n    }, {\\n      \"PartialDate\" : \"2022-03\",\\n    ', b'  \"Price\" : 378,\\n      \"QuoteDateTime\" : \"2021-10-11T17:10:00\",\\n      \"QuoteIds\" : [ 2 ]\\n    } ]\\n  }\\n}']\n"
     ]
    },
    {
     "name": "stdout",
     "output_type": "stream",
     "text": [
      "[b'{\\n  \"Quotes\" : [ {\\n    \"QuoteId\" : 1,\\n    \"MinPrice\" : 336,\\n    \"Direct\" : false,\\n    \"OutboundLeg\" : {\\n      \"CarrierIds\" : [ 1', b'190 ],\\n      \"OriginId\" : 40595,\\n      \"DestinationId\" : 42601,\\n      \"DepartureDate\" : \"2021-11-12T00:00:00\"\\n    },\\n    \"QuoteD', b'ateTime\" : \"2021-10-10T20:13:00\"\\n  }, {\\n    \"QuoteId\" : 2,\\n    \"MinPrice\" : 378,\\n    \"Direct\" : false,\\n    \"OutboundLeg\" : {\\n   ', b'   \"CarrierIds\" : [ 1368 ],\\n      \"OriginId\" : 40595,\\n      \"DestinationId\" : 42601,\\n      \"DepartureDate\" : \"2022-03-26T00:00:0', b'0\"\\n    },\\n    \"QuoteDateTime\" : \"2021-10-11T17:10:00\"\\n  }, {\\n    \"QuoteId\" : 3,\\n    \"MinPrice\" : 378,\\n    \"Direct\" : false,\\n    ', b'\"OutboundLeg\" : {\\n      \"CarrierIds\" : [ 1368 ],\\n      \"OriginId\" : 40595,\\n      \"DestinationId\" : 42601,\\n      \"DepartureDate\" ', b': \"2022-01-03T00:00:00\"\\n    },\\n    \"QuoteDateTime\" : \"2021-10-11T19:24:00\"\\n  }, {\\n    \"QuoteId\" : 4,\\n    \"MinPrice\" : 383,\\n    \"', b'Direct\" : false,\\n    \"OutboundLeg\" : {\\n      \"CarrierIds\" : [ 1324 ],\\n      \"OriginId\" : 40595,\\n      \"DestinationId\" : 42601,\\n ', b'     \"DepartureDate\" : \"2021-12-10T00:00:00\"\\n    },\\n    \"QuoteDateTime\" : \"2021-10-11T08:23:00\"\\n  }, {\\n    \"QuoteId\" : 5,\\n    \"M', b'inPrice\" : 462,\\n    \"Direct\" : false,\\n    \"OutboundLeg\" : {\\n      \"CarrierIds\" : [ 50441 ],\\n      \"OriginId\" : 40595,\\n      \"Des', b'tinationId\" : 42601,\\n      \"DepartureDate\" : \"2021-10-17T00:00:00\"\\n    },\\n    \"QuoteDateTime\" : \"2021-10-13T03:37:00\"\\n  }, {\\n   ', b' \"QuoteId\" : 6,\\n    \"MinPrice\" : 510,\\n    \"Direct\" : true,\\n    \"OutboundLeg\" : {\\n      \"CarrierIds\" : [ 1324 ],\\n      \"OriginId\"', b' : 40595,\\n      \"DestinationId\" : 42601,\\n      \"DepartureDate\" : \"2021-11-15T00:00:00\"\\n    },\\n    \"QuoteDateTime\" : \"2021-10-11T', b'07:08:00\"\\n  }, {\\n    \"QuoteId\" : 7,\\n    \"MinPrice\" : 523,\\n    \"Direct\" : true,\\n    \"OutboundLeg\" : {\\n      \"CarrierIds\" : [ 1324', b' ],\\n      \"OriginId\" : 40595,\\n      \"DestinationId\" : 42601,\\n      \"DepartureDate\" : \"2022-01-03T00:00:00\"\\n    },\\n    \"QuoteDate', b'Time\" : \"2021-10-11T19:24:00\"\\n  }, {\\n    \"QuoteId\" : 8,\\n    \"MinPrice\" : 611,\\n    \"Direct\" : true,\\n    \"OutboundLeg\" : {\\n      \"', b'CarrierIds\" : [ 1324 ],\\n      \"OriginId\" : 40595,\\n      \"DestinationId\" : 42601,\\n      \"DepartureDate\" : \"2021-10-25T00:00:00\"\\n ', b'   },\\n    \"QuoteDateTime\" : \"2021-10-11T23:18:00\"\\n  }, {\\n    \"QuoteId\" : 9,\\n    \"MinPrice\" : 769,\\n    \"Direct\" : true,\\n    \"Outb', b'oundLeg\" : {\\n      \"CarrierIds\" : [ 1324 ],\\n      \"OriginId\" : 40595,\\n      \"DestinationId\" : 42601,\\n      \"DepartureDate\" : \"20', b'21-12-25T00:00:00\"\\n    },\\n    \"QuoteDateTime\" : \"2021-10-14T06:35:00\"\\n  } ],\\n  \"Carriers\" : [ {\\n    \"CarrierId\" : 1190,\\n    \"Nam', b'e\" : \"transavia\"\\n  }, {\\n    \"CarrierId\" : 1324,\\n    \"Name\" : \"KLM\"\\n  }, {\\n    \"CarrierId\" : 50441,\\n    \"Name\" : \"easyJet\"\\n  }, {', b'\\n    \"CarrierId\" : 1368,\\n    \"Name\" : \"Lufthansa\"\\n  } ],\\n  \"Places\" : [ {\\n    \"Name\" : \"Amsterdam Schiphol\",\\n    \"Type\" : \"Stati', b'on\",\\n    \"PlaceId\" : 40595,\\n    \"IataCode\" : \"AMS\",\\n    \"SkyscannerCode\" : \"AMS\",\\n    \"CityName\" : \"Amsterdam\",\\n    \"CityId\" : \"', b'AMST\",\\n    \"CountryName\" : \"Nederland\"\\n  }, {\\n    \"Name\" : \"Bridgetown\",\\n    \"Type\" : \"Station\",\\n    \"PlaceId\" : 42601,\\n    \"Iat', b'aCode\" : \"BGI\",\\n    \"SkyscannerCode\" : \"BGI\",\\n    \"CityName\" : \"Bridgetown\",\\n    \"CityId\" : \"BGIA\",\\n    \"CountryName\" : \"Barbado', b's\"\\n  } ],\\n  \"Currencies\" : [ {\\n    \"Code\" : \"EUR\",\\n    \"Symbol\" : \"\\xe2\\x82\\xac\",\\n    \"ThousandsSeparator\" : \".\",\\n    \"DecimalSeparator\" ', b': \",\",\\n    \"SymbolOnLeft\" : false,\\n    \"SpaceBetweenAmountAndSymbol\" : true,\\n    \"RoundingCoefficient\" : 0,\\n    \"DecimalDigits\" ', b': 2\\n  } ],\\n  \"Dates\" : {\\n    \"OutboundDates\" : [ {\\n      \"PartialDate\" : \"2021-10\",\\n      \"Price\" : 462,\\n      \"QuoteDateTime\" :', b' \"2021-10-13T03:37:00\",\\n      \"QuoteIds\" : [ 5, 8 ]\\n    }, {\\n      \"PartialDate\" : \"2021-11\",\\n      \"Price\" : 336,\\n      \"QuoteD', b'ateTime\" : \"2021-10-10T20:13:00\",\\n      \"QuoteIds\" : [ 1, 6 ]\\n    }, {\\n      \"PartialDate\" : \"2021-12\",\\n      \"Price\" : 383,\\n   ', b'   \"QuoteDateTime\" : \"2021-10-11T08:23:00\",\\n      \"QuoteIds\" : [ 4, 9 ]\\n    }, {\\n      \"PartialDate\" : \"2022-01\",\\n      \"Price\" ', b': 378,\\n      \"QuoteDateTime\" : \"2021-10-11T19:24:00\",\\n      \"QuoteIds\" : [ 3, 7 ]\\n    }, {\\n      \"PartialDate\" : \"2022-03\",\\n    ', b'  \"Price\" : 378,\\n      \"QuoteDateTime\" : \"2021-10-11T17:10:00\",\\n      \"QuoteIds\" : [ 2 ]\\n    } ]\\n  }\\n}']\n",
      "[b'{\\n  \"Quotes\" : [ {\\n    \"QuoteId\" : 1,\\n    \"MinPrice\" : 336,\\n    \"Direct\" : false,\\n    \"OutboundLeg\" : {\\n      \"CarrierIds\" : [ 1', b'190 ],\\n      \"OriginId\" : 40595,\\n      \"DestinationId\" : 42601,\\n      \"DepartureDate\" : \"2021-11-12T00:00:00\"\\n    },\\n    \"QuoteD', b'ateTime\" : \"2021-10-10T20:13:00\"\\n  }, {\\n    \"QuoteId\" : 2,\\n    \"MinPrice\" : 378,\\n    \"Direct\" : false,\\n    \"OutboundLeg\" : {\\n   ', b'   \"CarrierIds\" : [ 1368 ],\\n      \"OriginId\" : 40595,\\n      \"DestinationId\" : 42601,\\n      \"DepartureDate\" : \"2022-03-26T00:00:0', b'0\"\\n    },\\n    \"QuoteDateTime\" : \"2021-10-11T17:10:00\"\\n  }, {\\n    \"QuoteId\" : 3,\\n    \"MinPrice\" : 378,\\n    \"Direct\" : false,\\n    ', b'\"OutboundLeg\" : {\\n      \"CarrierIds\" : [ 1368 ],\\n      \"OriginId\" : 40595,\\n      \"DestinationId\" : 42601,\\n      \"DepartureDate\" ', b': \"2022-01-03T00:00:00\"\\n    },\\n    \"QuoteDateTime\" : \"2021-10-11T19:24:00\"\\n  }, {\\n    \"QuoteId\" : 4,\\n    \"MinPrice\" : 383,\\n    \"', b'Direct\" : false,\\n    \"OutboundLeg\" : {\\n      \"CarrierIds\" : [ 1324 ],\\n      \"OriginId\" : 40595,\\n      \"DestinationId\" : 42601,\\n ', b'     \"DepartureDate\" : \"2021-12-10T00:00:00\"\\n    },\\n    \"QuoteDateTime\" : \"2021-10-11T08:23:00\"\\n  }, {\\n    \"QuoteId\" : 5,\\n    \"M', b'inPrice\" : 462,\\n    \"Direct\" : false,\\n    \"OutboundLeg\" : {\\n      \"CarrierIds\" : [ 50441 ],\\n      \"OriginId\" : 40595,\\n      \"Des', b'tinationId\" : 42601,\\n      \"DepartureDate\" : \"2021-10-17T00:00:00\"\\n    },\\n    \"QuoteDateTime\" : \"2021-10-13T03:37:00\"\\n  }, {\\n   ', b' \"QuoteId\" : 6,\\n    \"MinPrice\" : 510,\\n    \"Direct\" : true,\\n    \"OutboundLeg\" : {\\n      \"CarrierIds\" : [ 1324 ],\\n      \"OriginId\"', b' : 40595,\\n      \"DestinationId\" : 42601,\\n      \"DepartureDate\" : \"2021-11-15T00:00:00\"\\n    },\\n    \"QuoteDateTime\" : \"2021-10-11T', b'07:08:00\"\\n  }, {\\n    \"QuoteId\" : 7,\\n    \"MinPrice\" : 523,\\n    \"Direct\" : true,\\n    \"OutboundLeg\" : {\\n      \"CarrierIds\" : [ 1324', b' ],\\n      \"OriginId\" : 40595,\\n      \"DestinationId\" : 42601,\\n      \"DepartureDate\" : \"2022-01-03T00:00:00\"\\n    },\\n    \"QuoteDate', b'Time\" : \"2021-10-11T19:24:00\"\\n  }, {\\n    \"QuoteId\" : 8,\\n    \"MinPrice\" : 611,\\n    \"Direct\" : true,\\n    \"OutboundLeg\" : {\\n      \"', b'CarrierIds\" : [ 1324 ],\\n      \"OriginId\" : 40595,\\n      \"DestinationId\" : 42601,\\n      \"DepartureDate\" : \"2021-10-25T00:00:00\"\\n ', b'   },\\n    \"QuoteDateTime\" : \"2021-10-11T23:18:00\"\\n  }, {\\n    \"QuoteId\" : 9,\\n    \"MinPrice\" : 769,\\n    \"Direct\" : true,\\n    \"Outb', b'oundLeg\" : {\\n      \"CarrierIds\" : [ 1324 ],\\n      \"OriginId\" : 40595,\\n      \"DestinationId\" : 42601,\\n      \"DepartureDate\" : \"20', b'21-12-25T00:00:00\"\\n    },\\n    \"QuoteDateTime\" : \"2021-10-14T06:35:00\"\\n  } ],\\n  \"Carriers\" : [ {\\n    \"CarrierId\" : 1190,\\n    \"Nam', b'e\" : \"transavia\"\\n  }, {\\n    \"CarrierId\" : 1324,\\n    \"Name\" : \"KLM\"\\n  }, {\\n    \"CarrierId\" : 50441,\\n    \"Name\" : \"easyJet\"\\n  }, {', b'\\n    \"CarrierId\" : 1368,\\n    \"Name\" : \"Lufthansa\"\\n  } ],\\n  \"Places\" : [ {\\n    \"Name\" : \"Amsterdam Schiphol\",\\n    \"Type\" : \"Stati', b'on\",\\n    \"PlaceId\" : 40595,\\n    \"IataCode\" : \"AMS\",\\n    \"SkyscannerCode\" : \"AMS\",\\n    \"CityName\" : \"Amsterdam\",\\n    \"CityId\" : \"', b'AMST\",\\n    \"CountryName\" : \"Nederland\"\\n  }, {\\n    \"Name\" : \"Bridgetown\",\\n    \"Type\" : \"Station\",\\n    \"PlaceId\" : 42601,\\n    \"Iat', b'aCode\" : \"BGI\",\\n    \"SkyscannerCode\" : \"BGI\",\\n    \"CityName\" : \"Bridgetown\",\\n    \"CityId\" : \"BGIA\",\\n    \"CountryName\" : \"Barbado', b's\"\\n  } ],\\n  \"Currencies\" : [ {\\n    \"Code\" : \"EUR\",\\n    \"Symbol\" : \"\\xe2\\x82\\xac\",\\n    \"ThousandsSeparator\" : \".\",\\n    \"DecimalSeparator\" ', b': \",\",\\n    \"SymbolOnLeft\" : false,\\n    \"SpaceBetweenAmountAndSymbol\" : true,\\n    \"RoundingCoefficient\" : 0,\\n    \"DecimalDigits\" ', b': 2\\n  } ],\\n  \"Dates\" : {\\n    \"OutboundDates\" : [ {\\n      \"PartialDate\" : \"2021-10\",\\n      \"Price\" : 462,\\n      \"QuoteDateTime\" :', b' \"2021-10-13T03:37:00\",\\n      \"QuoteIds\" : [ 5, 8 ]\\n    }, {\\n      \"PartialDate\" : \"2021-11\",\\n      \"Price\" : 336,\\n      \"QuoteD', b'ateTime\" : \"2021-10-10T20:13:00\",\\n      \"QuoteIds\" : [ 1, 6 ]\\n    }, {\\n      \"PartialDate\" : \"2021-12\",\\n      \"Price\" : 383,\\n   ', b'   \"QuoteDateTime\" : \"2021-10-11T08:23:00\",\\n      \"QuoteIds\" : [ 4, 9 ]\\n    }, {\\n      \"PartialDate\" : \"2022-01\",\\n      \"Price\" ', b': 378,\\n      \"QuoteDateTime\" : \"2021-10-11T19:24:00\",\\n      \"QuoteIds\" : [ 3, 7 ]\\n    }, {\\n      \"PartialDate\" : \"2022-03\",\\n    ', b'  \"Price\" : 378,\\n      \"QuoteDateTime\" : \"2021-10-11T17:10:00\",\\n      \"QuoteIds\" : [ 2 ]\\n    } ]\\n  }\\n}']\n"
     ]
    },
    {
     "name": "stdout",
     "output_type": "stream",
     "text": [
      "[b'{\\n  \"Quotes\" : [ {\\n    \"QuoteId\" : 1,\\n    \"MinPrice\" : 336,\\n    \"Direct\" : false,\\n    \"OutboundLeg\" : {\\n      \"CarrierIds\" : [ 1', b'190 ],\\n      \"OriginId\" : 40595,\\n      \"DestinationId\" : 42601,\\n      \"DepartureDate\" : \"2021-11-12T00:00:00\"\\n    },\\n    \"QuoteD', b'ateTime\" : \"2021-10-10T20:13:00\"\\n  }, {\\n    \"QuoteId\" : 2,\\n    \"MinPrice\" : 378,\\n    \"Direct\" : false,\\n    \"OutboundLeg\" : {\\n   ', b'   \"CarrierIds\" : [ 1368 ],\\n      \"OriginId\" : 40595,\\n      \"DestinationId\" : 42601,\\n      \"DepartureDate\" : \"2022-03-26T00:00:0', b'0\"\\n    },\\n    \"QuoteDateTime\" : \"2021-10-11T17:10:00\"\\n  }, {\\n    \"QuoteId\" : 3,\\n    \"MinPrice\" : 378,\\n    \"Direct\" : false,\\n    ', b'\"OutboundLeg\" : {\\n      \"CarrierIds\" : [ 1368 ],\\n      \"OriginId\" : 40595,\\n      \"DestinationId\" : 42601,\\n      \"DepartureDate\" ', b': \"2022-01-03T00:00:00\"\\n    },\\n    \"QuoteDateTime\" : \"2021-10-11T19:24:00\"\\n  }, {\\n    \"QuoteId\" : 4,\\n    \"MinPrice\" : 383,\\n    \"', b'Direct\" : false,\\n    \"OutboundLeg\" : {\\n      \"CarrierIds\" : [ 1324 ],\\n      \"OriginId\" : 40595,\\n      \"DestinationId\" : 42601,\\n ', b'     \"DepartureDate\" : \"2021-12-10T00:00:00\"\\n    },\\n    \"QuoteDateTime\" : \"2021-10-11T08:23:00\"\\n  }, {\\n    \"QuoteId\" : 5,\\n    \"M', b'inPrice\" : 462,\\n    \"Direct\" : false,\\n    \"OutboundLeg\" : {\\n      \"CarrierIds\" : [ 50441 ],\\n      \"OriginId\" : 40595,\\n      \"Des', b'tinationId\" : 42601,\\n      \"DepartureDate\" : \"2021-10-17T00:00:00\"\\n    },\\n    \"QuoteDateTime\" : \"2021-10-13T03:37:00\"\\n  }, {\\n   ', b' \"QuoteId\" : 6,\\n    \"MinPrice\" : 510,\\n    \"Direct\" : true,\\n    \"OutboundLeg\" : {\\n      \"CarrierIds\" : [ 1324 ],\\n      \"OriginId\"', b' : 40595,\\n      \"DestinationId\" : 42601,\\n      \"DepartureDate\" : \"2021-11-15T00:00:00\"\\n    },\\n    \"QuoteDateTime\" : \"2021-10-11T', b'07:08:00\"\\n  }, {\\n    \"QuoteId\" : 7,\\n    \"MinPrice\" : 523,\\n    \"Direct\" : true,\\n    \"OutboundLeg\" : {\\n      \"CarrierIds\" : [ 1324', b' ],\\n      \"OriginId\" : 40595,\\n      \"DestinationId\" : 42601,\\n      \"DepartureDate\" : \"2022-01-03T00:00:00\"\\n    },\\n    \"QuoteDate', b'Time\" : \"2021-10-11T19:24:00\"\\n  }, {\\n    \"QuoteId\" : 8,\\n    \"MinPrice\" : 611,\\n    \"Direct\" : true,\\n    \"OutboundLeg\" : {\\n      \"', b'CarrierIds\" : [ 1324 ],\\n      \"OriginId\" : 40595,\\n      \"DestinationId\" : 42601,\\n      \"DepartureDate\" : \"2021-10-25T00:00:00\"\\n ', b'   },\\n    \"QuoteDateTime\" : \"2021-10-11T23:18:00\"\\n  }, {\\n    \"QuoteId\" : 9,\\n    \"MinPrice\" : 769,\\n    \"Direct\" : true,\\n    \"Outb', b'oundLeg\" : {\\n      \"CarrierIds\" : [ 1324 ],\\n      \"OriginId\" : 40595,\\n      \"DestinationId\" : 42601,\\n      \"DepartureDate\" : \"20', b'21-12-25T00:00:00\"\\n    },\\n    \"QuoteDateTime\" : \"2021-10-14T06:35:00\"\\n  } ],\\n  \"Carriers\" : [ {\\n    \"CarrierId\" : 1190,\\n    \"Nam', b'e\" : \"transavia\"\\n  }, {\\n    \"CarrierId\" : 1324,\\n    \"Name\" : \"KLM\"\\n  }, {\\n    \"CarrierId\" : 50441,\\n    \"Name\" : \"easyJet\"\\n  }, {', b'\\n    \"CarrierId\" : 1368,\\n    \"Name\" : \"Lufthansa\"\\n  } ],\\n  \"Places\" : [ {\\n    \"Name\" : \"Amsterdam Schiphol\",\\n    \"Type\" : \"Stati', b'on\",\\n    \"PlaceId\" : 40595,\\n    \"IataCode\" : \"AMS\",\\n    \"SkyscannerCode\" : \"AMS\",\\n    \"CityName\" : \"Amsterdam\",\\n    \"CityId\" : \"', b'AMST\",\\n    \"CountryName\" : \"Nederland\"\\n  }, {\\n    \"Name\" : \"Bridgetown\",\\n    \"Type\" : \"Station\",\\n    \"PlaceId\" : 42601,\\n    \"Iat', b'aCode\" : \"BGI\",\\n    \"SkyscannerCode\" : \"BGI\",\\n    \"CityName\" : \"Bridgetown\",\\n    \"CityId\" : \"BGIA\",\\n    \"CountryName\" : \"Barbado', b's\"\\n  } ],\\n  \"Currencies\" : [ {\\n    \"Code\" : \"EUR\",\\n    \"Symbol\" : \"\\xe2\\x82\\xac\",\\n    \"ThousandsSeparator\" : \".\",\\n    \"DecimalSeparator\" ', b': \",\",\\n    \"SymbolOnLeft\" : false,\\n    \"SpaceBetweenAmountAndSymbol\" : true,\\n    \"RoundingCoefficient\" : 0,\\n    \"DecimalDigits\" ', b': 2\\n  } ],\\n  \"Dates\" : {\\n    \"OutboundDates\" : [ {\\n      \"PartialDate\" : \"2021-10\",\\n      \"QuoteDateTime\" : \"2021-10-13T03:37:00', b'\",\\n      \"Price\" : 462,\\n      \"QuoteIds\" : [ 5, 8 ]\\n    }, {\\n      \"PartialDate\" : \"2021-11\",\\n      \"QuoteDateTime\" : \"2021-10-1', b'0T20:13:00\",\\n      \"Price\" : 336,\\n      \"QuoteIds\" : [ 1, 6 ]\\n    }, {\\n      \"PartialDate\" : \"2021-12\",\\n      \"QuoteDateTime\" : ', b'\"2021-10-11T08:23:00\",\\n      \"Price\" : 383,\\n      \"QuoteIds\" : [ 4, 9 ]\\n    }, {\\n      \"PartialDate\" : \"2022-01\",\\n      \"QuoteDa', b'teTime\" : \"2021-10-11T19:24:00\",\\n      \"Price\" : 378,\\n      \"QuoteIds\" : [ 3, 7 ]\\n    }, {\\n      \"PartialDate\" : \"2022-03\",\\n    ', b'  \"QuoteDateTime\" : \"2021-10-11T17:10:00\",\\n      \"Price\" : 378,\\n      \"QuoteIds\" : [ 2 ]\\n    } ]\\n  }\\n}']\n",
      "[b'{\\n  \"Quotes\" : [ {\\n    \"QuoteId\" : 1,\\n    \"MinPrice\" : 336,\\n    \"Direct\" : false,\\n    \"OutboundLeg\" : {\\n      \"CarrierIds\" : [ 1', b'190 ],\\n      \"OriginId\" : 40595,\\n      \"DestinationId\" : 42601,\\n      \"DepartureDate\" : \"2021-11-12T00:00:00\"\\n    },\\n    \"QuoteD', b'ateTime\" : \"2021-10-10T20:13:00\"\\n  }, {\\n    \"QuoteId\" : 2,\\n    \"MinPrice\" : 378,\\n    \"Direct\" : false,\\n    \"OutboundLeg\" : {\\n   ', b'   \"CarrierIds\" : [ 1368 ],\\n      \"OriginId\" : 40595,\\n      \"DestinationId\" : 42601,\\n      \"DepartureDate\" : \"2022-03-26T00:00:0', b'0\"\\n    },\\n    \"QuoteDateTime\" : \"2021-10-11T17:10:00\"\\n  }, {\\n    \"QuoteId\" : 3,\\n    \"MinPrice\" : 378,\\n    \"Direct\" : false,\\n    ', b'\"OutboundLeg\" : {\\n      \"CarrierIds\" : [ 1368 ],\\n      \"OriginId\" : 40595,\\n      \"DestinationId\" : 42601,\\n      \"DepartureDate\" ', b': \"2022-01-03T00:00:00\"\\n    },\\n    \"QuoteDateTime\" : \"2021-10-11T19:24:00\"\\n  }, {\\n    \"QuoteId\" : 4,\\n    \"MinPrice\" : 383,\\n    \"', b'Direct\" : false,\\n    \"OutboundLeg\" : {\\n      \"CarrierIds\" : [ 1324 ],\\n      \"OriginId\" : 40595,\\n      \"DestinationId\" : 42601,\\n ', b'     \"DepartureDate\" : \"2021-12-10T00:00:00\"\\n    },\\n    \"QuoteDateTime\" : \"2021-10-11T08:23:00\"\\n  }, {\\n    \"QuoteId\" : 5,\\n    \"M', b'inPrice\" : 462,\\n    \"Direct\" : false,\\n    \"OutboundLeg\" : {\\n      \"CarrierIds\" : [ 50441 ],\\n      \"OriginId\" : 40595,\\n      \"Des', b'tinationId\" : 42601,\\n      \"DepartureDate\" : \"2021-10-17T00:00:00\"\\n    },\\n    \"QuoteDateTime\" : \"2021-10-13T03:37:00\"\\n  }, {\\n   ', b' \"QuoteId\" : 6,\\n    \"MinPrice\" : 510,\\n    \"Direct\" : true,\\n    \"OutboundLeg\" : {\\n      \"CarrierIds\" : [ 1324 ],\\n      \"OriginId\"', b' : 40595,\\n      \"DestinationId\" : 42601,\\n      \"DepartureDate\" : \"2021-11-15T00:00:00\"\\n    },\\n    \"QuoteDateTime\" : \"2021-10-11T', b'07:08:00\"\\n  }, {\\n    \"QuoteId\" : 7,\\n    \"MinPrice\" : 523,\\n    \"Direct\" : true,\\n    \"OutboundLeg\" : {\\n      \"CarrierIds\" : [ 1324', b' ],\\n      \"OriginId\" : 40595,\\n      \"DestinationId\" : 42601,\\n      \"DepartureDate\" : \"2022-01-03T00:00:00\"\\n    },\\n    \"QuoteDate', b'Time\" : \"2021-10-11T19:24:00\"\\n  }, {\\n    \"QuoteId\" : 8,\\n    \"MinPrice\" : 611,\\n    \"Direct\" : true,\\n    \"OutboundLeg\" : {\\n      \"', b'CarrierIds\" : [ 1324 ],\\n      \"OriginId\" : 40595,\\n      \"DestinationId\" : 42601,\\n      \"DepartureDate\" : \"2021-10-25T00:00:00\"\\n ', b'   },\\n    \"QuoteDateTime\" : \"2021-10-11T23:18:00\"\\n  }, {\\n    \"QuoteId\" : 9,\\n    \"MinPrice\" : 769,\\n    \"Direct\" : true,\\n    \"Outb', b'oundLeg\" : {\\n      \"CarrierIds\" : [ 1324 ],\\n      \"OriginId\" : 40595,\\n      \"DestinationId\" : 42601,\\n      \"DepartureDate\" : \"20', b'21-12-25T00:00:00\"\\n    },\\n    \"QuoteDateTime\" : \"2021-10-14T06:35:00\"\\n  } ],\\n  \"Carriers\" : [ {\\n    \"CarrierId\" : 1190,\\n    \"Nam', b'e\" : \"transavia\"\\n  }, {\\n    \"CarrierId\" : 1324,\\n    \"Name\" : \"KLM\"\\n  }, {\\n    \"CarrierId\" : 50441,\\n    \"Name\" : \"easyJet\"\\n  }, {', b'\\n    \"CarrierId\" : 1368,\\n    \"Name\" : \"Lufthansa\"\\n  } ],\\n  \"Places\" : [ {\\n    \"Name\" : \"Amsterdam Schiphol\",\\n    \"Type\" : \"Stati', b'on\",\\n    \"PlaceId\" : 40595,\\n    \"IataCode\" : \"AMS\",\\n    \"SkyscannerCode\" : \"AMS\",\\n    \"CityName\" : \"Amsterdam\",\\n    \"CityId\" : \"', b'AMST\",\\n    \"CountryName\" : \"Nederland\"\\n  }, {\\n    \"Name\" : \"Bridgetown\",\\n    \"Type\" : \"Station\",\\n    \"PlaceId\" : 42601,\\n    \"Iat', b'aCode\" : \"BGI\",\\n    \"SkyscannerCode\" : \"BGI\",\\n    \"CityName\" : \"Bridgetown\",\\n    \"CityId\" : \"BGIA\",\\n    \"CountryName\" : \"Barbado', b's\"\\n  } ],\\n  \"Currencies\" : [ {\\n    \"Code\" : \"EUR\",\\n    \"Symbol\" : \"\\xe2\\x82\\xac\",\\n    \"ThousandsSeparator\" : \".\",\\n    \"DecimalSeparator\" ', b': \",\",\\n    \"SymbolOnLeft\" : false,\\n    \"SpaceBetweenAmountAndSymbol\" : true,\\n    \"RoundingCoefficient\" : 0,\\n    \"DecimalDigits\" ', b': 2\\n  } ],\\n  \"Dates\" : {\\n    \"OutboundDates\" : [ {\\n      \"PartialDate\" : \"2021-10\",\\n      \"QuoteDateTime\" : \"2021-10-13T03:37:00', b'\",\\n      \"Price\" : 462,\\n      \"QuoteIds\" : [ 5, 8 ]\\n    }, {\\n      \"PartialDate\" : \"2021-11\",\\n      \"QuoteDateTime\" : \"2021-10-1', b'0T20:13:00\",\\n      \"Price\" : 336,\\n      \"QuoteIds\" : [ 1, 6 ]\\n    }, {\\n      \"PartialDate\" : \"2021-12\",\\n      \"QuoteDateTime\" : ', b'\"2021-10-11T08:23:00\",\\n      \"Price\" : 383,\\n      \"QuoteIds\" : [ 4, 9 ]\\n    }, {\\n      \"PartialDate\" : \"2022-01\",\\n      \"QuoteDa', b'teTime\" : \"2021-10-11T19:24:00\",\\n      \"Price\" : 378,\\n      \"QuoteIds\" : [ 3, 7 ]\\n    }, {\\n      \"PartialDate\" : \"2022-03\",\\n    ', b'  \"QuoteDateTime\" : \"2021-10-11T17:10:00\",\\n      \"Price\" : 378,\\n      \"QuoteIds\" : [ 2 ]\\n    } ]\\n  }\\n}']\n"
     ]
    },
    {
     "name": "stdout",
     "output_type": "stream",
     "text": [
      "[b'{\\n  \"Quotes\" : [ {\\n    \"QuoteId\" : 1,\\n    \"MinPrice\" : 336,\\n    \"Direct\" : false,\\n    \"OutboundLeg\" : {\\n      \"CarrierIds\" : [ 1', b'190 ],\\n      \"OriginId\" : 40595,\\n      \"DestinationId\" : 42601,\\n      \"DepartureDate\" : \"2021-11-12T00:00:00\"\\n    },\\n    \"QuoteD', b'ateTime\" : \"2021-10-10T20:13:00\"\\n  }, {\\n    \"QuoteId\" : 2,\\n    \"MinPrice\" : 378,\\n    \"Direct\" : false,\\n    \"OutboundLeg\" : {\\n   ', b'   \"CarrierIds\" : [ 1368 ],\\n      \"OriginId\" : 40595,\\n      \"DestinationId\" : 42601,\\n      \"DepartureDate\" : \"2022-03-26T00:00:0', b'0\"\\n    },\\n    \"QuoteDateTime\" : \"2021-10-11T17:10:00\"\\n  }, {\\n    \"QuoteId\" : 3,\\n    \"MinPrice\" : 378,\\n    \"Direct\" : false,\\n    ', b'\"OutboundLeg\" : {\\n      \"CarrierIds\" : [ 1368 ],\\n      \"OriginId\" : 40595,\\n      \"DestinationId\" : 42601,\\n      \"DepartureDate\" ', b': \"2022-01-03T00:00:00\"\\n    },\\n    \"QuoteDateTime\" : \"2021-10-11T19:24:00\"\\n  }, {\\n    \"QuoteId\" : 4,\\n    \"MinPrice\" : 383,\\n    \"', b'Direct\" : false,\\n    \"OutboundLeg\" : {\\n      \"CarrierIds\" : [ 1324 ],\\n      \"OriginId\" : 40595,\\n      \"DestinationId\" : 42601,\\n ', b'     \"DepartureDate\" : \"2021-12-10T00:00:00\"\\n    },\\n    \"QuoteDateTime\" : \"2021-10-11T08:23:00\"\\n  }, {\\n    \"QuoteId\" : 5,\\n    \"M', b'inPrice\" : 462,\\n    \"Direct\" : false,\\n    \"OutboundLeg\" : {\\n      \"CarrierIds\" : [ 50441 ],\\n      \"OriginId\" : 40595,\\n      \"Des', b'tinationId\" : 42601,\\n      \"DepartureDate\" : \"2021-10-17T00:00:00\"\\n    },\\n    \"QuoteDateTime\" : \"2021-10-13T03:37:00\"\\n  }, {\\n   ', b' \"QuoteId\" : 6,\\n    \"MinPrice\" : 510,\\n    \"Direct\" : true,\\n    \"OutboundLeg\" : {\\n      \"CarrierIds\" : [ 1324 ],\\n      \"OriginId\"', b' : 40595,\\n      \"DestinationId\" : 42601,\\n      \"DepartureDate\" : \"2021-11-15T00:00:00\"\\n    },\\n    \"QuoteDateTime\" : \"2021-10-11T', b'07:08:00\"\\n  }, {\\n    \"QuoteId\" : 7,\\n    \"MinPrice\" : 523,\\n    \"Direct\" : true,\\n    \"OutboundLeg\" : {\\n      \"CarrierIds\" : [ 1324', b' ],\\n      \"OriginId\" : 40595,\\n      \"DestinationId\" : 42601,\\n      \"DepartureDate\" : \"2022-01-03T00:00:00\"\\n    },\\n    \"QuoteDate', b'Time\" : \"2021-10-11T19:24:00\"\\n  }, {\\n    \"QuoteId\" : 8,\\n    \"MinPrice\" : 611,\\n    \"Direct\" : true,\\n    \"OutboundLeg\" : {\\n      \"', b'CarrierIds\" : [ 1324 ],\\n      \"OriginId\" : 40595,\\n      \"DestinationId\" : 42601,\\n      \"DepartureDate\" : \"2021-10-25T00:00:00\"\\n ', b'   },\\n    \"QuoteDateTime\" : \"2021-10-11T23:18:00\"\\n  }, {\\n    \"QuoteId\" : 9,\\n    \"MinPrice\" : 769,\\n    \"Direct\" : true,\\n    \"Outb', b'oundLeg\" : {\\n      \"CarrierIds\" : [ 1324 ],\\n      \"OriginId\" : 40595,\\n      \"DestinationId\" : 42601,\\n      \"DepartureDate\" : \"20', b'21-12-25T00:00:00\"\\n    },\\n    \"QuoteDateTime\" : \"2021-10-14T06:35:00\"\\n  } ],\\n  \"Carriers\" : [ {\\n    \"CarrierId\" : 1190,\\n    \"Nam', b'e\" : \"transavia\"\\n  }, {\\n    \"CarrierId\" : 1324,\\n    \"Name\" : \"KLM\"\\n  }, {\\n    \"CarrierId\" : 50441,\\n    \"Name\" : \"easyJet\"\\n  }, {', b'\\n    \"CarrierId\" : 1368,\\n    \"Name\" : \"Lufthansa\"\\n  } ],\\n  \"Places\" : [ {\\n    \"Name\" : \"Amsterdam Schiphol\",\\n    \"Type\" : \"Stati', b'on\",\\n    \"PlaceId\" : 40595,\\n    \"IataCode\" : \"AMS\",\\n    \"SkyscannerCode\" : \"AMS\",\\n    \"CityName\" : \"Amsterdam\",\\n    \"CityId\" : \"', b'AMST\",\\n    \"CountryName\" : \"Nederland\"\\n  }, {\\n    \"Name\" : \"Bridgetown\",\\n    \"Type\" : \"Station\",\\n    \"PlaceId\" : 42601,\\n    \"Iat', b'aCode\" : \"BGI\",\\n    \"SkyscannerCode\" : \"BGI\",\\n    \"CityName\" : \"Bridgetown\",\\n    \"CityId\" : \"BGIA\",\\n    \"CountryName\" : \"Barbado', b's\"\\n  } ],\\n  \"Currencies\" : [ {\\n    \"Code\" : \"EUR\",\\n    \"Symbol\" : \"\\xe2\\x82\\xac\",\\n    \"ThousandsSeparator\" : \".\",\\n    \"DecimalSeparator\" ', b': \",\",\\n    \"SymbolOnLeft\" : false,\\n    \"SpaceBetweenAmountAndSymbol\" : true,\\n    \"RoundingCoefficient\" : 0,\\n    \"DecimalDigits\" ', b': 2\\n  } ],\\n  \"Dates\" : {\\n    \"OutboundDates\" : [ {\\n      \"PartialDate\" : \"2021-10\",\\n      \"Price\" : 462,\\n      \"QuoteDateTime\" :', b' \"2021-10-13T03:37:00\",\\n      \"QuoteIds\" : [ 5, 8 ]\\n    }, {\\n      \"PartialDate\" : \"2021-11\",\\n      \"Price\" : 336,\\n      \"QuoteD', b'ateTime\" : \"2021-10-10T20:13:00\",\\n      \"QuoteIds\" : [ 1, 6 ]\\n    }, {\\n      \"PartialDate\" : \"2021-12\",\\n      \"Price\" : 383,\\n   ', b'   \"QuoteDateTime\" : \"2021-10-11T08:23:00\",\\n      \"QuoteIds\" : [ 4, 9 ]\\n    }, {\\n      \"PartialDate\" : \"2022-01\",\\n      \"Price\" ', b': 378,\\n      \"QuoteDateTime\" : \"2021-10-11T19:24:00\",\\n      \"QuoteIds\" : [ 3, 7 ]\\n    }, {\\n      \"PartialDate\" : \"2022-03\",\\n    ', b'  \"Price\" : 378,\\n      \"QuoteDateTime\" : \"2021-10-11T17:10:00\",\\n      \"QuoteIds\" : [ 2 ]\\n    } ]\\n  }\\n}']\n",
      "[b'{\\n  \"Quotes\" : [ {\\n    \"QuoteId\" : 1,\\n    \"MinPrice\" : 336,\\n    \"Direct\" : false,\\n    \"OutboundLeg\" : {\\n      \"CarrierIds\" : [ 1', b'190 ],\\n      \"OriginId\" : 40595,\\n      \"DestinationId\" : 42601,\\n      \"DepartureDate\" : \"2021-11-12T00:00:00\"\\n    },\\n    \"QuoteD', b'ateTime\" : \"2021-10-10T20:13:00\"\\n  }, {\\n    \"QuoteId\" : 2,\\n    \"MinPrice\" : 378,\\n    \"Direct\" : false,\\n    \"OutboundLeg\" : {\\n   ', b'   \"CarrierIds\" : [ 1368 ],\\n      \"OriginId\" : 40595,\\n      \"DestinationId\" : 42601,\\n      \"DepartureDate\" : \"2022-03-26T00:00:0', b'0\"\\n    },\\n    \"QuoteDateTime\" : \"2021-10-11T17:10:00\"\\n  }, {\\n    \"QuoteId\" : 3,\\n    \"MinPrice\" : 378,\\n    \"Direct\" : false,\\n    ', b'\"OutboundLeg\" : {\\n      \"CarrierIds\" : [ 1368 ],\\n      \"OriginId\" : 40595,\\n      \"DestinationId\" : 42601,\\n      \"DepartureDate\" ', b': \"2022-01-03T00:00:00\"\\n    },\\n    \"QuoteDateTime\" : \"2021-10-11T19:24:00\"\\n  }, {\\n    \"QuoteId\" : 4,\\n    \"MinPrice\" : 383,\\n    \"', b'Direct\" : false,\\n    \"OutboundLeg\" : {\\n      \"CarrierIds\" : [ 1324 ],\\n      \"OriginId\" : 40595,\\n      \"DestinationId\" : 42601,\\n ', b'     \"DepartureDate\" : \"2021-12-10T00:00:00\"\\n    },\\n    \"QuoteDateTime\" : \"2021-10-11T08:23:00\"\\n  }, {\\n    \"QuoteId\" : 5,\\n    \"M', b'inPrice\" : 462,\\n    \"Direct\" : false,\\n    \"OutboundLeg\" : {\\n      \"CarrierIds\" : [ 50441 ],\\n      \"OriginId\" : 40595,\\n      \"Des', b'tinationId\" : 42601,\\n      \"DepartureDate\" : \"2021-10-17T00:00:00\"\\n    },\\n    \"QuoteDateTime\" : \"2021-10-13T03:37:00\"\\n  }, {\\n   ', b' \"QuoteId\" : 6,\\n    \"MinPrice\" : 510,\\n    \"Direct\" : true,\\n    \"OutboundLeg\" : {\\n      \"CarrierIds\" : [ 1324 ],\\n      \"OriginId\"', b' : 40595,\\n      \"DestinationId\" : 42601,\\n      \"DepartureDate\" : \"2021-11-15T00:00:00\"\\n    },\\n    \"QuoteDateTime\" : \"2021-10-11T', b'07:08:00\"\\n  }, {\\n    \"QuoteId\" : 7,\\n    \"MinPrice\" : 523,\\n    \"Direct\" : true,\\n    \"OutboundLeg\" : {\\n      \"CarrierIds\" : [ 1324', b' ],\\n      \"OriginId\" : 40595,\\n      \"DestinationId\" : 42601,\\n      \"DepartureDate\" : \"2022-01-03T00:00:00\"\\n    },\\n    \"QuoteDate', b'Time\" : \"2021-10-11T19:24:00\"\\n  }, {\\n    \"QuoteId\" : 8,\\n    \"MinPrice\" : 611,\\n    \"Direct\" : true,\\n    \"OutboundLeg\" : {\\n      \"', b'CarrierIds\" : [ 1324 ],\\n      \"OriginId\" : 40595,\\n      \"DestinationId\" : 42601,\\n      \"DepartureDate\" : \"2021-10-25T00:00:00\"\\n ', b'   },\\n    \"QuoteDateTime\" : \"2021-10-11T23:18:00\"\\n  }, {\\n    \"QuoteId\" : 9,\\n    \"MinPrice\" : 769,\\n    \"Direct\" : true,\\n    \"Outb', b'oundLeg\" : {\\n      \"CarrierIds\" : [ 1324 ],\\n      \"OriginId\" : 40595,\\n      \"DestinationId\" : 42601,\\n      \"DepartureDate\" : \"20', b'21-12-25T00:00:00\"\\n    },\\n    \"QuoteDateTime\" : \"2021-10-14T06:35:00\"\\n  } ],\\n  \"Carriers\" : [ {\\n    \"CarrierId\" : 1190,\\n    \"Nam', b'e\" : \"transavia\"\\n  }, {\\n    \"CarrierId\" : 1324,\\n    \"Name\" : \"KLM\"\\n  }, {\\n    \"CarrierId\" : 50441,\\n    \"Name\" : \"easyJet\"\\n  }, {', b'\\n    \"CarrierId\" : 1368,\\n    \"Name\" : \"Lufthansa\"\\n  } ],\\n  \"Places\" : [ {\\n    \"Name\" : \"Amsterdam Schiphol\",\\n    \"Type\" : \"Stati', b'on\",\\n    \"PlaceId\" : 40595,\\n    \"IataCode\" : \"AMS\",\\n    \"SkyscannerCode\" : \"AMS\",\\n    \"CityName\" : \"Amsterdam\",\\n    \"CityId\" : \"', b'AMST\",\\n    \"CountryName\" : \"Nederland\"\\n  }, {\\n    \"Name\" : \"Bridgetown\",\\n    \"Type\" : \"Station\",\\n    \"PlaceId\" : 42601,\\n    \"Iat', b'aCode\" : \"BGI\",\\n    \"SkyscannerCode\" : \"BGI\",\\n    \"CityName\" : \"Bridgetown\",\\n    \"CityId\" : \"BGIA\",\\n    \"CountryName\" : \"Barbado', b's\"\\n  } ],\\n  \"Currencies\" : [ {\\n    \"Code\" : \"EUR\",\\n    \"Symbol\" : \"\\xe2\\x82\\xac\",\\n    \"ThousandsSeparator\" : \".\",\\n    \"DecimalSeparator\" ', b': \",\",\\n    \"SymbolOnLeft\" : false,\\n    \"SpaceBetweenAmountAndSymbol\" : true,\\n    \"RoundingCoefficient\" : 0,\\n    \"DecimalDigits\" ', b': 2\\n  } ],\\n  \"Dates\" : {\\n    \"OutboundDates\" : [ {\\n      \"PartialDate\" : \"2021-10\",\\n      \"Price\" : 462,\\n      \"QuoteDateTime\" :', b' \"2021-10-13T03:37:00\",\\n      \"QuoteIds\" : [ 5, 8 ]\\n    }, {\\n      \"PartialDate\" : \"2021-11\",\\n      \"Price\" : 336,\\n      \"QuoteD', b'ateTime\" : \"2021-10-10T20:13:00\",\\n      \"QuoteIds\" : [ 1, 6 ]\\n    }, {\\n      \"PartialDate\" : \"2021-12\",\\n      \"Price\" : 383,\\n   ', b'   \"QuoteDateTime\" : \"2021-10-11T08:23:00\",\\n      \"QuoteIds\" : [ 4, 9 ]\\n    }, {\\n      \"PartialDate\" : \"2022-01\",\\n      \"Price\" ', b': 378,\\n      \"QuoteDateTime\" : \"2021-10-11T19:24:00\",\\n      \"QuoteIds\" : [ 3, 7 ]\\n    }, {\\n      \"PartialDate\" : \"2022-03\",\\n    ', b'  \"Price\" : 378,\\n      \"QuoteDateTime\" : \"2021-10-11T17:10:00\",\\n      \"QuoteIds\" : [ 2 ]\\n    } ]\\n  }\\n}']\n"
     ]
    },
    {
     "name": "stdout",
     "output_type": "stream",
     "text": [
      "[b'{\\n  \"Quotes\" : [ {\\n    \"QuoteId\" : 1,\\n    \"MinPrice\" : 336,\\n    \"Direct\" : false,\\n    \"OutboundLeg\" : {\\n      \"CarrierIds\" : [ 1', b'190 ],\\n      \"OriginId\" : 40595,\\n      \"DestinationId\" : 42601,\\n      \"DepartureDate\" : \"2021-11-12T00:00:00\"\\n    },\\n    \"QuoteD', b'ateTime\" : \"2021-10-10T20:13:00\"\\n  }, {\\n    \"QuoteId\" : 2,\\n    \"MinPrice\" : 378,\\n    \"Direct\" : false,\\n    \"OutboundLeg\" : {\\n   ', b'   \"CarrierIds\" : [ 1368 ],\\n      \"OriginId\" : 40595,\\n      \"DestinationId\" : 42601,\\n      \"DepartureDate\" : \"2022-03-26T00:00:0', b'0\"\\n    },\\n    \"QuoteDateTime\" : \"2021-10-11T17:10:00\"\\n  }, {\\n    \"QuoteId\" : 3,\\n    \"MinPrice\" : 378,\\n    \"Direct\" : false,\\n    ', b'\"OutboundLeg\" : {\\n      \"CarrierIds\" : [ 1368 ],\\n      \"OriginId\" : 40595,\\n      \"DestinationId\" : 42601,\\n      \"DepartureDate\" ', b': \"2022-01-03T00:00:00\"\\n    },\\n    \"QuoteDateTime\" : \"2021-10-11T19:24:00\"\\n  }, {\\n    \"QuoteId\" : 4,\\n    \"MinPrice\" : 383,\\n    \"', b'Direct\" : false,\\n    \"OutboundLeg\" : {\\n      \"CarrierIds\" : [ 1324 ],\\n      \"OriginId\" : 40595,\\n      \"DestinationId\" : 42601,\\n ', b'     \"DepartureDate\" : \"2021-12-10T00:00:00\"\\n    },\\n    \"QuoteDateTime\" : \"2021-10-11T08:23:00\"\\n  }, {\\n    \"QuoteId\" : 5,\\n    \"M', b'inPrice\" : 462,\\n    \"Direct\" : false,\\n    \"OutboundLeg\" : {\\n      \"CarrierIds\" : [ 50441 ],\\n      \"OriginId\" : 40595,\\n      \"Des', b'tinationId\" : 42601,\\n      \"DepartureDate\" : \"2021-10-17T00:00:00\"\\n    },\\n    \"QuoteDateTime\" : \"2021-10-13T03:37:00\"\\n  }, {\\n   ', b' \"QuoteId\" : 6,\\n    \"MinPrice\" : 510,\\n    \"Direct\" : true,\\n    \"OutboundLeg\" : {\\n      \"CarrierIds\" : [ 1324 ],\\n      \"OriginId\"', b' : 40595,\\n      \"DestinationId\" : 42601,\\n      \"DepartureDate\" : \"2021-11-15T00:00:00\"\\n    },\\n    \"QuoteDateTime\" : \"2021-10-11T', b'07:08:00\"\\n  }, {\\n    \"QuoteId\" : 7,\\n    \"MinPrice\" : 523,\\n    \"Direct\" : true,\\n    \"OutboundLeg\" : {\\n      \"CarrierIds\" : [ 1324', b' ],\\n      \"OriginId\" : 40595,\\n      \"DestinationId\" : 42601,\\n      \"DepartureDate\" : \"2022-01-03T00:00:00\"\\n    },\\n    \"QuoteDate', b'Time\" : \"2021-10-11T19:24:00\"\\n  }, {\\n    \"QuoteId\" : 8,\\n    \"MinPrice\" : 611,\\n    \"Direct\" : true,\\n    \"OutboundLeg\" : {\\n      \"', b'CarrierIds\" : [ 1324 ],\\n      \"OriginId\" : 40595,\\n      \"DestinationId\" : 42601,\\n      \"DepartureDate\" : \"2021-10-25T00:00:00\"\\n ', b'   },\\n    \"QuoteDateTime\" : \"2021-10-11T23:18:00\"\\n  }, {\\n    \"QuoteId\" : 9,\\n    \"MinPrice\" : 769,\\n    \"Direct\" : true,\\n    \"Outb', b'oundLeg\" : {\\n      \"CarrierIds\" : [ 1324 ],\\n      \"OriginId\" : 40595,\\n      \"DestinationId\" : 42601,\\n      \"DepartureDate\" : \"20', b'21-12-25T00:00:00\"\\n    },\\n    \"QuoteDateTime\" : \"2021-10-14T06:35:00\"\\n  } ],\\n  \"Carriers\" : [ {\\n    \"CarrierId\" : 1190,\\n    \"Nam', b'e\" : \"transavia\"\\n  }, {\\n    \"CarrierId\" : 1324,\\n    \"Name\" : \"KLM\"\\n  }, {\\n    \"CarrierId\" : 50441,\\n    \"Name\" : \"easyJet\"\\n  }, {', b'\\n    \"CarrierId\" : 1368,\\n    \"Name\" : \"Lufthansa\"\\n  } ],\\n  \"Places\" : [ {\\n    \"Name\" : \"Amsterdam Schiphol\",\\n    \"Type\" : \"Stati', b'on\",\\n    \"PlaceId\" : 40595,\\n    \"IataCode\" : \"AMS\",\\n    \"SkyscannerCode\" : \"AMS\",\\n    \"CityName\" : \"Amsterdam\",\\n    \"CityId\" : \"', b'AMST\",\\n    \"CountryName\" : \"Nederland\"\\n  }, {\\n    \"Name\" : \"Bridgetown\",\\n    \"Type\" : \"Station\",\\n    \"PlaceId\" : 42601,\\n    \"Iat', b'aCode\" : \"BGI\",\\n    \"SkyscannerCode\" : \"BGI\",\\n    \"CityName\" : \"Bridgetown\",\\n    \"CityId\" : \"BGIA\",\\n    \"CountryName\" : \"Barbado', b's\"\\n  } ],\\n  \"Currencies\" : [ {\\n    \"Code\" : \"EUR\",\\n    \"Symbol\" : \"\\xe2\\x82\\xac\",\\n    \"ThousandsSeparator\" : \".\",\\n    \"DecimalSeparator\" ', b': \",\",\\n    \"SymbolOnLeft\" : false,\\n    \"SpaceBetweenAmountAndSymbol\" : true,\\n    \"RoundingCoefficient\" : 0,\\n    \"DecimalDigits\" ', b': 2\\n  } ],\\n  \"Dates\" : {\\n    \"OutboundDates\" : [ {\\n      \"PartialDate\" : \"2021-10\",\\n      \"Price\" : 462,\\n      \"QuoteDateTime\" :', b' \"2021-10-13T03:37:00\",\\n      \"QuoteIds\" : [ 5, 8 ]\\n    }, {\\n      \"PartialDate\" : \"2021-11\",\\n      \"Price\" : 336,\\n      \"QuoteD', b'ateTime\" : \"2021-10-10T20:13:00\",\\n      \"QuoteIds\" : [ 1, 6 ]\\n    }, {\\n      \"PartialDate\" : \"2021-12\",\\n      \"Price\" : 383,\\n   ', b'   \"QuoteDateTime\" : \"2021-10-11T08:23:00\",\\n      \"QuoteIds\" : [ 4, 9 ]\\n    }, {\\n      \"PartialDate\" : \"2022-01\",\\n      \"Price\" ', b': 378,\\n      \"QuoteDateTime\" : \"2021-10-11T19:24:00\",\\n      \"QuoteIds\" : [ 3, 7 ]\\n    }, {\\n      \"PartialDate\" : \"2022-03\",\\n    ', b'  \"Price\" : 378,\\n      \"QuoteDateTime\" : \"2021-10-11T17:10:00\",\\n      \"QuoteIds\" : [ 2 ]\\n    } ]\\n  }\\n}']\n",
      "[b'{\\n  \"Quotes\" : [ {\\n    \"QuoteId\" : 1,\\n    \"MinPrice\" : 336,\\n    \"Direct\" : false,\\n    \"OutboundLeg\" : {\\n      \"CarrierIds\" : [ 1', b'190 ],\\n      \"OriginId\" : 40595,\\n      \"DestinationId\" : 42601,\\n      \"DepartureDate\" : \"2021-11-12T00:00:00\"\\n    },\\n    \"QuoteD', b'ateTime\" : \"2021-10-10T20:13:00\"\\n  }, {\\n    \"QuoteId\" : 2,\\n    \"MinPrice\" : 378,\\n    \"Direct\" : false,\\n    \"OutboundLeg\" : {\\n   ', b'   \"CarrierIds\" : [ 1368 ],\\n      \"OriginId\" : 40595,\\n      \"DestinationId\" : 42601,\\n      \"DepartureDate\" : \"2022-03-26T00:00:0', b'0\"\\n    },\\n    \"QuoteDateTime\" : \"2021-10-11T17:10:00\"\\n  }, {\\n    \"QuoteId\" : 3,\\n    \"MinPrice\" : 378,\\n    \"Direct\" : false,\\n    ', b'\"OutboundLeg\" : {\\n      \"CarrierIds\" : [ 1368 ],\\n      \"OriginId\" : 40595,\\n      \"DestinationId\" : 42601,\\n      \"DepartureDate\" ', b': \"2022-01-03T00:00:00\"\\n    },\\n    \"QuoteDateTime\" : \"2021-10-11T19:24:00\"\\n  }, {\\n    \"QuoteId\" : 4,\\n    \"MinPrice\" : 383,\\n    \"', b'Direct\" : false,\\n    \"OutboundLeg\" : {\\n      \"CarrierIds\" : [ 1324 ],\\n      \"OriginId\" : 40595,\\n      \"DestinationId\" : 42601,\\n ', b'     \"DepartureDate\" : \"2021-12-10T00:00:00\"\\n    },\\n    \"QuoteDateTime\" : \"2021-10-11T08:23:00\"\\n  }, {\\n    \"QuoteId\" : 5,\\n    \"M', b'inPrice\" : 462,\\n    \"Direct\" : false,\\n    \"OutboundLeg\" : {\\n      \"CarrierIds\" : [ 50441 ],\\n      \"OriginId\" : 40595,\\n      \"Des', b'tinationId\" : 42601,\\n      \"DepartureDate\" : \"2021-10-17T00:00:00\"\\n    },\\n    \"QuoteDateTime\" : \"2021-10-13T03:37:00\"\\n  }, {\\n   ', b' \"QuoteId\" : 6,\\n    \"MinPrice\" : 510,\\n    \"Direct\" : true,\\n    \"OutboundLeg\" : {\\n      \"CarrierIds\" : [ 1324 ],\\n      \"OriginId\"', b' : 40595,\\n      \"DestinationId\" : 42601,\\n      \"DepartureDate\" : \"2021-11-15T00:00:00\"\\n    },\\n    \"QuoteDateTime\" : \"2021-10-11T', b'07:08:00\"\\n  }, {\\n    \"QuoteId\" : 7,\\n    \"MinPrice\" : 523,\\n    \"Direct\" : true,\\n    \"OutboundLeg\" : {\\n      \"CarrierIds\" : [ 1324', b' ],\\n      \"OriginId\" : 40595,\\n      \"DestinationId\" : 42601,\\n      \"DepartureDate\" : \"2022-01-03T00:00:00\"\\n    },\\n    \"QuoteDate', b'Time\" : \"2021-10-11T19:24:00\"\\n  }, {\\n    \"QuoteId\" : 8,\\n    \"MinPrice\" : 611,\\n    \"Direct\" : true,\\n    \"OutboundLeg\" : {\\n      \"', b'CarrierIds\" : [ 1324 ],\\n      \"OriginId\" : 40595,\\n      \"DestinationId\" : 42601,\\n      \"DepartureDate\" : \"2021-10-25T00:00:00\"\\n ', b'   },\\n    \"QuoteDateTime\" : \"2021-10-11T23:18:00\"\\n  }, {\\n    \"QuoteId\" : 9,\\n    \"MinPrice\" : 769,\\n    \"Direct\" : true,\\n    \"Outb', b'oundLeg\" : {\\n      \"CarrierIds\" : [ 1324 ],\\n      \"OriginId\" : 40595,\\n      \"DestinationId\" : 42601,\\n      \"DepartureDate\" : \"20', b'21-12-25T00:00:00\"\\n    },\\n    \"QuoteDateTime\" : \"2021-10-14T06:35:00\"\\n  } ],\\n  \"Carriers\" : [ {\\n    \"CarrierId\" : 1190,\\n    \"Nam', b'e\" : \"transavia\"\\n  }, {\\n    \"CarrierId\" : 1324,\\n    \"Name\" : \"KLM\"\\n  }, {\\n    \"CarrierId\" : 50441,\\n    \"Name\" : \"easyJet\"\\n  }, {', b'\\n    \"CarrierId\" : 1368,\\n    \"Name\" : \"Lufthansa\"\\n  } ],\\n  \"Places\" : [ {\\n    \"Name\" : \"Amsterdam Schiphol\",\\n    \"Type\" : \"Stati', b'on\",\\n    \"PlaceId\" : 40595,\\n    \"IataCode\" : \"AMS\",\\n    \"SkyscannerCode\" : \"AMS\",\\n    \"CityName\" : \"Amsterdam\",\\n    \"CityId\" : \"', b'AMST\",\\n    \"CountryName\" : \"Nederland\"\\n  }, {\\n    \"Name\" : \"Bridgetown\",\\n    \"Type\" : \"Station\",\\n    \"PlaceId\" : 42601,\\n    \"Iat', b'aCode\" : \"BGI\",\\n    \"SkyscannerCode\" : \"BGI\",\\n    \"CityName\" : \"Bridgetown\",\\n    \"CityId\" : \"BGIA\",\\n    \"CountryName\" : \"Barbado', b's\"\\n  } ],\\n  \"Currencies\" : [ {\\n    \"Code\" : \"EUR\",\\n    \"Symbol\" : \"\\xe2\\x82\\xac\",\\n    \"ThousandsSeparator\" : \".\",\\n    \"DecimalSeparator\" ', b': \",\",\\n    \"SymbolOnLeft\" : false,\\n    \"SpaceBetweenAmountAndSymbol\" : true,\\n    \"RoundingCoefficient\" : 0,\\n    \"DecimalDigits\" ', b': 2\\n  } ],\\n  \"Dates\" : {\\n    \"OutboundDates\" : [ {\\n      \"PartialDate\" : \"2021-10\",\\n      \"Price\" : 462,\\n      \"QuoteDateTime\" :', b' \"2021-10-13T03:37:00\",\\n      \"QuoteIds\" : [ 5, 8 ]\\n    }, {\\n      \"PartialDate\" : \"2021-11\",\\n      \"Price\" : 336,\\n      \"QuoteD', b'ateTime\" : \"2021-10-10T20:13:00\",\\n      \"QuoteIds\" : [ 1, 6 ]\\n    }, {\\n      \"PartialDate\" : \"2021-12\",\\n      \"Price\" : 383,\\n   ', b'   \"QuoteDateTime\" : \"2021-10-11T08:23:00\",\\n      \"QuoteIds\" : [ 4, 9 ]\\n    }, {\\n      \"PartialDate\" : \"2022-01\",\\n      \"Price\" ', b': 378,\\n      \"QuoteDateTime\" : \"2021-10-11T19:24:00\",\\n      \"QuoteIds\" : [ 3, 7 ]\\n    }, {\\n      \"PartialDate\" : \"2022-03\",\\n    ', b'  \"Price\" : 378,\\n      \"QuoteDateTime\" : \"2021-10-11T17:10:00\",\\n      \"QuoteIds\" : [ 2 ]\\n    } ]\\n  }\\n}']\n"
     ]
    },
    {
     "name": "stdout",
     "output_type": "stream",
     "text": [
      "[b'{\\n  \"Quotes\" : [ {\\n    \"QuoteId\" : 1,\\n    \"MinPrice\" : 336,\\n    \"Direct\" : false,\\n    \"OutboundLeg\" : {\\n      \"CarrierIds\" : [ 1', b'190 ],\\n      \"OriginId\" : 40595,\\n      \"DestinationId\" : 42601,\\n      \"DepartureDate\" : \"2021-11-12T00:00:00\"\\n    },\\n    \"QuoteD', b'ateTime\" : \"2021-10-10T20:13:00\"\\n  }, {\\n    \"QuoteId\" : 2,\\n    \"MinPrice\" : 378,\\n    \"Direct\" : false,\\n    \"OutboundLeg\" : {\\n   ', b'   \"CarrierIds\" : [ 1368 ],\\n      \"OriginId\" : 40595,\\n      \"DestinationId\" : 42601,\\n      \"DepartureDate\" : \"2022-03-26T00:00:0', b'0\"\\n    },\\n    \"QuoteDateTime\" : \"2021-10-11T17:10:00\"\\n  }, {\\n    \"QuoteId\" : 3,\\n    \"MinPrice\" : 378,\\n    \"Direct\" : false,\\n    ', b'\"OutboundLeg\" : {\\n      \"CarrierIds\" : [ 1368 ],\\n      \"OriginId\" : 40595,\\n      \"DestinationId\" : 42601,\\n      \"DepartureDate\" ', b': \"2022-01-03T00:00:00\"\\n    },\\n    \"QuoteDateTime\" : \"2021-10-11T19:24:00\"\\n  }, {\\n    \"QuoteId\" : 4,\\n    \"MinPrice\" : 383,\\n    \"', b'Direct\" : false,\\n    \"OutboundLeg\" : {\\n      \"CarrierIds\" : [ 1324 ],\\n      \"OriginId\" : 40595,\\n      \"DestinationId\" : 42601,\\n ', b'     \"DepartureDate\" : \"2021-12-10T00:00:00\"\\n    },\\n    \"QuoteDateTime\" : \"2021-10-11T08:23:00\"\\n  }, {\\n    \"QuoteId\" : 5,\\n    \"M', b'inPrice\" : 462,\\n    \"Direct\" : false,\\n    \"OutboundLeg\" : {\\n      \"CarrierIds\" : [ 50441 ],\\n      \"OriginId\" : 40595,\\n      \"Des', b'tinationId\" : 42601,\\n      \"DepartureDate\" : \"2021-10-17T00:00:00\"\\n    },\\n    \"QuoteDateTime\" : \"2021-10-13T03:37:00\"\\n  }, {\\n   ', b' \"QuoteId\" : 6,\\n    \"MinPrice\" : 510,\\n    \"Direct\" : true,\\n    \"OutboundLeg\" : {\\n      \"CarrierIds\" : [ 1324 ],\\n      \"OriginId\"', b' : 40595,\\n      \"DestinationId\" : 42601,\\n      \"DepartureDate\" : \"2021-11-15T00:00:00\"\\n    },\\n    \"QuoteDateTime\" : \"2021-10-11T', b'07:08:00\"\\n  }, {\\n    \"QuoteId\" : 7,\\n    \"MinPrice\" : 523,\\n    \"Direct\" : true,\\n    \"OutboundLeg\" : {\\n      \"CarrierIds\" : [ 1324', b' ],\\n      \"OriginId\" : 40595,\\n      \"DestinationId\" : 42601,\\n      \"DepartureDate\" : \"2022-01-03T00:00:00\"\\n    },\\n    \"QuoteDate', b'Time\" : \"2021-10-11T19:24:00\"\\n  }, {\\n    \"QuoteId\" : 8,\\n    \"MinPrice\" : 611,\\n    \"Direct\" : true,\\n    \"OutboundLeg\" : {\\n      \"', b'CarrierIds\" : [ 1324 ],\\n      \"OriginId\" : 40595,\\n      \"DestinationId\" : 42601,\\n      \"DepartureDate\" : \"2021-10-25T00:00:00\"\\n ', b'   },\\n    \"QuoteDateTime\" : \"2021-10-11T23:18:00\"\\n  }, {\\n    \"QuoteId\" : 9,\\n    \"MinPrice\" : 769,\\n    \"Direct\" : true,\\n    \"Outb', b'oundLeg\" : {\\n      \"CarrierIds\" : [ 1324 ],\\n      \"OriginId\" : 40595,\\n      \"DestinationId\" : 42601,\\n      \"DepartureDate\" : \"20', b'21-12-25T00:00:00\"\\n    },\\n    \"QuoteDateTime\" : \"2021-10-14T06:35:00\"\\n  } ],\\n  \"Carriers\" : [ {\\n    \"CarrierId\" : 1190,\\n    \"Nam', b'e\" : \"transavia\"\\n  }, {\\n    \"CarrierId\" : 1324,\\n    \"Name\" : \"KLM\"\\n  }, {\\n    \"CarrierId\" : 50441,\\n    \"Name\" : \"easyJet\"\\n  }, {', b'\\n    \"CarrierId\" : 1368,\\n    \"Name\" : \"Lufthansa\"\\n  } ],\\n  \"Places\" : [ {\\n    \"Name\" : \"Amsterdam Schiphol\",\\n    \"Type\" : \"Stati', b'on\",\\n    \"PlaceId\" : 40595,\\n    \"IataCode\" : \"AMS\",\\n    \"SkyscannerCode\" : \"AMS\",\\n    \"CityName\" : \"Amsterdam\",\\n    \"CityId\" : \"', b'AMST\",\\n    \"CountryName\" : \"Nederland\"\\n  }, {\\n    \"Name\" : \"Bridgetown\",\\n    \"Type\" : \"Station\",\\n    \"PlaceId\" : 42601,\\n    \"Iat', b'aCode\" : \"BGI\",\\n    \"SkyscannerCode\" : \"BGI\",\\n    \"CityName\" : \"Bridgetown\",\\n    \"CityId\" : \"BGIA\",\\n    \"CountryName\" : \"Barbado', b's\"\\n  } ],\\n  \"Currencies\" : [ {\\n    \"Code\" : \"EUR\",\\n    \"Symbol\" : \"\\xe2\\x82\\xac\",\\n    \"ThousandsSeparator\" : \".\",\\n    \"DecimalSeparator\" ', b': \",\",\\n    \"SymbolOnLeft\" : false,\\n    \"SpaceBetweenAmountAndSymbol\" : true,\\n    \"RoundingCoefficient\" : 0,\\n    \"DecimalDigits\" ', b': 2\\n  } ],\\n  \"Dates\" : {\\n    \"OutboundDates\" : [ {\\n      \"PartialDate\" : \"2021-10\",\\n      \"Price\" : 462,\\n      \"QuoteDateTime\" :', b' \"2021-10-13T03:37:00\",\\n      \"QuoteIds\" : [ 5, 8 ]\\n    }, {\\n      \"PartialDate\" : \"2021-11\",\\n      \"Price\" : 336,\\n      \"QuoteD', b'ateTime\" : \"2021-10-10T20:13:00\",\\n      \"QuoteIds\" : [ 1, 6 ]\\n    }, {\\n      \"PartialDate\" : \"2021-12\",\\n      \"Price\" : 383,\\n   ', b'   \"QuoteDateTime\" : \"2021-10-11T08:23:00\",\\n      \"QuoteIds\" : [ 4, 9 ]\\n    }, {\\n      \"PartialDate\" : \"2022-01\",\\n      \"Price\" ', b': 378,\\n      \"QuoteDateTime\" : \"2021-10-11T19:24:00\",\\n      \"QuoteIds\" : [ 3, 7 ]\\n    }, {\\n      \"PartialDate\" : \"2022-03\",\\n    ', b'  \"Price\" : 378,\\n      \"QuoteDateTime\" : \"2021-10-11T17:10:00\",\\n      \"QuoteIds\" : [ 2 ]\\n    } ]\\n  }\\n}']\n",
      "[b'{\\n  \"Quotes\" : [ {\\n    \"QuoteId\" : 1,\\n    \"MinPrice\" : 336,\\n    \"Direct\" : false,\\n    \"OutboundLeg\" : {\\n      \"CarrierIds\" : [ 1', b'190 ],\\n      \"OriginId\" : 40595,\\n      \"DestinationId\" : 42601,\\n      \"DepartureDate\" : \"2021-11-12T00:00:00\"\\n    },\\n    \"QuoteD', b'ateTime\" : \"2021-10-10T20:13:00\"\\n  }, {\\n    \"QuoteId\" : 2,\\n    \"MinPrice\" : 378,\\n    \"Direct\" : false,\\n    \"OutboundLeg\" : {\\n   ', b'   \"CarrierIds\" : [ 1368 ],\\n      \"OriginId\" : 40595,\\n      \"DestinationId\" : 42601,\\n      \"DepartureDate\" : \"2022-03-26T00:00:0', b'0\"\\n    },\\n    \"QuoteDateTime\" : \"2021-10-11T17:10:00\"\\n  }, {\\n    \"QuoteId\" : 3,\\n    \"MinPrice\" : 378,\\n    \"Direct\" : false,\\n    ', b'\"OutboundLeg\" : {\\n      \"CarrierIds\" : [ 1368 ],\\n      \"OriginId\" : 40595,\\n      \"DestinationId\" : 42601,\\n      \"DepartureDate\" ', b': \"2022-01-03T00:00:00\"\\n    },\\n    \"QuoteDateTime\" : \"2021-10-11T19:24:00\"\\n  }, {\\n    \"QuoteId\" : 4,\\n    \"MinPrice\" : 383,\\n    \"', b'Direct\" : false,\\n    \"OutboundLeg\" : {\\n      \"CarrierIds\" : [ 1324 ],\\n      \"OriginId\" : 40595,\\n      \"DestinationId\" : 42601,\\n ', b'     \"DepartureDate\" : \"2021-12-10T00:00:00\"\\n    },\\n    \"QuoteDateTime\" : \"2021-10-11T08:23:00\"\\n  }, {\\n    \"QuoteId\" : 5,\\n    \"M', b'inPrice\" : 462,\\n    \"Direct\" : false,\\n    \"OutboundLeg\" : {\\n      \"CarrierIds\" : [ 50441 ],\\n      \"OriginId\" : 40595,\\n      \"Des', b'tinationId\" : 42601,\\n      \"DepartureDate\" : \"2021-10-17T00:00:00\"\\n    },\\n    \"QuoteDateTime\" : \"2021-10-13T03:37:00\"\\n  }, {\\n   ', b' \"QuoteId\" : 6,\\n    \"MinPrice\" : 510,\\n    \"Direct\" : true,\\n    \"OutboundLeg\" : {\\n      \"CarrierIds\" : [ 1324 ],\\n      \"OriginId\"', b' : 40595,\\n      \"DestinationId\" : 42601,\\n      \"DepartureDate\" : \"2021-11-15T00:00:00\"\\n    },\\n    \"QuoteDateTime\" : \"2021-10-11T', b'07:08:00\"\\n  }, {\\n    \"QuoteId\" : 7,\\n    \"MinPrice\" : 523,\\n    \"Direct\" : true,\\n    \"OutboundLeg\" : {\\n      \"CarrierIds\" : [ 1324', b' ],\\n      \"OriginId\" : 40595,\\n      \"DestinationId\" : 42601,\\n      \"DepartureDate\" : \"2022-01-03T00:00:00\"\\n    },\\n    \"QuoteDate', b'Time\" : \"2021-10-11T19:24:00\"\\n  }, {\\n    \"QuoteId\" : 8,\\n    \"MinPrice\" : 611,\\n    \"Direct\" : true,\\n    \"OutboundLeg\" : {\\n      \"', b'CarrierIds\" : [ 1324 ],\\n      \"OriginId\" : 40595,\\n      \"DestinationId\" : 42601,\\n      \"DepartureDate\" : \"2021-10-25T00:00:00\"\\n ', b'   },\\n    \"QuoteDateTime\" : \"2021-10-11T23:18:00\"\\n  }, {\\n    \"QuoteId\" : 9,\\n    \"MinPrice\" : 769,\\n    \"Direct\" : true,\\n    \"Outb', b'oundLeg\" : {\\n      \"CarrierIds\" : [ 1324 ],\\n      \"OriginId\" : 40595,\\n      \"DestinationId\" : 42601,\\n      \"DepartureDate\" : \"20', b'21-12-25T00:00:00\"\\n    },\\n    \"QuoteDateTime\" : \"2021-10-14T06:35:00\"\\n  } ],\\n  \"Carriers\" : [ {\\n    \"CarrierId\" : 1190,\\n    \"Nam', b'e\" : \"transavia\"\\n  }, {\\n    \"CarrierId\" : 1324,\\n    \"Name\" : \"KLM\"\\n  }, {\\n    \"CarrierId\" : 50441,\\n    \"Name\" : \"easyJet\"\\n  }, {', b'\\n    \"CarrierId\" : 1368,\\n    \"Name\" : \"Lufthansa\"\\n  } ],\\n  \"Places\" : [ {\\n    \"Name\" : \"Amsterdam Schiphol\",\\n    \"Type\" : \"Stati', b'on\",\\n    \"PlaceId\" : 40595,\\n    \"IataCode\" : \"AMS\",\\n    \"SkyscannerCode\" : \"AMS\",\\n    \"CityName\" : \"Amsterdam\",\\n    \"CityId\" : \"', b'AMST\",\\n    \"CountryName\" : \"Nederland\"\\n  }, {\\n    \"Name\" : \"Bridgetown\",\\n    \"Type\" : \"Station\",\\n    \"PlaceId\" : 42601,\\n    \"Iat', b'aCode\" : \"BGI\",\\n    \"SkyscannerCode\" : \"BGI\",\\n    \"CityName\" : \"Bridgetown\",\\n    \"CityId\" : \"BGIA\",\\n    \"CountryName\" : \"Barbado', b's\"\\n  } ],\\n  \"Currencies\" : [ {\\n    \"Code\" : \"EUR\",\\n    \"Symbol\" : \"\\xe2\\x82\\xac\",\\n    \"ThousandsSeparator\" : \".\",\\n    \"DecimalSeparator\" ', b': \",\",\\n    \"SymbolOnLeft\" : false,\\n    \"SpaceBetweenAmountAndSymbol\" : true,\\n    \"RoundingCoefficient\" : 0,\\n    \"DecimalDigits\" ', b': 2\\n  } ],\\n  \"Dates\" : {\\n    \"OutboundDates\" : [ {\\n      \"PartialDate\" : \"2021-10\",\\n      \"Price\" : 462,\\n      \"QuoteDateTime\" :', b' \"2021-10-13T03:37:00\",\\n      \"QuoteIds\" : [ 5, 8 ]\\n    }, {\\n      \"PartialDate\" : \"2021-11\",\\n      \"Price\" : 336,\\n      \"QuoteD', b'ateTime\" : \"2021-10-10T20:13:00\",\\n      \"QuoteIds\" : [ 1, 6 ]\\n    }, {\\n      \"PartialDate\" : \"2021-12\",\\n      \"Price\" : 383,\\n   ', b'   \"QuoteDateTime\" : \"2021-10-11T08:23:00\",\\n      \"QuoteIds\" : [ 4, 9 ]\\n    }, {\\n      \"PartialDate\" : \"2022-01\",\\n      \"Price\" ', b': 378,\\n      \"QuoteDateTime\" : \"2021-10-11T19:24:00\",\\n      \"QuoteIds\" : [ 3, 7 ]\\n    }, {\\n      \"PartialDate\" : \"2022-03\",\\n    ', b'  \"Price\" : 378,\\n      \"QuoteDateTime\" : \"2021-10-11T17:10:00\",\\n      \"QuoteIds\" : [ 2 ]\\n    } ]\\n  }\\n}']\n"
     ]
    },
    {
     "name": "stdout",
     "output_type": "stream",
     "text": [
      "[b'{\\n  \"Quotes\" : [ {\\n    \"QuoteId\" : 1,\\n    \"MinPrice\" : 336,\\n    \"Direct\" : false,\\n    \"OutboundLeg\" : {\\n      \"CarrierIds\" : [ 1', b'190 ],\\n      \"OriginId\" : 40595,\\n      \"DestinationId\" : 42601,\\n      \"DepartureDate\" : \"2021-11-12T00:00:00\"\\n    },\\n    \"QuoteD', b'ateTime\" : \"2021-10-10T20:13:00\"\\n  }, {\\n    \"QuoteId\" : 2,\\n    \"MinPrice\" : 378,\\n    \"Direct\" : false,\\n    \"OutboundLeg\" : {\\n   ', b'   \"CarrierIds\" : [ 1368 ],\\n      \"OriginId\" : 40595,\\n      \"DestinationId\" : 42601,\\n      \"DepartureDate\" : \"2022-03-26T00:00:0', b'0\"\\n    },\\n    \"QuoteDateTime\" : \"2021-10-11T17:10:00\"\\n  }, {\\n    \"QuoteId\" : 3,\\n    \"MinPrice\" : 378,\\n    \"Direct\" : false,\\n    ', b'\"OutboundLeg\" : {\\n      \"CarrierIds\" : [ 1368 ],\\n      \"OriginId\" : 40595,\\n      \"DestinationId\" : 42601,\\n      \"DepartureDate\" ', b': \"2022-01-03T00:00:00\"\\n    },\\n    \"QuoteDateTime\" : \"2021-10-11T19:24:00\"\\n  }, {\\n    \"QuoteId\" : 4,\\n    \"MinPrice\" : 383,\\n    \"', b'Direct\" : false,\\n    \"OutboundLeg\" : {\\n      \"CarrierIds\" : [ 1324 ],\\n      \"OriginId\" : 40595,\\n      \"DestinationId\" : 42601,\\n ', b'     \"DepartureDate\" : \"2021-12-10T00:00:00\"\\n    },\\n    \"QuoteDateTime\" : \"2021-10-11T08:23:00\"\\n  }, {\\n    \"QuoteId\" : 5,\\n    \"M', b'inPrice\" : 462,\\n    \"Direct\" : false,\\n    \"OutboundLeg\" : {\\n      \"CarrierIds\" : [ 50441 ],\\n      \"OriginId\" : 40595,\\n      \"Des', b'tinationId\" : 42601,\\n      \"DepartureDate\" : \"2021-10-17T00:00:00\"\\n    },\\n    \"QuoteDateTime\" : \"2021-10-13T03:37:00\"\\n  }, {\\n   ', b' \"QuoteId\" : 6,\\n    \"MinPrice\" : 510,\\n    \"Direct\" : true,\\n    \"OutboundLeg\" : {\\n      \"CarrierIds\" : [ 1324 ],\\n      \"OriginId\"', b' : 40595,\\n      \"DestinationId\" : 42601,\\n      \"DepartureDate\" : \"2021-11-15T00:00:00\"\\n    },\\n    \"QuoteDateTime\" : \"2021-10-11T', b'07:08:00\"\\n  }, {\\n    \"QuoteId\" : 7,\\n    \"MinPrice\" : 523,\\n    \"Direct\" : true,\\n    \"OutboundLeg\" : {\\n      \"CarrierIds\" : [ 1324', b' ],\\n      \"OriginId\" : 40595,\\n      \"DestinationId\" : 42601,\\n      \"DepartureDate\" : \"2022-01-03T00:00:00\"\\n    },\\n    \"QuoteDate', b'Time\" : \"2021-10-11T19:24:00\"\\n  }, {\\n    \"QuoteId\" : 8,\\n    \"MinPrice\" : 611,\\n    \"Direct\" : true,\\n    \"OutboundLeg\" : {\\n      \"', b'CarrierIds\" : [ 1324 ],\\n      \"OriginId\" : 40595,\\n      \"DestinationId\" : 42601,\\n      \"DepartureDate\" : \"2021-10-25T00:00:00\"\\n ', b'   },\\n    \"QuoteDateTime\" : \"2021-10-11T23:18:00\"\\n  }, {\\n    \"QuoteId\" : 9,\\n    \"MinPrice\" : 769,\\n    \"Direct\" : true,\\n    \"Outb', b'oundLeg\" : {\\n      \"CarrierIds\" : [ 1324 ],\\n      \"OriginId\" : 40595,\\n      \"DestinationId\" : 42601,\\n      \"DepartureDate\" : \"20', b'21-12-25T00:00:00\"\\n    },\\n    \"QuoteDateTime\" : \"2021-10-14T06:35:00\"\\n  } ],\\n  \"Carriers\" : [ {\\n    \"CarrierId\" : 1190,\\n    \"Nam', b'e\" : \"transavia\"\\n  }, {\\n    \"CarrierId\" : 1324,\\n    \"Name\" : \"KLM\"\\n  }, {\\n    \"CarrierId\" : 50441,\\n    \"Name\" : \"easyJet\"\\n  }, {', b'\\n    \"CarrierId\" : 1368,\\n    \"Name\" : \"Lufthansa\"\\n  } ],\\n  \"Places\" : [ {\\n    \"Name\" : \"Amsterdam Schiphol\",\\n    \"Type\" : \"Stati', b'on\",\\n    \"PlaceId\" : 40595,\\n    \"IataCode\" : \"AMS\",\\n    \"SkyscannerCode\" : \"AMS\",\\n    \"CityName\" : \"Amsterdam\",\\n    \"CityId\" : \"', b'AMST\",\\n    \"CountryName\" : \"Nederland\"\\n  }, {\\n    \"Name\" : \"Bridgetown\",\\n    \"Type\" : \"Station\",\\n    \"PlaceId\" : 42601,\\n    \"Iat', b'aCode\" : \"BGI\",\\n    \"SkyscannerCode\" : \"BGI\",\\n    \"CityName\" : \"Bridgetown\",\\n    \"CityId\" : \"BGIA\",\\n    \"CountryName\" : \"Barbado', b's\"\\n  } ],\\n  \"Currencies\" : [ {\\n    \"Code\" : \"EUR\",\\n    \"Symbol\" : \"\\xe2\\x82\\xac\",\\n    \"ThousandsSeparator\" : \".\",\\n    \"DecimalSeparator\" ', b': \",\",\\n    \"SymbolOnLeft\" : false,\\n    \"SpaceBetweenAmountAndSymbol\" : true,\\n    \"RoundingCoefficient\" : 0,\\n    \"DecimalDigits\" ', b': 2\\n  } ],\\n  \"Dates\" : {\\n    \"OutboundDates\" : [ {\\n      \"PartialDate\" : \"2021-10\",\\n      \"Price\" : 462,\\n      \"QuoteDateTime\" :', b' \"2021-10-13T03:37:00\",\\n      \"QuoteIds\" : [ 5, 8 ]\\n    }, {\\n      \"PartialDate\" : \"2021-11\",\\n      \"Price\" : 336,\\n      \"QuoteD', b'ateTime\" : \"2021-10-10T20:13:00\",\\n      \"QuoteIds\" : [ 1, 6 ]\\n    }, {\\n      \"PartialDate\" : \"2021-12\",\\n      \"Price\" : 383,\\n   ', b'   \"QuoteDateTime\" : \"2021-10-11T08:23:00\",\\n      \"QuoteIds\" : [ 4, 9 ]\\n    }, {\\n      \"PartialDate\" : \"2022-01\",\\n      \"Price\" ', b': 378,\\n      \"QuoteDateTime\" : \"2021-10-11T19:24:00\",\\n      \"QuoteIds\" : [ 3, 7 ]\\n    }, {\\n      \"PartialDate\" : \"2022-03\",\\n    ', b'  \"Price\" : 378,\\n      \"QuoteDateTime\" : \"2021-10-11T17:10:00\",\\n      \"QuoteIds\" : [ 2 ]\\n    } ]\\n  }\\n}']\n",
      "[b'{\\n  \"Quotes\" : [ {\\n    \"QuoteId\" : 1,\\n    \"MinPrice\" : 336,\\n    \"Direct\" : false,\\n    \"OutboundLeg\" : {\\n      \"CarrierIds\" : [ 1', b'190 ],\\n      \"OriginId\" : 40595,\\n      \"DestinationId\" : 42601,\\n      \"DepartureDate\" : \"2021-11-12T00:00:00\"\\n    },\\n    \"QuoteD', b'ateTime\" : \"2021-10-10T20:13:00\"\\n  }, {\\n    \"QuoteId\" : 2,\\n    \"MinPrice\" : 378,\\n    \"Direct\" : false,\\n    \"OutboundLeg\" : {\\n   ', b'   \"CarrierIds\" : [ 1368 ],\\n      \"OriginId\" : 40595,\\n      \"DestinationId\" : 42601,\\n      \"DepartureDate\" : \"2022-03-26T00:00:0', b'0\"\\n    },\\n    \"QuoteDateTime\" : \"2021-10-11T17:10:00\"\\n  }, {\\n    \"QuoteId\" : 3,\\n    \"MinPrice\" : 378,\\n    \"Direct\" : false,\\n    ', b'\"OutboundLeg\" : {\\n      \"CarrierIds\" : [ 1368 ],\\n      \"OriginId\" : 40595,\\n      \"DestinationId\" : 42601,\\n      \"DepartureDate\" ', b': \"2022-01-03T00:00:00\"\\n    },\\n    \"QuoteDateTime\" : \"2021-10-11T19:24:00\"\\n  }, {\\n    \"QuoteId\" : 4,\\n    \"MinPrice\" : 383,\\n    \"', b'Direct\" : false,\\n    \"OutboundLeg\" : {\\n      \"CarrierIds\" : [ 1324 ],\\n      \"OriginId\" : 40595,\\n      \"DestinationId\" : 42601,\\n ', b'     \"DepartureDate\" : \"2021-12-10T00:00:00\"\\n    },\\n    \"QuoteDateTime\" : \"2021-10-11T08:23:00\"\\n  }, {\\n    \"QuoteId\" : 5,\\n    \"M', b'inPrice\" : 462,\\n    \"Direct\" : false,\\n    \"OutboundLeg\" : {\\n      \"CarrierIds\" : [ 50441 ],\\n      \"OriginId\" : 40595,\\n      \"Des', b'tinationId\" : 42601,\\n      \"DepartureDate\" : \"2021-10-17T00:00:00\"\\n    },\\n    \"QuoteDateTime\" : \"2021-10-13T03:37:00\"\\n  }, {\\n   ', b' \"QuoteId\" : 6,\\n    \"MinPrice\" : 510,\\n    \"Direct\" : true,\\n    \"OutboundLeg\" : {\\n      \"CarrierIds\" : [ 1324 ],\\n      \"OriginId\"', b' : 40595,\\n      \"DestinationId\" : 42601,\\n      \"DepartureDate\" : \"2021-11-15T00:00:00\"\\n    },\\n    \"QuoteDateTime\" : \"2021-10-11T', b'07:08:00\"\\n  }, {\\n    \"QuoteId\" : 7,\\n    \"MinPrice\" : 523,\\n    \"Direct\" : true,\\n    \"OutboundLeg\" : {\\n      \"CarrierIds\" : [ 1324', b' ],\\n      \"OriginId\" : 40595,\\n      \"DestinationId\" : 42601,\\n      \"DepartureDate\" : \"2022-01-03T00:00:00\"\\n    },\\n    \"QuoteDate', b'Time\" : \"2021-10-11T19:24:00\"\\n  }, {\\n    \"QuoteId\" : 8,\\n    \"MinPrice\" : 611,\\n    \"Direct\" : true,\\n    \"OutboundLeg\" : {\\n      \"', b'CarrierIds\" : [ 1324 ],\\n      \"OriginId\" : 40595,\\n      \"DestinationId\" : 42601,\\n      \"DepartureDate\" : \"2021-10-25T00:00:00\"\\n ', b'   },\\n    \"QuoteDateTime\" : \"2021-10-11T23:18:00\"\\n  }, {\\n    \"QuoteId\" : 9,\\n    \"MinPrice\" : 769,\\n    \"Direct\" : true,\\n    \"Outb', b'oundLeg\" : {\\n      \"CarrierIds\" : [ 1324 ],\\n      \"OriginId\" : 40595,\\n      \"DestinationId\" : 42601,\\n      \"DepartureDate\" : \"20', b'21-12-25T00:00:00\"\\n    },\\n    \"QuoteDateTime\" : \"2021-10-14T06:35:00\"\\n  } ],\\n  \"Carriers\" : [ {\\n    \"CarrierId\" : 1190,\\n    \"Nam', b'e\" : \"transavia\"\\n  }, {\\n    \"CarrierId\" : 1324,\\n    \"Name\" : \"KLM\"\\n  }, {\\n    \"CarrierId\" : 50441,\\n    \"Name\" : \"easyJet\"\\n  }, {', b'\\n    \"CarrierId\" : 1368,\\n    \"Name\" : \"Lufthansa\"\\n  } ],\\n  \"Places\" : [ {\\n    \"Name\" : \"Amsterdam Schiphol\",\\n    \"Type\" : \"Stati', b'on\",\\n    \"PlaceId\" : 40595,\\n    \"IataCode\" : \"AMS\",\\n    \"SkyscannerCode\" : \"AMS\",\\n    \"CityName\" : \"Amsterdam\",\\n    \"CityId\" : \"', b'AMST\",\\n    \"CountryName\" : \"Nederland\"\\n  }, {\\n    \"Name\" : \"Bridgetown\",\\n    \"Type\" : \"Station\",\\n    \"PlaceId\" : 42601,\\n    \"Iat', b'aCode\" : \"BGI\",\\n    \"SkyscannerCode\" : \"BGI\",\\n    \"CityName\" : \"Bridgetown\",\\n    \"CityId\" : \"BGIA\",\\n    \"CountryName\" : \"Barbado', b's\"\\n  } ],\\n  \"Currencies\" : [ {\\n    \"Code\" : \"EUR\",\\n    \"Symbol\" : \"\\xe2\\x82\\xac\",\\n    \"ThousandsSeparator\" : \".\",\\n    \"DecimalSeparator\" ', b': \",\",\\n    \"SymbolOnLeft\" : false,\\n    \"SpaceBetweenAmountAndSymbol\" : true,\\n    \"RoundingCoefficient\" : 0,\\n    \"DecimalDigits\" ', b': 2\\n  } ],\\n  \"Dates\" : {\\n    \"OutboundDates\" : [ {\\n      \"PartialDate\" : \"2021-10\",\\n      \"Price\" : 462,\\n      \"QuoteDateTime\" :', b' \"2021-10-13T03:37:00\",\\n      \"QuoteIds\" : [ 5, 8 ]\\n    }, {\\n      \"PartialDate\" : \"2021-11\",\\n      \"Price\" : 336,\\n      \"QuoteD', b'ateTime\" : \"2021-10-10T20:13:00\",\\n      \"QuoteIds\" : [ 1, 6 ]\\n    }, {\\n      \"PartialDate\" : \"2021-12\",\\n      \"Price\" : 383,\\n   ', b'   \"QuoteDateTime\" : \"2021-10-11T08:23:00\",\\n      \"QuoteIds\" : [ 4, 9 ]\\n    }, {\\n      \"PartialDate\" : \"2022-01\",\\n      \"Price\" ', b': 378,\\n      \"QuoteDateTime\" : \"2021-10-11T19:24:00\",\\n      \"QuoteIds\" : [ 3, 7 ]\\n    }, {\\n      \"PartialDate\" : \"2022-03\",\\n    ', b'  \"Price\" : 378,\\n      \"QuoteDateTime\" : \"2021-10-11T17:10:00\",\\n      \"QuoteIds\" : [ 2 ]\\n    } ]\\n  }\\n}']\n"
     ]
    },
    {
     "name": "stdout",
     "output_type": "stream",
     "text": [
      "[b'{\\n  \"Quotes\" : [ {\\n    \"QuoteId\" : 1,\\n    \"MinPrice\" : 336,\\n    \"Direct\" : false,\\n    \"OutboundLeg\" : {\\n      \"CarrierIds\" : [ 1', b'190 ],\\n      \"OriginId\" : 40595,\\n      \"DestinationId\" : 42601,\\n      \"DepartureDate\" : \"2021-11-12T00:00:00\"\\n    },\\n    \"QuoteD', b'ateTime\" : \"2021-10-10T20:13:00\"\\n  }, {\\n    \"QuoteId\" : 2,\\n    \"MinPrice\" : 378,\\n    \"Direct\" : false,\\n    \"OutboundLeg\" : {\\n   ', b'   \"CarrierIds\" : [ 1368 ],\\n      \"OriginId\" : 40595,\\n      \"DestinationId\" : 42601,\\n      \"DepartureDate\" : \"2022-03-26T00:00:0', b'0\"\\n    },\\n    \"QuoteDateTime\" : \"2021-10-11T17:10:00\"\\n  }, {\\n    \"QuoteId\" : 3,\\n    \"MinPrice\" : 378,\\n    \"Direct\" : false,\\n    ', b'\"OutboundLeg\" : {\\n      \"CarrierIds\" : [ 1368 ],\\n      \"OriginId\" : 40595,\\n      \"DestinationId\" : 42601,\\n      \"DepartureDate\" ', b': \"2022-01-03T00:00:00\"\\n    },\\n    \"QuoteDateTime\" : \"2021-10-11T19:24:00\"\\n  }, {\\n    \"QuoteId\" : 4,\\n    \"MinPrice\" : 383,\\n    \"', b'Direct\" : false,\\n    \"OutboundLeg\" : {\\n      \"CarrierIds\" : [ 1324 ],\\n      \"OriginId\" : 40595,\\n      \"DestinationId\" : 42601,\\n ', b'     \"DepartureDate\" : \"2021-12-10T00:00:00\"\\n    },\\n    \"QuoteDateTime\" : \"2021-10-11T08:23:00\"\\n  }, {\\n    \"QuoteId\" : 5,\\n    \"M', b'inPrice\" : 462,\\n    \"Direct\" : false,\\n    \"OutboundLeg\" : {\\n      \"CarrierIds\" : [ 50441 ],\\n      \"OriginId\" : 40595,\\n      \"Des', b'tinationId\" : 42601,\\n      \"DepartureDate\" : \"2021-10-17T00:00:00\"\\n    },\\n    \"QuoteDateTime\" : \"2021-10-13T03:37:00\"\\n  }, {\\n   ', b' \"QuoteId\" : 6,\\n    \"MinPrice\" : 510,\\n    \"Direct\" : true,\\n    \"OutboundLeg\" : {\\n      \"CarrierIds\" : [ 1324 ],\\n      \"OriginId\"', b' : 40595,\\n      \"DestinationId\" : 42601,\\n      \"DepartureDate\" : \"2021-11-15T00:00:00\"\\n    },\\n    \"QuoteDateTime\" : \"2021-10-11T', b'07:08:00\"\\n  }, {\\n    \"QuoteId\" : 7,\\n    \"MinPrice\" : 523,\\n    \"Direct\" : true,\\n    \"OutboundLeg\" : {\\n      \"CarrierIds\" : [ 1324', b' ],\\n      \"OriginId\" : 40595,\\n      \"DestinationId\" : 42601,\\n      \"DepartureDate\" : \"2022-01-03T00:00:00\"\\n    },\\n    \"QuoteDate', b'Time\" : \"2021-10-11T19:24:00\"\\n  }, {\\n    \"QuoteId\" : 8,\\n    \"MinPrice\" : 611,\\n    \"Direct\" : true,\\n    \"OutboundLeg\" : {\\n      \"', b'CarrierIds\" : [ 1324 ],\\n      \"OriginId\" : 40595,\\n      \"DestinationId\" : 42601,\\n      \"DepartureDate\" : \"2021-10-25T00:00:00\"\\n ', b'   },\\n    \"QuoteDateTime\" : \"2021-10-11T23:18:00\"\\n  }, {\\n    \"QuoteId\" : 9,\\n    \"MinPrice\" : 769,\\n    \"Direct\" : true,\\n    \"Outb', b'oundLeg\" : {\\n      \"CarrierIds\" : [ 1324 ],\\n      \"OriginId\" : 40595,\\n      \"DestinationId\" : 42601,\\n      \"DepartureDate\" : \"20', b'21-12-25T00:00:00\"\\n    },\\n    \"QuoteDateTime\" : \"2021-10-14T06:35:00\"\\n  } ],\\n  \"Carriers\" : [ {\\n    \"CarrierId\" : 1190,\\n    \"Nam', b'e\" : \"transavia\"\\n  }, {\\n    \"CarrierId\" : 1324,\\n    \"Name\" : \"KLM\"\\n  }, {\\n    \"CarrierId\" : 50441,\\n    \"Name\" : \"easyJet\"\\n  }, {', b'\\n    \"CarrierId\" : 1368,\\n    \"Name\" : \"Lufthansa\"\\n  } ],\\n  \"Places\" : [ {\\n    \"Name\" : \"Amsterdam Schiphol\",\\n    \"Type\" : \"Stati', b'on\",\\n    \"PlaceId\" : 40595,\\n    \"IataCode\" : \"AMS\",\\n    \"SkyscannerCode\" : \"AMS\",\\n    \"CityName\" : \"Amsterdam\",\\n    \"CityId\" : \"', b'AMST\",\\n    \"CountryName\" : \"Nederland\"\\n  }, {\\n    \"Name\" : \"Bridgetown\",\\n    \"Type\" : \"Station\",\\n    \"PlaceId\" : 42601,\\n    \"Iat', b'aCode\" : \"BGI\",\\n    \"SkyscannerCode\" : \"BGI\",\\n    \"CityName\" : \"Bridgetown\",\\n    \"CityId\" : \"BGIA\",\\n    \"CountryName\" : \"Barbado', b's\"\\n  } ],\\n  \"Currencies\" : [ {\\n    \"Code\" : \"EUR\",\\n    \"Symbol\" : \"\\xe2\\x82\\xac\",\\n    \"ThousandsSeparator\" : \".\",\\n    \"DecimalSeparator\" ', b': \",\",\\n    \"SymbolOnLeft\" : false,\\n    \"SpaceBetweenAmountAndSymbol\" : true,\\n    \"RoundingCoefficient\" : 0,\\n    \"DecimalDigits\" ', b': 2\\n  } ],\\n  \"Dates\" : {\\n    \"OutboundDates\" : [ {\\n      \"PartialDate\" : \"2021-10\",\\n      \"Price\" : 462,\\n      \"QuoteDateTime\" :', b' \"2021-10-13T03:37:00\",\\n      \"QuoteIds\" : [ 5, 8 ]\\n    }, {\\n      \"PartialDate\" : \"2021-11\",\\n      \"Price\" : 336,\\n      \"QuoteD', b'ateTime\" : \"2021-10-10T20:13:00\",\\n      \"QuoteIds\" : [ 1, 6 ]\\n    }, {\\n      \"PartialDate\" : \"2021-12\",\\n      \"Price\" : 383,\\n   ', b'   \"QuoteDateTime\" : \"2021-10-11T08:23:00\",\\n      \"QuoteIds\" : [ 4, 9 ]\\n    }, {\\n      \"PartialDate\" : \"2022-01\",\\n      \"Price\" ', b': 378,\\n      \"QuoteDateTime\" : \"2021-10-11T19:24:00\",\\n      \"QuoteIds\" : [ 3, 7 ]\\n    }, {\\n      \"PartialDate\" : \"2022-03\",\\n    ', b'  \"Price\" : 378,\\n      \"QuoteDateTime\" : \"2021-10-11T17:10:00\",\\n      \"QuoteIds\" : [ 2 ]\\n    } ]\\n  }\\n}']\n",
      "[b'{\\n  \"Quotes\" : [ {\\n    \"QuoteId\" : 1,\\n    \"MinPrice\" : 336,\\n    \"Direct\" : false,\\n    \"OutboundLeg\" : {\\n      \"CarrierIds\" : [ 1', b'190 ],\\n      \"OriginId\" : 40595,\\n      \"DestinationId\" : 42601,\\n      \"DepartureDate\" : \"2021-11-12T00:00:00\"\\n    },\\n    \"QuoteD', b'ateTime\" : \"2021-10-10T20:13:00\"\\n  }, {\\n    \"QuoteId\" : 2,\\n    \"MinPrice\" : 378,\\n    \"Direct\" : false,\\n    \"OutboundLeg\" : {\\n   ', b'   \"CarrierIds\" : [ 1368 ],\\n      \"OriginId\" : 40595,\\n      \"DestinationId\" : 42601,\\n      \"DepartureDate\" : \"2022-03-26T00:00:0', b'0\"\\n    },\\n    \"QuoteDateTime\" : \"2021-10-11T17:10:00\"\\n  }, {\\n    \"QuoteId\" : 3,\\n    \"MinPrice\" : 378,\\n    \"Direct\" : false,\\n    ', b'\"OutboundLeg\" : {\\n      \"CarrierIds\" : [ 1368 ],\\n      \"OriginId\" : 40595,\\n      \"DestinationId\" : 42601,\\n      \"DepartureDate\" ', b': \"2022-01-03T00:00:00\"\\n    },\\n    \"QuoteDateTime\" : \"2021-10-11T19:24:00\"\\n  }, {\\n    \"QuoteId\" : 4,\\n    \"MinPrice\" : 383,\\n    \"', b'Direct\" : false,\\n    \"OutboundLeg\" : {\\n      \"CarrierIds\" : [ 1324 ],\\n      \"OriginId\" : 40595,\\n      \"DestinationId\" : 42601,\\n ', b'     \"DepartureDate\" : \"2021-12-10T00:00:00\"\\n    },\\n    \"QuoteDateTime\" : \"2021-10-11T08:23:00\"\\n  }, {\\n    \"QuoteId\" : 5,\\n    \"M', b'inPrice\" : 462,\\n    \"Direct\" : false,\\n    \"OutboundLeg\" : {\\n      \"CarrierIds\" : [ 50441 ],\\n      \"OriginId\" : 40595,\\n      \"Des', b'tinationId\" : 42601,\\n      \"DepartureDate\" : \"2021-10-17T00:00:00\"\\n    },\\n    \"QuoteDateTime\" : \"2021-10-13T03:37:00\"\\n  }, {\\n   ', b' \"QuoteId\" : 6,\\n    \"MinPrice\" : 510,\\n    \"Direct\" : true,\\n    \"OutboundLeg\" : {\\n      \"CarrierIds\" : [ 1324 ],\\n      \"OriginId\"', b' : 40595,\\n      \"DestinationId\" : 42601,\\n      \"DepartureDate\" : \"2021-11-15T00:00:00\"\\n    },\\n    \"QuoteDateTime\" : \"2021-10-11T', b'07:08:00\"\\n  }, {\\n    \"QuoteId\" : 7,\\n    \"MinPrice\" : 523,\\n    \"Direct\" : true,\\n    \"OutboundLeg\" : {\\n      \"CarrierIds\" : [ 1324', b' ],\\n      \"OriginId\" : 40595,\\n      \"DestinationId\" : 42601,\\n      \"DepartureDate\" : \"2022-01-03T00:00:00\"\\n    },\\n    \"QuoteDate', b'Time\" : \"2021-10-11T19:24:00\"\\n  }, {\\n    \"QuoteId\" : 8,\\n    \"MinPrice\" : 611,\\n    \"Direct\" : true,\\n    \"OutboundLeg\" : {\\n      \"', b'CarrierIds\" : [ 1324 ],\\n      \"OriginId\" : 40595,\\n      \"DestinationId\" : 42601,\\n      \"DepartureDate\" : \"2021-10-25T00:00:00\"\\n ', b'   },\\n    \"QuoteDateTime\" : \"2021-10-11T23:18:00\"\\n  }, {\\n    \"QuoteId\" : 9,\\n    \"MinPrice\" : 769,\\n    \"Direct\" : true,\\n    \"Outb', b'oundLeg\" : {\\n      \"CarrierIds\" : [ 1324 ],\\n      \"OriginId\" : 40595,\\n      \"DestinationId\" : 42601,\\n      \"DepartureDate\" : \"20', b'21-12-25T00:00:00\"\\n    },\\n    \"QuoteDateTime\" : \"2021-10-14T06:35:00\"\\n  } ],\\n  \"Carriers\" : [ {\\n    \"CarrierId\" : 1190,\\n    \"Nam', b'e\" : \"transavia\"\\n  }, {\\n    \"CarrierId\" : 1324,\\n    \"Name\" : \"KLM\"\\n  }, {\\n    \"CarrierId\" : 50441,\\n    \"Name\" : \"easyJet\"\\n  }, {', b'\\n    \"CarrierId\" : 1368,\\n    \"Name\" : \"Lufthansa\"\\n  } ],\\n  \"Places\" : [ {\\n    \"Name\" : \"Amsterdam Schiphol\",\\n    \"Type\" : \"Stati', b'on\",\\n    \"PlaceId\" : 40595,\\n    \"IataCode\" : \"AMS\",\\n    \"SkyscannerCode\" : \"AMS\",\\n    \"CityName\" : \"Amsterdam\",\\n    \"CityId\" : \"', b'AMST\",\\n    \"CountryName\" : \"Nederland\"\\n  }, {\\n    \"Name\" : \"Bridgetown\",\\n    \"Type\" : \"Station\",\\n    \"PlaceId\" : 42601,\\n    \"Iat', b'aCode\" : \"BGI\",\\n    \"SkyscannerCode\" : \"BGI\",\\n    \"CityName\" : \"Bridgetown\",\\n    \"CityId\" : \"BGIA\",\\n    \"CountryName\" : \"Barbado', b's\"\\n  } ],\\n  \"Currencies\" : [ {\\n    \"Code\" : \"EUR\",\\n    \"Symbol\" : \"\\xe2\\x82\\xac\",\\n    \"ThousandsSeparator\" : \".\",\\n    \"DecimalSeparator\" ', b': \",\",\\n    \"SymbolOnLeft\" : false,\\n    \"SpaceBetweenAmountAndSymbol\" : true,\\n    \"RoundingCoefficient\" : 0,\\n    \"DecimalDigits\" ', b': 2\\n  } ],\\n  \"Dates\" : {\\n    \"OutboundDates\" : [ {\\n      \"PartialDate\" : \"2021-10\",\\n      \"QuoteDateTime\" : \"2021-10-13T03:37:00', b'\",\\n      \"Price\" : 462,\\n      \"QuoteIds\" : [ 5, 8 ]\\n    }, {\\n      \"PartialDate\" : \"2021-11\",\\n      \"QuoteDateTime\" : \"2021-10-1', b'0T20:13:00\",\\n      \"Price\" : 336,\\n      \"QuoteIds\" : [ 1, 6 ]\\n    }, {\\n      \"PartialDate\" : \"2021-12\",\\n      \"QuoteDateTime\" : ', b'\"2021-10-11T08:23:00\",\\n      \"Price\" : 383,\\n      \"QuoteIds\" : [ 4, 9 ]\\n    }, {\\n      \"PartialDate\" : \"2022-01\",\\n      \"QuoteDa', b'teTime\" : \"2021-10-11T19:24:00\",\\n      \"Price\" : 378,\\n      \"QuoteIds\" : [ 3, 7 ]\\n    }, {\\n      \"PartialDate\" : \"2022-03\",\\n    ', b'  \"QuoteDateTime\" : \"2021-10-11T17:10:00\",\\n      \"Price\" : 378,\\n      \"QuoteIds\" : [ 2 ]\\n    } ]\\n  }\\n}']\n"
     ]
    },
    {
     "name": "stdout",
     "output_type": "stream",
     "text": [
      "[b'{\\n  \"Quotes\" : [ {\\n    \"QuoteId\" : 1,\\n    \"MinPrice\" : 336,\\n    \"Direct\" : false,\\n    \"OutboundLeg\" : {\\n      \"CarrierIds\" : [ 1', b'190 ],\\n      \"OriginId\" : 40595,\\n      \"DestinationId\" : 42601,\\n      \"DepartureDate\" : \"2021-11-12T00:00:00\"\\n    },\\n    \"QuoteD', b'ateTime\" : \"2021-10-10T20:13:00\"\\n  }, {\\n    \"QuoteId\" : 2,\\n    \"MinPrice\" : 378,\\n    \"Direct\" : false,\\n    \"OutboundLeg\" : {\\n   ', b'   \"CarrierIds\" : [ 1368 ],\\n      \"OriginId\" : 40595,\\n      \"DestinationId\" : 42601,\\n      \"DepartureDate\" : \"2022-03-26T00:00:0', b'0\"\\n    },\\n    \"QuoteDateTime\" : \"2021-10-11T17:10:00\"\\n  }, {\\n    \"QuoteId\" : 3,\\n    \"MinPrice\" : 378,\\n    \"Direct\" : false,\\n    ', b'\"OutboundLeg\" : {\\n      \"CarrierIds\" : [ 1368 ],\\n      \"OriginId\" : 40595,\\n      \"DestinationId\" : 42601,\\n      \"DepartureDate\" ', b': \"2022-01-03T00:00:00\"\\n    },\\n    \"QuoteDateTime\" : \"2021-10-11T19:24:00\"\\n  }, {\\n    \"QuoteId\" : 4,\\n    \"MinPrice\" : 383,\\n    \"', b'Direct\" : false,\\n    \"OutboundLeg\" : {\\n      \"CarrierIds\" : [ 1324 ],\\n      \"OriginId\" : 40595,\\n      \"DestinationId\" : 42601,\\n ', b'     \"DepartureDate\" : \"2021-12-10T00:00:00\"\\n    },\\n    \"QuoteDateTime\" : \"2021-10-11T08:23:00\"\\n  }, {\\n    \"QuoteId\" : 5,\\n    \"M', b'inPrice\" : 462,\\n    \"Direct\" : false,\\n    \"OutboundLeg\" : {\\n      \"CarrierIds\" : [ 50441 ],\\n      \"OriginId\" : 40595,\\n      \"Des', b'tinationId\" : 42601,\\n      \"DepartureDate\" : \"2021-10-17T00:00:00\"\\n    },\\n    \"QuoteDateTime\" : \"2021-10-13T03:37:00\"\\n  }, {\\n   ', b' \"QuoteId\" : 6,\\n    \"MinPrice\" : 510,\\n    \"Direct\" : true,\\n    \"OutboundLeg\" : {\\n      \"CarrierIds\" : [ 1324 ],\\n      \"OriginId\"', b' : 40595,\\n      \"DestinationId\" : 42601,\\n      \"DepartureDate\" : \"2021-11-15T00:00:00\"\\n    },\\n    \"QuoteDateTime\" : \"2021-10-11T', b'07:08:00\"\\n  }, {\\n    \"QuoteId\" : 7,\\n    \"MinPrice\" : 523,\\n    \"Direct\" : true,\\n    \"OutboundLeg\" : {\\n      \"CarrierIds\" : [ 1324', b' ],\\n      \"OriginId\" : 40595,\\n      \"DestinationId\" : 42601,\\n      \"DepartureDate\" : \"2022-01-03T00:00:00\"\\n    },\\n    \"QuoteDate', b'Time\" : \"2021-10-11T19:24:00\"\\n  }, {\\n    \"QuoteId\" : 8,\\n    \"MinPrice\" : 611,\\n    \"Direct\" : true,\\n    \"OutboundLeg\" : {\\n      \"', b'CarrierIds\" : [ 1324 ],\\n      \"OriginId\" : 40595,\\n      \"DestinationId\" : 42601,\\n      \"DepartureDate\" : \"2021-10-25T00:00:00\"\\n ', b'   },\\n    \"QuoteDateTime\" : \"2021-10-11T23:18:00\"\\n  }, {\\n    \"QuoteId\" : 9,\\n    \"MinPrice\" : 769,\\n    \"Direct\" : true,\\n    \"Outb', b'oundLeg\" : {\\n      \"CarrierIds\" : [ 1324 ],\\n      \"OriginId\" : 40595,\\n      \"DestinationId\" : 42601,\\n      \"DepartureDate\" : \"20', b'21-12-25T00:00:00\"\\n    },\\n    \"QuoteDateTime\" : \"2021-10-14T06:35:00\"\\n  } ],\\n  \"Carriers\" : [ {\\n    \"CarrierId\" : 1190,\\n    \"Nam', b'e\" : \"transavia\"\\n  }, {\\n    \"CarrierId\" : 1324,\\n    \"Name\" : \"KLM\"\\n  }, {\\n    \"CarrierId\" : 50441,\\n    \"Name\" : \"easyJet\"\\n  }, {', b'\\n    \"CarrierId\" : 1368,\\n    \"Name\" : \"Lufthansa\"\\n  } ],\\n  \"Places\" : [ {\\n    \"Name\" : \"Amsterdam Schiphol\",\\n    \"Type\" : \"Stati', b'on\",\\n    \"PlaceId\" : 40595,\\n    \"IataCode\" : \"AMS\",\\n    \"SkyscannerCode\" : \"AMS\",\\n    \"CityName\" : \"Amsterdam\",\\n    \"CityId\" : \"', b'AMST\",\\n    \"CountryName\" : \"Nederland\"\\n  }, {\\n    \"Name\" : \"Bridgetown\",\\n    \"Type\" : \"Station\",\\n    \"PlaceId\" : 42601,\\n    \"Iat', b'aCode\" : \"BGI\",\\n    \"SkyscannerCode\" : \"BGI\",\\n    \"CityName\" : \"Bridgetown\",\\n    \"CityId\" : \"BGIA\",\\n    \"CountryName\" : \"Barbado', b's\"\\n  } ],\\n  \"Currencies\" : [ {\\n    \"Code\" : \"EUR\",\\n    \"Symbol\" : \"\\xe2\\x82\\xac\",\\n    \"ThousandsSeparator\" : \".\",\\n    \"DecimalSeparator\" ', b': \",\",\\n    \"SymbolOnLeft\" : false,\\n    \"SpaceBetweenAmountAndSymbol\" : true,\\n    \"RoundingCoefficient\" : 0,\\n    \"DecimalDigits\" ', b': 2\\n  } ],\\n  \"Dates\" : {\\n    \"OutboundDates\" : [ {\\n      \"PartialDate\" : \"2021-10\",\\n      \"Price\" : 462,\\n      \"QuoteDateTime\" :', b' \"2021-10-13T03:37:00\",\\n      \"QuoteIds\" : [ 5, 8 ]\\n    }, {\\n      \"PartialDate\" : \"2021-11\",\\n      \"Price\" : 336,\\n      \"QuoteD', b'ateTime\" : \"2021-10-10T20:13:00\",\\n      \"QuoteIds\" : [ 1, 6 ]\\n    }, {\\n      \"PartialDate\" : \"2021-12\",\\n      \"Price\" : 383,\\n   ', b'   \"QuoteDateTime\" : \"2021-10-11T08:23:00\",\\n      \"QuoteIds\" : [ 4, 9 ]\\n    }, {\\n      \"PartialDate\" : \"2022-01\",\\n      \"Price\" ', b': 378,\\n      \"QuoteDateTime\" : \"2021-10-11T19:24:00\",\\n      \"QuoteIds\" : [ 3, 7 ]\\n    }, {\\n      \"PartialDate\" : \"2022-03\",\\n    ', b'  \"Price\" : 378,\\n      \"QuoteDateTime\" : \"2021-10-11T17:10:00\",\\n      \"QuoteIds\" : [ 2 ]\\n    } ]\\n  }\\n}']\n",
      "[b'{\\n  \"Quotes\" : [ {\\n    \"QuoteId\" : 1,\\n    \"MinPrice\" : 336,\\n    \"Direct\" : false,\\n    \"OutboundLeg\" : {\\n      \"CarrierIds\" : [ 1', b'190 ],\\n      \"OriginId\" : 40595,\\n      \"DestinationId\" : 42601,\\n      \"DepartureDate\" : \"2021-11-12T00:00:00\"\\n    },\\n    \"QuoteD', b'ateTime\" : \"2021-10-10T20:13:00\"\\n  }, {\\n    \"QuoteId\" : 2,\\n    \"MinPrice\" : 378,\\n    \"Direct\" : false,\\n    \"OutboundLeg\" : {\\n   ', b'   \"CarrierIds\" : [ 1368 ],\\n      \"OriginId\" : 40595,\\n      \"DestinationId\" : 42601,\\n      \"DepartureDate\" : \"2022-03-26T00:00:0', b'0\"\\n    },\\n    \"QuoteDateTime\" : \"2021-10-11T17:10:00\"\\n  }, {\\n    \"QuoteId\" : 3,\\n    \"MinPrice\" : 378,\\n    \"Direct\" : false,\\n    ', b'\"OutboundLeg\" : {\\n      \"CarrierIds\" : [ 1368 ],\\n      \"OriginId\" : 40595,\\n      \"DestinationId\" : 42601,\\n      \"DepartureDate\" ', b': \"2022-01-03T00:00:00\"\\n    },\\n    \"QuoteDateTime\" : \"2021-10-11T19:24:00\"\\n  }, {\\n    \"QuoteId\" : 4,\\n    \"MinPrice\" : 383,\\n    \"', b'Direct\" : false,\\n    \"OutboundLeg\" : {\\n      \"CarrierIds\" : [ 1324 ],\\n      \"OriginId\" : 40595,\\n      \"DestinationId\" : 42601,\\n ', b'     \"DepartureDate\" : \"2021-12-10T00:00:00\"\\n    },\\n    \"QuoteDateTime\" : \"2021-10-11T08:23:00\"\\n  }, {\\n    \"QuoteId\" : 5,\\n    \"M', b'inPrice\" : 462,\\n    \"Direct\" : false,\\n    \"OutboundLeg\" : {\\n      \"CarrierIds\" : [ 50441 ],\\n      \"OriginId\" : 40595,\\n      \"Des', b'tinationId\" : 42601,\\n      \"DepartureDate\" : \"2021-10-17T00:00:00\"\\n    },\\n    \"QuoteDateTime\" : \"2021-10-13T03:37:00\"\\n  }, {\\n   ', b' \"QuoteId\" : 6,\\n    \"MinPrice\" : 510,\\n    \"Direct\" : true,\\n    \"OutboundLeg\" : {\\n      \"CarrierIds\" : [ 1324 ],\\n      \"OriginId\"', b' : 40595,\\n      \"DestinationId\" : 42601,\\n      \"DepartureDate\" : \"2021-11-15T00:00:00\"\\n    },\\n    \"QuoteDateTime\" : \"2021-10-11T', b'07:08:00\"\\n  }, {\\n    \"QuoteId\" : 7,\\n    \"MinPrice\" : 523,\\n    \"Direct\" : true,\\n    \"OutboundLeg\" : {\\n      \"CarrierIds\" : [ 1324', b' ],\\n      \"OriginId\" : 40595,\\n      \"DestinationId\" : 42601,\\n      \"DepartureDate\" : \"2022-01-03T00:00:00\"\\n    },\\n    \"QuoteDate', b'Time\" : \"2021-10-11T19:24:00\"\\n  }, {\\n    \"QuoteId\" : 8,\\n    \"MinPrice\" : 611,\\n    \"Direct\" : true,\\n    \"OutboundLeg\" : {\\n      \"', b'CarrierIds\" : [ 1324 ],\\n      \"OriginId\" : 40595,\\n      \"DestinationId\" : 42601,\\n      \"DepartureDate\" : \"2021-10-25T00:00:00\"\\n ', b'   },\\n    \"QuoteDateTime\" : \"2021-10-11T23:18:00\"\\n  }, {\\n    \"QuoteId\" : 9,\\n    \"MinPrice\" : 769,\\n    \"Direct\" : true,\\n    \"Outb', b'oundLeg\" : {\\n      \"CarrierIds\" : [ 1324 ],\\n      \"OriginId\" : 40595,\\n      \"DestinationId\" : 42601,\\n      \"DepartureDate\" : \"20', b'21-12-25T00:00:00\"\\n    },\\n    \"QuoteDateTime\" : \"2021-10-14T06:35:00\"\\n  } ],\\n  \"Carriers\" : [ {\\n    \"CarrierId\" : 1190,\\n    \"Nam', b'e\" : \"transavia\"\\n  }, {\\n    \"CarrierId\" : 1324,\\n    \"Name\" : \"KLM\"\\n  }, {\\n    \"CarrierId\" : 50441,\\n    \"Name\" : \"easyJet\"\\n  }, {', b'\\n    \"CarrierId\" : 1368,\\n    \"Name\" : \"Lufthansa\"\\n  } ],\\n  \"Places\" : [ {\\n    \"Name\" : \"Amsterdam Schiphol\",\\n    \"Type\" : \"Stati', b'on\",\\n    \"PlaceId\" : 40595,\\n    \"IataCode\" : \"AMS\",\\n    \"SkyscannerCode\" : \"AMS\",\\n    \"CityName\" : \"Amsterdam\",\\n    \"CityId\" : \"', b'AMST\",\\n    \"CountryName\" : \"Nederland\"\\n  }, {\\n    \"Name\" : \"Bridgetown\",\\n    \"Type\" : \"Station\",\\n    \"PlaceId\" : 42601,\\n    \"Iat', b'aCode\" : \"BGI\",\\n    \"SkyscannerCode\" : \"BGI\",\\n    \"CityName\" : \"Bridgetown\",\\n    \"CityId\" : \"BGIA\",\\n    \"CountryName\" : \"Barbado', b's\"\\n  } ],\\n  \"Currencies\" : [ {\\n    \"Code\" : \"EUR\",\\n    \"Symbol\" : \"\\xe2\\x82\\xac\",\\n    \"ThousandsSeparator\" : \".\",\\n    \"DecimalSeparator\" ', b': \",\",\\n    \"SymbolOnLeft\" : false,\\n    \"SpaceBetweenAmountAndSymbol\" : true,\\n    \"RoundingCoefficient\" : 0,\\n    \"DecimalDigits\" ', b': 2\\n  } ],\\n  \"Dates\" : {\\n    \"OutboundDates\" : [ {\\n      \"PartialDate\" : \"2021-10\",\\n      \"Price\" : 462,\\n      \"QuoteDateTime\" :', b' \"2021-10-13T03:37:00\",\\n      \"QuoteIds\" : [ 5, 8 ]\\n    }, {\\n      \"PartialDate\" : \"2021-11\",\\n      \"Price\" : 336,\\n      \"QuoteD', b'ateTime\" : \"2021-10-10T20:13:00\",\\n      \"QuoteIds\" : [ 1, 6 ]\\n    }, {\\n      \"PartialDate\" : \"2021-12\",\\n      \"Price\" : 383,\\n   ', b'   \"QuoteDateTime\" : \"2021-10-11T08:23:00\",\\n      \"QuoteIds\" : [ 4, 9 ]\\n    }, {\\n      \"PartialDate\" : \"2022-01\",\\n      \"Price\" ', b': 378,\\n      \"QuoteDateTime\" : \"2021-10-11T19:24:00\",\\n      \"QuoteIds\" : [ 3, 7 ]\\n    }, {\\n      \"PartialDate\" : \"2022-03\",\\n    ', b'  \"Price\" : 378,\\n      \"QuoteDateTime\" : \"2021-10-11T17:10:00\",\\n      \"QuoteIds\" : [ 2 ]\\n    } ]\\n  }\\n}']\n"
     ]
    },
    {
     "name": "stdout",
     "output_type": "stream",
     "text": [
      "[b'{\\n  \"Quotes\" : [ {\\n    \"QuoteId\" : 1,\\n    \"MinPrice\" : 336,\\n    \"Direct\" : false,\\n    \"OutboundLeg\" : {\\n      \"CarrierIds\" : [ 1', b'190 ],\\n      \"OriginId\" : 40595,\\n      \"DestinationId\" : 42601,\\n      \"DepartureDate\" : \"2021-11-12T00:00:00\"\\n    },\\n    \"QuoteD', b'ateTime\" : \"2021-10-10T20:13:00\"\\n  }, {\\n    \"QuoteId\" : 2,\\n    \"MinPrice\" : 378,\\n    \"Direct\" : false,\\n    \"OutboundLeg\" : {\\n   ', b'   \"CarrierIds\" : [ 1368 ],\\n      \"OriginId\" : 40595,\\n      \"DestinationId\" : 42601,\\n      \"DepartureDate\" : \"2022-03-26T00:00:0', b'0\"\\n    },\\n    \"QuoteDateTime\" : \"2021-10-11T17:10:00\"\\n  }, {\\n    \"QuoteId\" : 3,\\n    \"MinPrice\" : 378,\\n    \"Direct\" : false,\\n    ', b'\"OutboundLeg\" : {\\n      \"CarrierIds\" : [ 1368 ],\\n      \"OriginId\" : 40595,\\n      \"DestinationId\" : 42601,\\n      \"DepartureDate\" ', b': \"2022-01-03T00:00:00\"\\n    },\\n    \"QuoteDateTime\" : \"2021-10-11T19:24:00\"\\n  }, {\\n    \"QuoteId\" : 4,\\n    \"MinPrice\" : 383,\\n    \"', b'Direct\" : false,\\n    \"OutboundLeg\" : {\\n      \"CarrierIds\" : [ 1324 ],\\n      \"OriginId\" : 40595,\\n      \"DestinationId\" : 42601,\\n ', b'     \"DepartureDate\" : \"2021-12-10T00:00:00\"\\n    },\\n    \"QuoteDateTime\" : \"2021-10-11T08:23:00\"\\n  }, {\\n    \"QuoteId\" : 5,\\n    \"M', b'inPrice\" : 462,\\n    \"Direct\" : false,\\n    \"OutboundLeg\" : {\\n      \"CarrierIds\" : [ 50441 ],\\n      \"OriginId\" : 40595,\\n      \"Des', b'tinationId\" : 42601,\\n      \"DepartureDate\" : \"2021-10-17T00:00:00\"\\n    },\\n    \"QuoteDateTime\" : \"2021-10-13T03:37:00\"\\n  }, {\\n   ', b' \"QuoteId\" : 6,\\n    \"MinPrice\" : 510,\\n    \"Direct\" : true,\\n    \"OutboundLeg\" : {\\n      \"CarrierIds\" : [ 1324 ],\\n      \"OriginId\"', b' : 40595,\\n      \"DestinationId\" : 42601,\\n      \"DepartureDate\" : \"2021-11-15T00:00:00\"\\n    },\\n    \"QuoteDateTime\" : \"2021-10-11T', b'07:08:00\"\\n  }, {\\n    \"QuoteId\" : 7,\\n    \"MinPrice\" : 523,\\n    \"Direct\" : true,\\n    \"OutboundLeg\" : {\\n      \"CarrierIds\" : [ 1324', b' ],\\n      \"OriginId\" : 40595,\\n      \"DestinationId\" : 42601,\\n      \"DepartureDate\" : \"2022-01-03T00:00:00\"\\n    },\\n    \"QuoteDate', b'Time\" : \"2021-10-11T19:24:00\"\\n  }, {\\n    \"QuoteId\" : 8,\\n    \"MinPrice\" : 611,\\n    \"Direct\" : true,\\n    \"OutboundLeg\" : {\\n      \"', b'CarrierIds\" : [ 1324 ],\\n      \"OriginId\" : 40595,\\n      \"DestinationId\" : 42601,\\n      \"DepartureDate\" : \"2021-10-25T00:00:00\"\\n ', b'   },\\n    \"QuoteDateTime\" : \"2021-10-11T23:18:00\"\\n  }, {\\n    \"QuoteId\" : 9,\\n    \"MinPrice\" : 769,\\n    \"Direct\" : true,\\n    \"Outb', b'oundLeg\" : {\\n      \"CarrierIds\" : [ 1324 ],\\n      \"OriginId\" : 40595,\\n      \"DestinationId\" : 42601,\\n      \"DepartureDate\" : \"20', b'21-12-25T00:00:00\"\\n    },\\n    \"QuoteDateTime\" : \"2021-10-14T06:35:00\"\\n  } ],\\n  \"Carriers\" : [ {\\n    \"CarrierId\" : 1190,\\n    \"Nam', b'e\" : \"transavia\"\\n  }, {\\n    \"CarrierId\" : 1324,\\n    \"Name\" : \"KLM\"\\n  }, {\\n    \"CarrierId\" : 50441,\\n    \"Name\" : \"easyJet\"\\n  }, {', b'\\n    \"CarrierId\" : 1368,\\n    \"Name\" : \"Lufthansa\"\\n  } ],\\n  \"Places\" : [ {\\n    \"Name\" : \"Amsterdam Schiphol\",\\n    \"Type\" : \"Stati', b'on\",\\n    \"PlaceId\" : 40595,\\n    \"IataCode\" : \"AMS\",\\n    \"SkyscannerCode\" : \"AMS\",\\n    \"CityName\" : \"Amsterdam\",\\n    \"CityId\" : \"', b'AMST\",\\n    \"CountryName\" : \"Nederland\"\\n  }, {\\n    \"Name\" : \"Bridgetown\",\\n    \"Type\" : \"Station\",\\n    \"PlaceId\" : 42601,\\n    \"Iat', b'aCode\" : \"BGI\",\\n    \"SkyscannerCode\" : \"BGI\",\\n    \"CityName\" : \"Bridgetown\",\\n    \"CityId\" : \"BGIA\",\\n    \"CountryName\" : \"Barbado', b's\"\\n  } ],\\n  \"Currencies\" : [ {\\n    \"Code\" : \"EUR\",\\n    \"Symbol\" : \"\\xe2\\x82\\xac\",\\n    \"ThousandsSeparator\" : \".\",\\n    \"DecimalSeparator\" ', b': \",\",\\n    \"SymbolOnLeft\" : false,\\n    \"SpaceBetweenAmountAndSymbol\" : true,\\n    \"RoundingCoefficient\" : 0,\\n    \"DecimalDigits\" ', b': 2\\n  } ],\\n  \"Dates\" : {\\n    \"OutboundDates\" : [ {\\n      \"PartialDate\" : \"2021-10\",\\n      \"Price\" : 462,\\n      \"QuoteDateTime\" :', b' \"2021-10-13T03:37:00\",\\n      \"QuoteIds\" : [ 5, 8 ]\\n    }, {\\n      \"PartialDate\" : \"2021-11\",\\n      \"Price\" : 336,\\n      \"QuoteD', b'ateTime\" : \"2021-10-10T20:13:00\",\\n      \"QuoteIds\" : [ 1, 6 ]\\n    }, {\\n      \"PartialDate\" : \"2021-12\",\\n      \"Price\" : 383,\\n   ', b'   \"QuoteDateTime\" : \"2021-10-11T08:23:00\",\\n      \"QuoteIds\" : [ 4, 9 ]\\n    }, {\\n      \"PartialDate\" : \"2022-01\",\\n      \"Price\" ', b': 378,\\n      \"QuoteDateTime\" : \"2021-10-11T19:24:00\",\\n      \"QuoteIds\" : [ 3, 7 ]\\n    }, {\\n      \"PartialDate\" : \"2022-03\",\\n    ', b'  \"Price\" : 378,\\n      \"QuoteDateTime\" : \"2021-10-11T17:10:00\",\\n      \"QuoteIds\" : [ 2 ]\\n    } ]\\n  }\\n}']\n",
      "[b'{\\n  \"Quotes\" : [ {\\n    \"QuoteId\" : 1,\\n    \"MinPrice\" : 336,\\n    \"Direct\" : false,\\n    \"OutboundLeg\" : {\\n      \"CarrierIds\" : [ 1', b'190 ],\\n      \"OriginId\" : 40595,\\n      \"DestinationId\" : 42601,\\n      \"DepartureDate\" : \"2021-11-12T00:00:00\"\\n    },\\n    \"QuoteD', b'ateTime\" : \"2021-10-10T20:13:00\"\\n  }, {\\n    \"QuoteId\" : 2,\\n    \"MinPrice\" : 378,\\n    \"Direct\" : false,\\n    \"OutboundLeg\" : {\\n   ', b'   \"CarrierIds\" : [ 1368 ],\\n      \"OriginId\" : 40595,\\n      \"DestinationId\" : 42601,\\n      \"DepartureDate\" : \"2022-03-26T00:00:0', b'0\"\\n    },\\n    \"QuoteDateTime\" : \"2021-10-11T17:10:00\"\\n  }, {\\n    \"QuoteId\" : 3,\\n    \"MinPrice\" : 378,\\n    \"Direct\" : false,\\n    ', b'\"OutboundLeg\" : {\\n      \"CarrierIds\" : [ 1368 ],\\n      \"OriginId\" : 40595,\\n      \"DestinationId\" : 42601,\\n      \"DepartureDate\" ', b': \"2022-01-03T00:00:00\"\\n    },\\n    \"QuoteDateTime\" : \"2021-10-11T19:24:00\"\\n  }, {\\n    \"QuoteId\" : 4,\\n    \"MinPrice\" : 383,\\n    \"', b'Direct\" : false,\\n    \"OutboundLeg\" : {\\n      \"CarrierIds\" : [ 1324 ],\\n      \"OriginId\" : 40595,\\n      \"DestinationId\" : 42601,\\n ', b'     \"DepartureDate\" : \"2021-12-10T00:00:00\"\\n    },\\n    \"QuoteDateTime\" : \"2021-10-11T08:23:00\"\\n  }, {\\n    \"QuoteId\" : 5,\\n    \"M', b'inPrice\" : 462,\\n    \"Direct\" : false,\\n    \"OutboundLeg\" : {\\n      \"CarrierIds\" : [ 50441 ],\\n      \"OriginId\" : 40595,\\n      \"Des', b'tinationId\" : 42601,\\n      \"DepartureDate\" : \"2021-10-17T00:00:00\"\\n    },\\n    \"QuoteDateTime\" : \"2021-10-13T03:37:00\"\\n  }, {\\n   ', b' \"QuoteId\" : 6,\\n    \"MinPrice\" : 510,\\n    \"Direct\" : true,\\n    \"OutboundLeg\" : {\\n      \"CarrierIds\" : [ 1324 ],\\n      \"OriginId\"', b' : 40595,\\n      \"DestinationId\" : 42601,\\n      \"DepartureDate\" : \"2021-11-15T00:00:00\"\\n    },\\n    \"QuoteDateTime\" : \"2021-10-11T', b'07:08:00\"\\n  }, {\\n    \"QuoteId\" : 7,\\n    \"MinPrice\" : 523,\\n    \"Direct\" : true,\\n    \"OutboundLeg\" : {\\n      \"CarrierIds\" : [ 1324', b' ],\\n      \"OriginId\" : 40595,\\n      \"DestinationId\" : 42601,\\n      \"DepartureDate\" : \"2022-01-03T00:00:00\"\\n    },\\n    \"QuoteDate', b'Time\" : \"2021-10-11T19:24:00\"\\n  }, {\\n    \"QuoteId\" : 8,\\n    \"MinPrice\" : 611,\\n    \"Direct\" : true,\\n    \"OutboundLeg\" : {\\n      \"', b'CarrierIds\" : [ 1324 ],\\n      \"OriginId\" : 40595,\\n      \"DestinationId\" : 42601,\\n      \"DepartureDate\" : \"2021-10-25T00:00:00\"\\n ', b'   },\\n    \"QuoteDateTime\" : \"2021-10-11T23:18:00\"\\n  }, {\\n    \"QuoteId\" : 9,\\n    \"MinPrice\" : 769,\\n    \"Direct\" : true,\\n    \"Outb', b'oundLeg\" : {\\n      \"CarrierIds\" : [ 1324 ],\\n      \"OriginId\" : 40595,\\n      \"DestinationId\" : 42601,\\n      \"DepartureDate\" : \"20', b'21-12-25T00:00:00\"\\n    },\\n    \"QuoteDateTime\" : \"2021-10-14T06:35:00\"\\n  } ],\\n  \"Carriers\" : [ {\\n    \"CarrierId\" : 1190,\\n    \"Nam', b'e\" : \"transavia\"\\n  }, {\\n    \"CarrierId\" : 1324,\\n    \"Name\" : \"KLM\"\\n  }, {\\n    \"CarrierId\" : 50441,\\n    \"Name\" : \"easyJet\"\\n  }, {', b'\\n    \"CarrierId\" : 1368,\\n    \"Name\" : \"Lufthansa\"\\n  } ],\\n  \"Places\" : [ {\\n    \"Name\" : \"Amsterdam Schiphol\",\\n    \"Type\" : \"Stati', b'on\",\\n    \"PlaceId\" : 40595,\\n    \"IataCode\" : \"AMS\",\\n    \"SkyscannerCode\" : \"AMS\",\\n    \"CityName\" : \"Amsterdam\",\\n    \"CityId\" : \"', b'AMST\",\\n    \"CountryName\" : \"Nederland\"\\n  }, {\\n    \"Name\" : \"Bridgetown\",\\n    \"Type\" : \"Station\",\\n    \"PlaceId\" : 42601,\\n    \"Iat', b'aCode\" : \"BGI\",\\n    \"SkyscannerCode\" : \"BGI\",\\n    \"CityName\" : \"Bridgetown\",\\n    \"CityId\" : \"BGIA\",\\n    \"CountryName\" : \"Barbado', b's\"\\n  } ],\\n  \"Currencies\" : [ {\\n    \"Code\" : \"EUR\",\\n    \"Symbol\" : \"\\xe2\\x82\\xac\",\\n    \"ThousandsSeparator\" : \".\",\\n    \"DecimalSeparator\" ', b': \",\",\\n    \"SymbolOnLeft\" : false,\\n    \"SpaceBetweenAmountAndSymbol\" : true,\\n    \"RoundingCoefficient\" : 0,\\n    \"DecimalDigits\" ', b': 2\\n  } ],\\n  \"Dates\" : {\\n    \"OutboundDates\" : [ {\\n      \"PartialDate\" : \"2021-10\",\\n      \"QuoteDateTime\" : \"2021-10-13T03:37:00', b'\",\\n      \"Price\" : 462,\\n      \"QuoteIds\" : [ 5, 8 ]\\n    }, {\\n      \"PartialDate\" : \"2021-11\",\\n      \"QuoteDateTime\" : \"2021-10-1', b'0T20:13:00\",\\n      \"Price\" : 336,\\n      \"QuoteIds\" : [ 1, 6 ]\\n    }, {\\n      \"PartialDate\" : \"2021-12\",\\n      \"QuoteDateTime\" : ', b'\"2021-10-11T08:23:00\",\\n      \"Price\" : 383,\\n      \"QuoteIds\" : [ 4, 9 ]\\n    }, {\\n      \"PartialDate\" : \"2022-01\",\\n      \"QuoteDa', b'teTime\" : \"2021-10-11T19:24:00\",\\n      \"Price\" : 378,\\n      \"QuoteIds\" : [ 3, 7 ]\\n    }, {\\n      \"PartialDate\" : \"2022-03\",\\n    ', b'  \"QuoteDateTime\" : \"2021-10-11T17:10:00\",\\n      \"Price\" : 378,\\n      \"QuoteIds\" : [ 2 ]\\n    } ]\\n  }\\n}']\n"
     ]
    },
    {
     "name": "stdout",
     "output_type": "stream",
     "text": [
      "[b'{\\n  \"Quotes\" : [ {\\n    \"QuoteId\" : 1,\\n    \"MinPrice\" : 336,\\n    \"Direct\" : false,\\n    \"OutboundLeg\" : {\\n      \"CarrierIds\" : [ 1', b'190 ],\\n      \"OriginId\" : 40595,\\n      \"DestinationId\" : 42601,\\n      \"DepartureDate\" : \"2021-11-12T00:00:00\"\\n    },\\n    \"QuoteD', b'ateTime\" : \"2021-10-10T20:13:00\"\\n  }, {\\n    \"QuoteId\" : 2,\\n    \"MinPrice\" : 378,\\n    \"Direct\" : false,\\n    \"OutboundLeg\" : {\\n   ', b'   \"CarrierIds\" : [ 1368 ],\\n      \"OriginId\" : 40595,\\n      \"DestinationId\" : 42601,\\n      \"DepartureDate\" : \"2022-03-26T00:00:0', b'0\"\\n    },\\n    \"QuoteDateTime\" : \"2021-10-11T17:10:00\"\\n  }, {\\n    \"QuoteId\" : 3,\\n    \"MinPrice\" : 378,\\n    \"Direct\" : false,\\n    ', b'\"OutboundLeg\" : {\\n      \"CarrierIds\" : [ 1368 ],\\n      \"OriginId\" : 40595,\\n      \"DestinationId\" : 42601,\\n      \"DepartureDate\" ', b': \"2022-01-03T00:00:00\"\\n    },\\n    \"QuoteDateTime\" : \"2021-10-11T19:24:00\"\\n  }, {\\n    \"QuoteId\" : 4,\\n    \"MinPrice\" : 383,\\n    \"', b'Direct\" : false,\\n    \"OutboundLeg\" : {\\n      \"CarrierIds\" : [ 1324 ],\\n      \"OriginId\" : 40595,\\n      \"DestinationId\" : 42601,\\n ', b'     \"DepartureDate\" : \"2021-12-10T00:00:00\"\\n    },\\n    \"QuoteDateTime\" : \"2021-10-11T08:23:00\"\\n  }, {\\n    \"QuoteId\" : 5,\\n    \"M', b'inPrice\" : 462,\\n    \"Direct\" : false,\\n    \"OutboundLeg\" : {\\n      \"CarrierIds\" : [ 50441 ],\\n      \"OriginId\" : 40595,\\n      \"Des', b'tinationId\" : 42601,\\n      \"DepartureDate\" : \"2021-10-17T00:00:00\"\\n    },\\n    \"QuoteDateTime\" : \"2021-10-13T03:37:00\"\\n  }, {\\n   ', b' \"QuoteId\" : 6,\\n    \"MinPrice\" : 510,\\n    \"Direct\" : true,\\n    \"OutboundLeg\" : {\\n      \"CarrierIds\" : [ 1324 ],\\n      \"OriginId\"', b' : 40595,\\n      \"DestinationId\" : 42601,\\n      \"DepartureDate\" : \"2021-11-15T00:00:00\"\\n    },\\n    \"QuoteDateTime\" : \"2021-10-11T', b'07:08:00\"\\n  }, {\\n    \"QuoteId\" : 7,\\n    \"MinPrice\" : 523,\\n    \"Direct\" : true,\\n    \"OutboundLeg\" : {\\n      \"CarrierIds\" : [ 1324', b' ],\\n      \"OriginId\" : 40595,\\n      \"DestinationId\" : 42601,\\n      \"DepartureDate\" : \"2022-01-03T00:00:00\"\\n    },\\n    \"QuoteDate', b'Time\" : \"2021-10-11T19:24:00\"\\n  }, {\\n    \"QuoteId\" : 8,\\n    \"MinPrice\" : 611,\\n    \"Direct\" : true,\\n    \"OutboundLeg\" : {\\n      \"', b'CarrierIds\" : [ 1324 ],\\n      \"OriginId\" : 40595,\\n      \"DestinationId\" : 42601,\\n      \"DepartureDate\" : \"2021-10-25T00:00:00\"\\n ', b'   },\\n    \"QuoteDateTime\" : \"2021-10-11T23:18:00\"\\n  }, {\\n    \"QuoteId\" : 9,\\n    \"MinPrice\" : 769,\\n    \"Direct\" : true,\\n    \"Outb', b'oundLeg\" : {\\n      \"CarrierIds\" : [ 1324 ],\\n      \"OriginId\" : 40595,\\n      \"DestinationId\" : 42601,\\n      \"DepartureDate\" : \"20', b'21-12-25T00:00:00\"\\n    },\\n    \"QuoteDateTime\" : \"2021-10-14T06:35:00\"\\n  } ],\\n  \"Carriers\" : [ {\\n    \"CarrierId\" : 1190,\\n    \"Nam', b'e\" : \"transavia\"\\n  }, {\\n    \"CarrierId\" : 1324,\\n    \"Name\" : \"KLM\"\\n  }, {\\n    \"CarrierId\" : 50441,\\n    \"Name\" : \"easyJet\"\\n  }, {', b'\\n    \"CarrierId\" : 1368,\\n    \"Name\" : \"Lufthansa\"\\n  } ],\\n  \"Places\" : [ {\\n    \"Name\" : \"Amsterdam Schiphol\",\\n    \"Type\" : \"Stati', b'on\",\\n    \"PlaceId\" : 40595,\\n    \"IataCode\" : \"AMS\",\\n    \"SkyscannerCode\" : \"AMS\",\\n    \"CityName\" : \"Amsterdam\",\\n    \"CityId\" : \"', b'AMST\",\\n    \"CountryName\" : \"Nederland\"\\n  }, {\\n    \"Name\" : \"Bridgetown\",\\n    \"Type\" : \"Station\",\\n    \"PlaceId\" : 42601,\\n    \"Iat', b'aCode\" : \"BGI\",\\n    \"SkyscannerCode\" : \"BGI\",\\n    \"CityName\" : \"Bridgetown\",\\n    \"CityId\" : \"BGIA\",\\n    \"CountryName\" : \"Barbado', b's\"\\n  } ],\\n  \"Currencies\" : [ {\\n    \"Code\" : \"EUR\",\\n    \"Symbol\" : \"\\xe2\\x82\\xac\",\\n    \"ThousandsSeparator\" : \".\",\\n    \"DecimalSeparator\" ', b': \",\",\\n    \"SymbolOnLeft\" : false,\\n    \"SpaceBetweenAmountAndSymbol\" : true,\\n    \"RoundingCoefficient\" : 0,\\n    \"DecimalDigits\" ', b': 2\\n  } ],\\n  \"Dates\" : {\\n    \"OutboundDates\" : [ {\\n      \"PartialDate\" : \"2021-10\",\\n      \"Price\" : 462,\\n      \"QuoteDateTime\" :', b' \"2021-10-13T03:37:00\",\\n      \"QuoteIds\" : [ 5, 8 ]\\n    }, {\\n      \"PartialDate\" : \"2021-11\",\\n      \"Price\" : 336,\\n      \"QuoteD', b'ateTime\" : \"2021-10-10T20:13:00\",\\n      \"QuoteIds\" : [ 1, 6 ]\\n    }, {\\n      \"PartialDate\" : \"2021-12\",\\n      \"Price\" : 383,\\n   ', b'   \"QuoteDateTime\" : \"2021-10-11T08:23:00\",\\n      \"QuoteIds\" : [ 4, 9 ]\\n    }, {\\n      \"PartialDate\" : \"2022-01\",\\n      \"Price\" ', b': 378,\\n      \"QuoteDateTime\" : \"2021-10-11T19:24:00\",\\n      \"QuoteIds\" : [ 3, 7 ]\\n    }, {\\n      \"PartialDate\" : \"2022-03\",\\n    ', b'  \"Price\" : 378,\\n      \"QuoteDateTime\" : \"2021-10-11T17:10:00\",\\n      \"QuoteIds\" : [ 2 ]\\n    } ]\\n  }\\n}']\n",
      "[b'{\\n  \"Quotes\" : [ {\\n    \"QuoteId\" : 1,\\n    \"MinPrice\" : 336,\\n    \"Direct\" : false,\\n    \"OutboundLeg\" : {\\n      \"CarrierIds\" : [ 1', b'190 ],\\n      \"OriginId\" : 40595,\\n      \"DestinationId\" : 42601,\\n      \"DepartureDate\" : \"2021-11-12T00:00:00\"\\n    },\\n    \"QuoteD', b'ateTime\" : \"2021-10-10T20:13:00\"\\n  }, {\\n    \"QuoteId\" : 2,\\n    \"MinPrice\" : 378,\\n    \"Direct\" : false,\\n    \"OutboundLeg\" : {\\n   ', b'   \"CarrierIds\" : [ 1368 ],\\n      \"OriginId\" : 40595,\\n      \"DestinationId\" : 42601,\\n      \"DepartureDate\" : \"2022-03-26T00:00:0', b'0\"\\n    },\\n    \"QuoteDateTime\" : \"2021-10-11T17:10:00\"\\n  }, {\\n    \"QuoteId\" : 3,\\n    \"MinPrice\" : 378,\\n    \"Direct\" : false,\\n    ', b'\"OutboundLeg\" : {\\n      \"CarrierIds\" : [ 1368 ],\\n      \"OriginId\" : 40595,\\n      \"DestinationId\" : 42601,\\n      \"DepartureDate\" ', b': \"2022-01-03T00:00:00\"\\n    },\\n    \"QuoteDateTime\" : \"2021-10-11T19:24:00\"\\n  }, {\\n    \"QuoteId\" : 4,\\n    \"MinPrice\" : 383,\\n    \"', b'Direct\" : false,\\n    \"OutboundLeg\" : {\\n      \"CarrierIds\" : [ 1324 ],\\n      \"OriginId\" : 40595,\\n      \"DestinationId\" : 42601,\\n ', b'     \"DepartureDate\" : \"2021-12-10T00:00:00\"\\n    },\\n    \"QuoteDateTime\" : \"2021-10-11T08:23:00\"\\n  }, {\\n    \"QuoteId\" : 5,\\n    \"M', b'inPrice\" : 462,\\n    \"Direct\" : false,\\n    \"OutboundLeg\" : {\\n      \"CarrierIds\" : [ 50441 ],\\n      \"OriginId\" : 40595,\\n      \"Des', b'tinationId\" : 42601,\\n      \"DepartureDate\" : \"2021-10-17T00:00:00\"\\n    },\\n    \"QuoteDateTime\" : \"2021-10-13T03:37:00\"\\n  }, {\\n   ', b' \"QuoteId\" : 6,\\n    \"MinPrice\" : 510,\\n    \"Direct\" : true,\\n    \"OutboundLeg\" : {\\n      \"CarrierIds\" : [ 1324 ],\\n      \"OriginId\"', b' : 40595,\\n      \"DestinationId\" : 42601,\\n      \"DepartureDate\" : \"2021-11-15T00:00:00\"\\n    },\\n    \"QuoteDateTime\" : \"2021-10-11T', b'07:08:00\"\\n  }, {\\n    \"QuoteId\" : 7,\\n    \"MinPrice\" : 523,\\n    \"Direct\" : true,\\n    \"OutboundLeg\" : {\\n      \"CarrierIds\" : [ 1324', b' ],\\n      \"OriginId\" : 40595,\\n      \"DestinationId\" : 42601,\\n      \"DepartureDate\" : \"2022-01-03T00:00:00\"\\n    },\\n    \"QuoteDate', b'Time\" : \"2021-10-11T19:24:00\"\\n  }, {\\n    \"QuoteId\" : 8,\\n    \"MinPrice\" : 611,\\n    \"Direct\" : true,\\n    \"OutboundLeg\" : {\\n      \"', b'CarrierIds\" : [ 1324 ],\\n      \"OriginId\" : 40595,\\n      \"DestinationId\" : 42601,\\n      \"DepartureDate\" : \"2021-10-25T00:00:00\"\\n ', b'   },\\n    \"QuoteDateTime\" : \"2021-10-11T23:18:00\"\\n  }, {\\n    \"QuoteId\" : 9,\\n    \"MinPrice\" : 769,\\n    \"Direct\" : true,\\n    \"Outb', b'oundLeg\" : {\\n      \"CarrierIds\" : [ 1324 ],\\n      \"OriginId\" : 40595,\\n      \"DestinationId\" : 42601,\\n      \"DepartureDate\" : \"20', b'21-12-25T00:00:00\"\\n    },\\n    \"QuoteDateTime\" : \"2021-10-14T06:35:00\"\\n  } ],\\n  \"Carriers\" : [ {\\n    \"CarrierId\" : 1190,\\n    \"Nam', b'e\" : \"transavia\"\\n  }, {\\n    \"CarrierId\" : 1324,\\n    \"Name\" : \"KLM\"\\n  }, {\\n    \"CarrierId\" : 50441,\\n    \"Name\" : \"easyJet\"\\n  }, {', b'\\n    \"CarrierId\" : 1368,\\n    \"Name\" : \"Lufthansa\"\\n  } ],\\n  \"Places\" : [ {\\n    \"Name\" : \"Amsterdam Schiphol\",\\n    \"Type\" : \"Stati', b'on\",\\n    \"PlaceId\" : 40595,\\n    \"IataCode\" : \"AMS\",\\n    \"SkyscannerCode\" : \"AMS\",\\n    \"CityName\" : \"Amsterdam\",\\n    \"CityId\" : \"', b'AMST\",\\n    \"CountryName\" : \"Nederland\"\\n  }, {\\n    \"Name\" : \"Bridgetown\",\\n    \"Type\" : \"Station\",\\n    \"PlaceId\" : 42601,\\n    \"Iat', b'aCode\" : \"BGI\",\\n    \"SkyscannerCode\" : \"BGI\",\\n    \"CityName\" : \"Bridgetown\",\\n    \"CityId\" : \"BGIA\",\\n    \"CountryName\" : \"Barbado', b's\"\\n  } ],\\n  \"Currencies\" : [ {\\n    \"Code\" : \"EUR\",\\n    \"Symbol\" : \"\\xe2\\x82\\xac\",\\n    \"ThousandsSeparator\" : \".\",\\n    \"DecimalSeparator\" ', b': \",\",\\n    \"SymbolOnLeft\" : false,\\n    \"SpaceBetweenAmountAndSymbol\" : true,\\n    \"RoundingCoefficient\" : 0,\\n    \"DecimalDigits\" ', b': 2\\n  } ],\\n  \"Dates\" : {\\n    \"OutboundDates\" : [ {\\n      \"PartialDate\" : \"2021-10\",\\n      \"Price\" : 462,\\n      \"QuoteDateTime\" :', b' \"2021-10-13T03:37:00\",\\n      \"QuoteIds\" : [ 5, 8 ]\\n    }, {\\n      \"PartialDate\" : \"2021-11\",\\n      \"Price\" : 336,\\n      \"QuoteD', b'ateTime\" : \"2021-10-10T20:13:00\",\\n      \"QuoteIds\" : [ 1, 6 ]\\n    }, {\\n      \"PartialDate\" : \"2021-12\",\\n      \"Price\" : 383,\\n   ', b'   \"QuoteDateTime\" : \"2021-10-11T08:23:00\",\\n      \"QuoteIds\" : [ 4, 9 ]\\n    }, {\\n      \"PartialDate\" : \"2022-01\",\\n      \"Price\" ', b': 378,\\n      \"QuoteDateTime\" : \"2021-10-11T19:24:00\",\\n      \"QuoteIds\" : [ 3, 7 ]\\n    }, {\\n      \"PartialDate\" : \"2022-03\",\\n    ', b'  \"Price\" : 378,\\n      \"QuoteDateTime\" : \"2021-10-11T17:10:00\",\\n      \"QuoteIds\" : [ 2 ]\\n    } ]\\n  }\\n}']\n"
     ]
    },
    {
     "name": "stdout",
     "output_type": "stream",
     "text": [
      "[b'{\\n  \"Quotes\" : [ {\\n    \"QuoteId\" : 1,\\n    \"MinPrice\" : 336,\\n    \"Direct\" : false,\\n    \"OutboundLeg\" : {\\n      \"CarrierIds\" : [ 1', b'190 ],\\n      \"OriginId\" : 40595,\\n      \"DestinationId\" : 42601,\\n      \"DepartureDate\" : \"2021-11-12T00:00:00\"\\n    },\\n    \"QuoteD', b'ateTime\" : \"2021-10-10T20:13:00\"\\n  }, {\\n    \"QuoteId\" : 2,\\n    \"MinPrice\" : 378,\\n    \"Direct\" : false,\\n    \"OutboundLeg\" : {\\n   ', b'   \"CarrierIds\" : [ 1368 ],\\n      \"OriginId\" : 40595,\\n      \"DestinationId\" : 42601,\\n      \"DepartureDate\" : \"2022-03-26T00:00:0', b'0\"\\n    },\\n    \"QuoteDateTime\" : \"2021-10-11T17:10:00\"\\n  }, {\\n    \"QuoteId\" : 3,\\n    \"MinPrice\" : 378,\\n    \"Direct\" : false,\\n    ', b'\"OutboundLeg\" : {\\n      \"CarrierIds\" : [ 1368 ],\\n      \"OriginId\" : 40595,\\n      \"DestinationId\" : 42601,\\n      \"DepartureDate\" ', b': \"2022-01-03T00:00:00\"\\n    },\\n    \"QuoteDateTime\" : \"2021-10-11T19:24:00\"\\n  }, {\\n    \"QuoteId\" : 4,\\n    \"MinPrice\" : 383,\\n    \"', b'Direct\" : false,\\n    \"OutboundLeg\" : {\\n      \"CarrierIds\" : [ 1324 ],\\n      \"OriginId\" : 40595,\\n      \"DestinationId\" : 42601,\\n ', b'     \"DepartureDate\" : \"2021-12-10T00:00:00\"\\n    },\\n    \"QuoteDateTime\" : \"2021-10-11T08:23:00\"\\n  }, {\\n    \"QuoteId\" : 5,\\n    \"M', b'inPrice\" : 462,\\n    \"Direct\" : false,\\n    \"OutboundLeg\" : {\\n      \"CarrierIds\" : [ 50441 ],\\n      \"OriginId\" : 40595,\\n      \"Des', b'tinationId\" : 42601,\\n      \"DepartureDate\" : \"2021-10-17T00:00:00\"\\n    },\\n    \"QuoteDateTime\" : \"2021-10-13T03:37:00\"\\n  }, {\\n   ', b' \"QuoteId\" : 6,\\n    \"MinPrice\" : 510,\\n    \"Direct\" : true,\\n    \"OutboundLeg\" : {\\n      \"CarrierIds\" : [ 1324 ],\\n      \"OriginId\"', b' : 40595,\\n      \"DestinationId\" : 42601,\\n      \"DepartureDate\" : \"2021-11-15T00:00:00\"\\n    },\\n    \"QuoteDateTime\" : \"2021-10-11T', b'07:08:00\"\\n  }, {\\n    \"QuoteId\" : 7,\\n    \"MinPrice\" : 523,\\n    \"Direct\" : true,\\n    \"OutboundLeg\" : {\\n      \"CarrierIds\" : [ 1324', b' ],\\n      \"OriginId\" : 40595,\\n      \"DestinationId\" : 42601,\\n      \"DepartureDate\" : \"2022-01-03T00:00:00\"\\n    },\\n    \"QuoteDate', b'Time\" : \"2021-10-11T19:24:00\"\\n  }, {\\n    \"QuoteId\" : 8,\\n    \"MinPrice\" : 611,\\n    \"Direct\" : true,\\n    \"OutboundLeg\" : {\\n      \"', b'CarrierIds\" : [ 1324 ],\\n      \"OriginId\" : 40595,\\n      \"DestinationId\" : 42601,\\n      \"DepartureDate\" : \"2021-10-25T00:00:00\"\\n ', b'   },\\n    \"QuoteDateTime\" : \"2021-10-11T23:18:00\"\\n  }, {\\n    \"QuoteId\" : 9,\\n    \"MinPrice\" : 769,\\n    \"Direct\" : true,\\n    \"Outb', b'oundLeg\" : {\\n      \"CarrierIds\" : [ 1324 ],\\n      \"OriginId\" : 40595,\\n      \"DestinationId\" : 42601,\\n      \"DepartureDate\" : \"20', b'21-12-25T00:00:00\"\\n    },\\n    \"QuoteDateTime\" : \"2021-10-14T06:35:00\"\\n  } ],\\n  \"Carriers\" : [ {\\n    \"CarrierId\" : 1190,\\n    \"Nam', b'e\" : \"transavia\"\\n  }, {\\n    \"CarrierId\" : 1324,\\n    \"Name\" : \"KLM\"\\n  }, {\\n    \"CarrierId\" : 50441,\\n    \"Name\" : \"easyJet\"\\n  }, {', b'\\n    \"CarrierId\" : 1368,\\n    \"Name\" : \"Lufthansa\"\\n  } ],\\n  \"Places\" : [ {\\n    \"Name\" : \"Amsterdam Schiphol\",\\n    \"Type\" : \"Stati', b'on\",\\n    \"PlaceId\" : 40595,\\n    \"IataCode\" : \"AMS\",\\n    \"SkyscannerCode\" : \"AMS\",\\n    \"CityName\" : \"Amsterdam\",\\n    \"CityId\" : \"', b'AMST\",\\n    \"CountryName\" : \"Nederland\"\\n  }, {\\n    \"Name\" : \"Bridgetown\",\\n    \"Type\" : \"Station\",\\n    \"PlaceId\" : 42601,\\n    \"Iat', b'aCode\" : \"BGI\",\\n    \"SkyscannerCode\" : \"BGI\",\\n    \"CityName\" : \"Bridgetown\",\\n    \"CityId\" : \"BGIA\",\\n    \"CountryName\" : \"Barbado', b's\"\\n  } ],\\n  \"Currencies\" : [ {\\n    \"Code\" : \"EUR\",\\n    \"Symbol\" : \"\\xe2\\x82\\xac\",\\n    \"ThousandsSeparator\" : \".\",\\n    \"DecimalSeparator\" ', b': \",\",\\n    \"SymbolOnLeft\" : false,\\n    \"SpaceBetweenAmountAndSymbol\" : true,\\n    \"RoundingCoefficient\" : 0,\\n    \"DecimalDigits\" ', b': 2\\n  } ],\\n  \"Dates\" : {\\n    \"OutboundDates\" : [ {\\n      \"PartialDate\" : \"2021-10\",\\n      \"Price\" : 462,\\n      \"QuoteDateTime\" :', b' \"2021-10-13T03:37:00\",\\n      \"QuoteIds\" : [ 5, 8 ]\\n    }, {\\n      \"PartialDate\" : \"2021-11\",\\n      \"Price\" : 336,\\n      \"QuoteD', b'ateTime\" : \"2021-10-10T20:13:00\",\\n      \"QuoteIds\" : [ 1, 6 ]\\n    }, {\\n      \"PartialDate\" : \"2021-12\",\\n      \"Price\" : 383,\\n   ', b'   \"QuoteDateTime\" : \"2021-10-11T08:23:00\",\\n      \"QuoteIds\" : [ 4, 9 ]\\n    }, {\\n      \"PartialDate\" : \"2022-01\",\\n      \"Price\" ', b': 378,\\n      \"QuoteDateTime\" : \"2021-10-11T19:24:00\",\\n      \"QuoteIds\" : [ 3, 7 ]\\n    }, {\\n      \"PartialDate\" : \"2022-03\",\\n    ', b'  \"Price\" : 378,\\n      \"QuoteDateTime\" : \"2021-10-11T17:10:00\",\\n      \"QuoteIds\" : [ 2 ]\\n    } ]\\n  }\\n}']\n",
      "[b'{\\n  \"Quotes\" : [ {\\n    \"QuoteId\" : 1,\\n    \"MinPrice\" : 336,\\n    \"Direct\" : false,\\n    \"OutboundLeg\" : {\\n      \"CarrierIds\" : [ 1', b'190 ],\\n      \"OriginId\" : 40595,\\n      \"DestinationId\" : 42601,\\n      \"DepartureDate\" : \"2021-11-12T00:00:00\"\\n    },\\n    \"QuoteD', b'ateTime\" : \"2021-10-10T20:13:00\"\\n  }, {\\n    \"QuoteId\" : 2,\\n    \"MinPrice\" : 378,\\n    \"Direct\" : false,\\n    \"OutboundLeg\" : {\\n   ', b'   \"CarrierIds\" : [ 1368 ],\\n      \"OriginId\" : 40595,\\n      \"DestinationId\" : 42601,\\n      \"DepartureDate\" : \"2022-03-26T00:00:0', b'0\"\\n    },\\n    \"QuoteDateTime\" : \"2021-10-11T17:10:00\"\\n  }, {\\n    \"QuoteId\" : 3,\\n    \"MinPrice\" : 378,\\n    \"Direct\" : false,\\n    ', b'\"OutboundLeg\" : {\\n      \"CarrierIds\" : [ 1368 ],\\n      \"OriginId\" : 40595,\\n      \"DestinationId\" : 42601,\\n      \"DepartureDate\" ', b': \"2022-01-03T00:00:00\"\\n    },\\n    \"QuoteDateTime\" : \"2021-10-11T19:24:00\"\\n  }, {\\n    \"QuoteId\" : 4,\\n    \"MinPrice\" : 383,\\n    \"', b'Direct\" : false,\\n    \"OutboundLeg\" : {\\n      \"CarrierIds\" : [ 1324 ],\\n      \"OriginId\" : 40595,\\n      \"DestinationId\" : 42601,\\n ', b'     \"DepartureDate\" : \"2021-12-10T00:00:00\"\\n    },\\n    \"QuoteDateTime\" : \"2021-10-11T08:23:00\"\\n  }, {\\n    \"QuoteId\" : 5,\\n    \"M', b'inPrice\" : 462,\\n    \"Direct\" : false,\\n    \"OutboundLeg\" : {\\n      \"CarrierIds\" : [ 50441 ],\\n      \"OriginId\" : 40595,\\n      \"Des', b'tinationId\" : 42601,\\n      \"DepartureDate\" : \"2021-10-17T00:00:00\"\\n    },\\n    \"QuoteDateTime\" : \"2021-10-13T03:37:00\"\\n  }, {\\n   ', b' \"QuoteId\" : 6,\\n    \"MinPrice\" : 510,\\n    \"Direct\" : true,\\n    \"OutboundLeg\" : {\\n      \"CarrierIds\" : [ 1324 ],\\n      \"OriginId\"', b' : 40595,\\n      \"DestinationId\" : 42601,\\n      \"DepartureDate\" : \"2021-11-15T00:00:00\"\\n    },\\n    \"QuoteDateTime\" : \"2021-10-11T', b'07:08:00\"\\n  }, {\\n    \"QuoteId\" : 7,\\n    \"MinPrice\" : 523,\\n    \"Direct\" : true,\\n    \"OutboundLeg\" : {\\n      \"CarrierIds\" : [ 1324', b' ],\\n      \"OriginId\" : 40595,\\n      \"DestinationId\" : 42601,\\n      \"DepartureDate\" : \"2022-01-03T00:00:00\"\\n    },\\n    \"QuoteDate', b'Time\" : \"2021-10-11T19:24:00\"\\n  }, {\\n    \"QuoteId\" : 8,\\n    \"MinPrice\" : 611,\\n    \"Direct\" : true,\\n    \"OutboundLeg\" : {\\n      \"', b'CarrierIds\" : [ 1324 ],\\n      \"OriginId\" : 40595,\\n      \"DestinationId\" : 42601,\\n      \"DepartureDate\" : \"2021-10-25T00:00:00\"\\n ', b'   },\\n    \"QuoteDateTime\" : \"2021-10-11T23:18:00\"\\n  }, {\\n    \"QuoteId\" : 9,\\n    \"MinPrice\" : 769,\\n    \"Direct\" : true,\\n    \"Outb', b'oundLeg\" : {\\n      \"CarrierIds\" : [ 1324 ],\\n      \"OriginId\" : 40595,\\n      \"DestinationId\" : 42601,\\n      \"DepartureDate\" : \"20', b'21-12-25T00:00:00\"\\n    },\\n    \"QuoteDateTime\" : \"2021-10-14T06:35:00\"\\n  } ],\\n  \"Carriers\" : [ {\\n    \"CarrierId\" : 1190,\\n    \"Nam', b'e\" : \"transavia\"\\n  }, {\\n    \"CarrierId\" : 1324,\\n    \"Name\" : \"KLM\"\\n  }, {\\n    \"CarrierId\" : 50441,\\n    \"Name\" : \"easyJet\"\\n  }, {', b'\\n    \"CarrierId\" : 1368,\\n    \"Name\" : \"Lufthansa\"\\n  } ],\\n  \"Places\" : [ {\\n    \"Name\" : \"Amsterdam Schiphol\",\\n    \"Type\" : \"Stati', b'on\",\\n    \"PlaceId\" : 40595,\\n    \"IataCode\" : \"AMS\",\\n    \"SkyscannerCode\" : \"AMS\",\\n    \"CityName\" : \"Amsterdam\",\\n    \"CityId\" : \"', b'AMST\",\\n    \"CountryName\" : \"Nederland\"\\n  }, {\\n    \"Name\" : \"Bridgetown\",\\n    \"Type\" : \"Station\",\\n    \"PlaceId\" : 42601,\\n    \"Iat', b'aCode\" : \"BGI\",\\n    \"SkyscannerCode\" : \"BGI\",\\n    \"CityName\" : \"Bridgetown\",\\n    \"CityId\" : \"BGIA\",\\n    \"CountryName\" : \"Barbado', b's\"\\n  } ],\\n  \"Currencies\" : [ {\\n    \"Code\" : \"EUR\",\\n    \"Symbol\" : \"\\xe2\\x82\\xac\",\\n    \"ThousandsSeparator\" : \".\",\\n    \"DecimalSeparator\" ', b': \",\",\\n    \"SymbolOnLeft\" : false,\\n    \"SpaceBetweenAmountAndSymbol\" : true,\\n    \"RoundingCoefficient\" : 0,\\n    \"DecimalDigits\" ', b': 2\\n  } ],\\n  \"Dates\" : {\\n    \"OutboundDates\" : [ {\\n      \"PartialDate\" : \"2021-10\",\\n      \"Price\" : 462,\\n      \"QuoteDateTime\" :', b' \"2021-10-13T03:37:00\",\\n      \"QuoteIds\" : [ 5, 8 ]\\n    }, {\\n      \"PartialDate\" : \"2021-11\",\\n      \"Price\" : 336,\\n      \"QuoteD', b'ateTime\" : \"2021-10-10T20:13:00\",\\n      \"QuoteIds\" : [ 1, 6 ]\\n    }, {\\n      \"PartialDate\" : \"2021-12\",\\n      \"Price\" : 383,\\n   ', b'   \"QuoteDateTime\" : \"2021-10-11T08:23:00\",\\n      \"QuoteIds\" : [ 4, 9 ]\\n    }, {\\n      \"PartialDate\" : \"2022-01\",\\n      \"Price\" ', b': 378,\\n      \"QuoteDateTime\" : \"2021-10-11T19:24:00\",\\n      \"QuoteIds\" : [ 3, 7 ]\\n    }, {\\n      \"PartialDate\" : \"2022-03\",\\n    ', b'  \"Price\" : 378,\\n      \"QuoteDateTime\" : \"2021-10-11T17:10:00\",\\n      \"QuoteIds\" : [ 2 ]\\n    } ]\\n  }\\n}']\n"
     ]
    }
   ],
   "source": [
    "for start in starts:\n",
    "    flights = []\n",
    "    response = requests.request(\"GET\", url, headers=headers)\n",
    "    flights.extend(response)\n",
    "    print(flights)"
   ]
  },
  {
   "cell_type": "markdown",
   "id": "384aafe2",
   "metadata": {},
   "source": [
    "### Following the class example, create a function that returns the price, names of origin and arrival airports and the name of the company. Do it for all the flights between two dates that cost the same."
   ]
  },
  {
   "cell_type": "code",
   "execution_count": 6,
   "id": "61660b02",
   "metadata": {},
   "outputs": [
    {
     "data": {
      "text/html": [
       "<div>\n",
       "<style scoped>\n",
       "    .dataframe tbody tr th:only-of-type {\n",
       "        vertical-align: middle;\n",
       "    }\n",
       "\n",
       "    .dataframe tbody tr th {\n",
       "        vertical-align: top;\n",
       "    }\n",
       "\n",
       "    .dataframe thead th {\n",
       "        text-align: right;\n",
       "    }\n",
       "</style>\n",
       "<table border=\"1\" class=\"dataframe\">\n",
       "  <thead>\n",
       "    <tr style=\"text-align: right;\">\n",
       "      <th></th>\n",
       "      <th>Quotes</th>\n",
       "      <th>Carriers</th>\n",
       "      <th>Places</th>\n",
       "      <th>Currencies</th>\n",
       "      <th>Dates.OutboundDates</th>\n",
       "    </tr>\n",
       "  </thead>\n",
       "  <tbody>\n",
       "    <tr>\n",
       "      <th>0</th>\n",
       "      <td>[{'QuoteId': 1, 'MinPrice': 336, 'Direct': Fal...</td>\n",
       "      <td>[{'CarrierId': 1190, 'Name': 'transavia'}, {'C...</td>\n",
       "      <td>[{'Name': 'Amsterdam Schiphol', 'Type': 'Stati...</td>\n",
       "      <td>[{'Code': 'EUR', 'Symbol': '€', 'ThousandsSepa...</td>\n",
       "      <td>[{'PartialDate': '2021-10', 'Price': 462, 'Quo...</td>\n",
       "    </tr>\n",
       "  </tbody>\n",
       "</table>\n",
       "</div>"
      ],
      "text/plain": [
       "                                              Quotes  \\\n",
       "0  [{'QuoteId': 1, 'MinPrice': 336, 'Direct': Fal...   \n",
       "\n",
       "                                            Carriers  \\\n",
       "0  [{'CarrierId': 1190, 'Name': 'transavia'}, {'C...   \n",
       "\n",
       "                                              Places  \\\n",
       "0  [{'Name': 'Amsterdam Schiphol', 'Type': 'Stati...   \n",
       "\n",
       "                                          Currencies  \\\n",
       "0  [{'Code': 'EUR', 'Symbol': '€', 'ThousandsSepa...   \n",
       "\n",
       "                                 Dates.OutboundDates  \n",
       "0  [{'PartialDate': '2021-10', 'Price': 462, 'Quo...  "
      ]
     },
     "execution_count": 6,
     "metadata": {},
     "output_type": "execute_result"
    }
   ],
   "source": [
    "pd.json_normalize(response.json())"
   ]
  },
  {
   "cell_type": "code",
   "execution_count": 7,
   "id": "319b1c7c",
   "metadata": {},
   "outputs": [],
   "source": [
    "dates_outbound = pd.DataFrame(pd.json_normalize(response.json())[\"Dates.OutboundDates\"][0])\n",
    "quotes = pd.DataFrame(pd.json_normalize(response.json())[\"Quotes\"][0])\n",
    "carriers = pd.DataFrame(pd.json_normalize(response.json())[\"Carriers\"][0])\n",
    "places = pd.DataFrame(pd.json_normalize(response.json())[\"Places\"][0])\n",
    "currencies = pd.DataFrame(pd.json_normalize(response.json())[\"Currencies\"][0])"
   ]
  },
  {
   "cell_type": "code",
   "execution_count": 8,
   "id": "98015abf",
   "metadata": {},
   "outputs": [
    {
     "data": {
      "text/html": [
       "<div>\n",
       "<style scoped>\n",
       "    .dataframe tbody tr th:only-of-type {\n",
       "        vertical-align: middle;\n",
       "    }\n",
       "\n",
       "    .dataframe tbody tr th {\n",
       "        vertical-align: top;\n",
       "    }\n",
       "\n",
       "    .dataframe thead th {\n",
       "        text-align: right;\n",
       "    }\n",
       "</style>\n",
       "<table border=\"1\" class=\"dataframe\">\n",
       "  <thead>\n",
       "    <tr style=\"text-align: right;\">\n",
       "      <th></th>\n",
       "      <th>QuoteId</th>\n",
       "      <th>MinPrice</th>\n",
       "      <th>Direct</th>\n",
       "      <th>OutboundLeg</th>\n",
       "      <th>QuoteDateTime</th>\n",
       "    </tr>\n",
       "  </thead>\n",
       "  <tbody>\n",
       "    <tr>\n",
       "      <th>0</th>\n",
       "      <td>1</td>\n",
       "      <td>336</td>\n",
       "      <td>False</td>\n",
       "      <td>{'CarrierIds': [1190], 'OriginId': 40595, 'Des...</td>\n",
       "      <td>2021-10-10T20:13:00</td>\n",
       "    </tr>\n",
       "    <tr>\n",
       "      <th>1</th>\n",
       "      <td>2</td>\n",
       "      <td>378</td>\n",
       "      <td>False</td>\n",
       "      <td>{'CarrierIds': [1368], 'OriginId': 40595, 'Des...</td>\n",
       "      <td>2021-10-11T17:10:00</td>\n",
       "    </tr>\n",
       "    <tr>\n",
       "      <th>2</th>\n",
       "      <td>3</td>\n",
       "      <td>378</td>\n",
       "      <td>False</td>\n",
       "      <td>{'CarrierIds': [1368], 'OriginId': 40595, 'Des...</td>\n",
       "      <td>2021-10-11T19:24:00</td>\n",
       "    </tr>\n",
       "    <tr>\n",
       "      <th>3</th>\n",
       "      <td>4</td>\n",
       "      <td>383</td>\n",
       "      <td>False</td>\n",
       "      <td>{'CarrierIds': [1324], 'OriginId': 40595, 'Des...</td>\n",
       "      <td>2021-10-11T08:23:00</td>\n",
       "    </tr>\n",
       "    <tr>\n",
       "      <th>4</th>\n",
       "      <td>5</td>\n",
       "      <td>462</td>\n",
       "      <td>False</td>\n",
       "      <td>{'CarrierIds': [50441], 'OriginId': 40595, 'De...</td>\n",
       "      <td>2021-10-13T03:37:00</td>\n",
       "    </tr>\n",
       "    <tr>\n",
       "      <th>5</th>\n",
       "      <td>6</td>\n",
       "      <td>510</td>\n",
       "      <td>True</td>\n",
       "      <td>{'CarrierIds': [1324], 'OriginId': 40595, 'Des...</td>\n",
       "      <td>2021-10-11T07:08:00</td>\n",
       "    </tr>\n",
       "    <tr>\n",
       "      <th>6</th>\n",
       "      <td>7</td>\n",
       "      <td>523</td>\n",
       "      <td>True</td>\n",
       "      <td>{'CarrierIds': [1324], 'OriginId': 40595, 'Des...</td>\n",
       "      <td>2021-10-11T19:24:00</td>\n",
       "    </tr>\n",
       "    <tr>\n",
       "      <th>7</th>\n",
       "      <td>8</td>\n",
       "      <td>611</td>\n",
       "      <td>True</td>\n",
       "      <td>{'CarrierIds': [1324], 'OriginId': 40595, 'Des...</td>\n",
       "      <td>2021-10-11T23:18:00</td>\n",
       "    </tr>\n",
       "    <tr>\n",
       "      <th>8</th>\n",
       "      <td>9</td>\n",
       "      <td>769</td>\n",
       "      <td>True</td>\n",
       "      <td>{'CarrierIds': [1324], 'OriginId': 40595, 'Des...</td>\n",
       "      <td>2021-10-14T06:35:00</td>\n",
       "    </tr>\n",
       "  </tbody>\n",
       "</table>\n",
       "</div>"
      ],
      "text/plain": [
       "   QuoteId  MinPrice  Direct  \\\n",
       "0        1       336   False   \n",
       "1        2       378   False   \n",
       "2        3       378   False   \n",
       "3        4       383   False   \n",
       "4        5       462   False   \n",
       "5        6       510    True   \n",
       "6        7       523    True   \n",
       "7        8       611    True   \n",
       "8        9       769    True   \n",
       "\n",
       "                                         OutboundLeg        QuoteDateTime  \n",
       "0  {'CarrierIds': [1190], 'OriginId': 40595, 'Des...  2021-10-10T20:13:00  \n",
       "1  {'CarrierIds': [1368], 'OriginId': 40595, 'Des...  2021-10-11T17:10:00  \n",
       "2  {'CarrierIds': [1368], 'OriginId': 40595, 'Des...  2021-10-11T19:24:00  \n",
       "3  {'CarrierIds': [1324], 'OriginId': 40595, 'Des...  2021-10-11T08:23:00  \n",
       "4  {'CarrierIds': [50441], 'OriginId': 40595, 'De...  2021-10-13T03:37:00  \n",
       "5  {'CarrierIds': [1324], 'OriginId': 40595, 'Des...  2021-10-11T07:08:00  \n",
       "6  {'CarrierIds': [1324], 'OriginId': 40595, 'Des...  2021-10-11T19:24:00  \n",
       "7  {'CarrierIds': [1324], 'OriginId': 40595, 'Des...  2021-10-11T23:18:00  \n",
       "8  {'CarrierIds': [1324], 'OriginId': 40595, 'Des...  2021-10-14T06:35:00  "
      ]
     },
     "execution_count": 8,
     "metadata": {},
     "output_type": "execute_result"
    }
   ],
   "source": [
    "quotes"
   ]
  },
  {
   "cell_type": "code",
   "execution_count": 9,
   "id": "c1cf9f99",
   "metadata": {},
   "outputs": [
    {
     "data": {
      "text/html": [
       "<div>\n",
       "<style scoped>\n",
       "    .dataframe tbody tr th:only-of-type {\n",
       "        vertical-align: middle;\n",
       "    }\n",
       "\n",
       "    .dataframe tbody tr th {\n",
       "        vertical-align: top;\n",
       "    }\n",
       "\n",
       "    .dataframe thead th {\n",
       "        text-align: right;\n",
       "    }\n",
       "</style>\n",
       "<table border=\"1\" class=\"dataframe\">\n",
       "  <thead>\n",
       "    <tr style=\"text-align: right;\">\n",
       "      <th></th>\n",
       "      <th>Name</th>\n",
       "      <th>Type</th>\n",
       "      <th>PlaceId</th>\n",
       "      <th>IataCode</th>\n",
       "      <th>SkyscannerCode</th>\n",
       "      <th>CityName</th>\n",
       "      <th>CityId</th>\n",
       "      <th>CountryName</th>\n",
       "    </tr>\n",
       "  </thead>\n",
       "  <tbody>\n",
       "    <tr>\n",
       "      <th>0</th>\n",
       "      <td>Amsterdam Schiphol</td>\n",
       "      <td>Station</td>\n",
       "      <td>40595</td>\n",
       "      <td>AMS</td>\n",
       "      <td>AMS</td>\n",
       "      <td>Amsterdam</td>\n",
       "      <td>AMST</td>\n",
       "      <td>Nederland</td>\n",
       "    </tr>\n",
       "    <tr>\n",
       "      <th>1</th>\n",
       "      <td>Bridgetown</td>\n",
       "      <td>Station</td>\n",
       "      <td>42601</td>\n",
       "      <td>BGI</td>\n",
       "      <td>BGI</td>\n",
       "      <td>Bridgetown</td>\n",
       "      <td>BGIA</td>\n",
       "      <td>Barbados</td>\n",
       "    </tr>\n",
       "  </tbody>\n",
       "</table>\n",
       "</div>"
      ],
      "text/plain": [
       "                 Name     Type  PlaceId IataCode SkyscannerCode    CityName  \\\n",
       "0  Amsterdam Schiphol  Station    40595      AMS            AMS   Amsterdam   \n",
       "1          Bridgetown  Station    42601      BGI            BGI  Bridgetown   \n",
       "\n",
       "  CityId CountryName  \n",
       "0   AMST   Nederland  \n",
       "1   BGIA    Barbados  "
      ]
     },
     "execution_count": 9,
     "metadata": {},
     "output_type": "execute_result"
    }
   ],
   "source": [
    "places"
   ]
  },
  {
   "cell_type": "code",
   "execution_count": 10,
   "id": "a9776dea",
   "metadata": {},
   "outputs": [
    {
     "data": {
      "text/html": [
       "<div>\n",
       "<style scoped>\n",
       "    .dataframe tbody tr th:only-of-type {\n",
       "        vertical-align: middle;\n",
       "    }\n",
       "\n",
       "    .dataframe tbody tr th {\n",
       "        vertical-align: top;\n",
       "    }\n",
       "\n",
       "    .dataframe thead th {\n",
       "        text-align: right;\n",
       "    }\n",
       "</style>\n",
       "<table border=\"1\" class=\"dataframe\">\n",
       "  <thead>\n",
       "    <tr style=\"text-align: right;\">\n",
       "      <th></th>\n",
       "      <th>PartialDate</th>\n",
       "      <th>Price</th>\n",
       "      <th>QuoteDateTime</th>\n",
       "      <th>QuoteIds</th>\n",
       "    </tr>\n",
       "  </thead>\n",
       "  <tbody>\n",
       "    <tr>\n",
       "      <th>0</th>\n",
       "      <td>2021-10</td>\n",
       "      <td>462</td>\n",
       "      <td>2021-10-13T03:37:00</td>\n",
       "      <td>[5, 8]</td>\n",
       "    </tr>\n",
       "    <tr>\n",
       "      <th>1</th>\n",
       "      <td>2021-11</td>\n",
       "      <td>336</td>\n",
       "      <td>2021-10-10T20:13:00</td>\n",
       "      <td>[1, 6]</td>\n",
       "    </tr>\n",
       "    <tr>\n",
       "      <th>2</th>\n",
       "      <td>2021-12</td>\n",
       "      <td>383</td>\n",
       "      <td>2021-10-11T08:23:00</td>\n",
       "      <td>[4, 9]</td>\n",
       "    </tr>\n",
       "    <tr>\n",
       "      <th>3</th>\n",
       "      <td>2022-01</td>\n",
       "      <td>378</td>\n",
       "      <td>2021-10-11T19:24:00</td>\n",
       "      <td>[3, 7]</td>\n",
       "    </tr>\n",
       "    <tr>\n",
       "      <th>4</th>\n",
       "      <td>2022-03</td>\n",
       "      <td>378</td>\n",
       "      <td>2021-10-11T17:10:00</td>\n",
       "      <td>[2]</td>\n",
       "    </tr>\n",
       "  </tbody>\n",
       "</table>\n",
       "</div>"
      ],
      "text/plain": [
       "  PartialDate  Price        QuoteDateTime QuoteIds\n",
       "0     2021-10    462  2021-10-13T03:37:00   [5, 8]\n",
       "1     2021-11    336  2021-10-10T20:13:00   [1, 6]\n",
       "2     2021-12    383  2021-10-11T08:23:00   [4, 9]\n",
       "3     2022-01    378  2021-10-11T19:24:00   [3, 7]\n",
       "4     2022-03    378  2021-10-11T17:10:00      [2]"
      ]
     },
     "execution_count": 10,
     "metadata": {},
     "output_type": "execute_result"
    }
   ],
   "source": [
    "dates_outbound"
   ]
  },
  {
   "cell_type": "code",
   "execution_count": 11,
   "id": "85c89d24",
   "metadata": {},
   "outputs": [
    {
     "data": {
      "text/plain": [
       "Index(['PartialDate', 'Price', 'QuoteDateTime', 'QuoteIds'], dtype='object')"
      ]
     },
     "execution_count": 11,
     "metadata": {},
     "output_type": "execute_result"
    }
   ],
   "source": [
    "dates_outbound.columns"
   ]
  },
  {
   "cell_type": "code",
   "execution_count": 12,
   "id": "3c0222a9",
   "metadata": {},
   "outputs": [
    {
     "data": {
      "text/plain": [
       "0    {'CarrierIds': [1190], 'OriginId': 40595, 'Des...\n",
       "1    {'CarrierIds': [1368], 'OriginId': 40595, 'Des...\n",
       "2    {'CarrierIds': [1368], 'OriginId': 40595, 'Des...\n",
       "3    {'CarrierIds': [1324], 'OriginId': 40595, 'Des...\n",
       "4    {'CarrierIds': [50441], 'OriginId': 40595, 'De...\n",
       "5    {'CarrierIds': [1324], 'OriginId': 40595, 'Des...\n",
       "6    {'CarrierIds': [1324], 'OriginId': 40595, 'Des...\n",
       "7    {'CarrierIds': [1324], 'OriginId': 40595, 'Des...\n",
       "8    {'CarrierIds': [1324], 'OriginId': 40595, 'Des...\n",
       "Name: OutboundLeg, dtype: object"
      ]
     },
     "execution_count": 12,
     "metadata": {},
     "output_type": "execute_result"
    }
   ],
   "source": [
    "quotes['OutboundLeg']"
   ]
  },
  {
   "cell_type": "code",
   "execution_count": 13,
   "id": "ba6652fe",
   "metadata": {},
   "outputs": [],
   "source": [
    "outbound = pd.DataFrame(pd.DataFrame(pd.json_normalize(response.json())[\"Quotes\"][0])[\"OutboundLeg\"][0])"
   ]
  },
  {
   "cell_type": "code",
   "execution_count": 14,
   "id": "4352a179",
   "metadata": {},
   "outputs": [
    {
     "data": {
      "text/html": [
       "<div>\n",
       "<style scoped>\n",
       "    .dataframe tbody tr th:only-of-type {\n",
       "        vertical-align: middle;\n",
       "    }\n",
       "\n",
       "    .dataframe tbody tr th {\n",
       "        vertical-align: top;\n",
       "    }\n",
       "\n",
       "    .dataframe thead th {\n",
       "        text-align: right;\n",
       "    }\n",
       "</style>\n",
       "<table border=\"1\" class=\"dataframe\">\n",
       "  <thead>\n",
       "    <tr style=\"text-align: right;\">\n",
       "      <th></th>\n",
       "      <th>CarrierIds</th>\n",
       "      <th>OriginId</th>\n",
       "      <th>DestinationId</th>\n",
       "      <th>DepartureDate</th>\n",
       "    </tr>\n",
       "  </thead>\n",
       "  <tbody>\n",
       "    <tr>\n",
       "      <th>0</th>\n",
       "      <td>1190</td>\n",
       "      <td>40595</td>\n",
       "      <td>42601</td>\n",
       "      <td>2021-11-12T00:00:00</td>\n",
       "    </tr>\n",
       "  </tbody>\n",
       "</table>\n",
       "</div>"
      ],
      "text/plain": [
       "   CarrierIds  OriginId  DestinationId        DepartureDate\n",
       "0        1190     40595          42601  2021-11-12T00:00:00"
      ]
     },
     "execution_count": 14,
     "metadata": {},
     "output_type": "execute_result"
    }
   ],
   "source": [
    "outbound"
   ]
  },
  {
   "cell_type": "code",
   "execution_count": 15,
   "id": "bed70d3b",
   "metadata": {},
   "outputs": [],
   "source": [
    "def same_price(quotes):\n",
    "    price = []\n",
    "    for i in quotes['MinPrice']:\n",
    "        if i not in price:\n",
    "            price.append(i)\n",
    "            continue\n",
    "        else:\n",
    "            indices = quotes[quotes.MinPrice==i].index.values\n",
    "            info = quotes.iloc[indices, :]\n",
    "            print(\"The same price is\", (i), \"EUR\")\n",
    "            print(info.OutboundLeg)"
   ]
  },
  {
   "cell_type": "code",
   "execution_count": 16,
   "id": "9c7d92ad",
   "metadata": {},
   "outputs": [
    {
     "name": "stdout",
     "output_type": "stream",
     "text": [
      "The same price is 378 EUR\n",
      "1    {'CarrierIds': [1368], 'OriginId': 40595, 'Des...\n",
      "2    {'CarrierIds': [1368], 'OriginId': 40595, 'Des...\n",
      "Name: OutboundLeg, dtype: object\n"
     ]
    }
   ],
   "source": [
    "same_price(quotes)"
   ]
  },
  {
   "cell_type": "code",
   "execution_count": 17,
   "id": "8b0611ef",
   "metadata": {},
   "outputs": [],
   "source": [
    "# i am sorry but i am really stuck\n",
    "# i'd like to merge dates_outbound and quotes on QuoteId\n",
    "# but i have no idea how as QuoteIds is a column with lists in the dates_outbound dataframe\n",
    "# maybe not essential in this lab but i'd like to know how anyways\n",
    "\n",
    "# as well, i've tried multiple things to split the column 'OutboundLeg' of the dataframe quotes to make it prettier\n",
    "# however, it all doesnt work.\n",
    "# it also didnt work to try and merge the different dataframes so its very ugly, but it kind of returns the info"
   ]
  }
 ],
 "metadata": {
  "kernelspec": {
   "display_name": "Python 3 (ipykernel)",
   "language": "python",
   "name": "python3"
  },
  "language_info": {
   "codemirror_mode": {
    "name": "ipython",
    "version": 3
   },
   "file_extension": ".py",
   "mimetype": "text/x-python",
   "name": "python",
   "nbconvert_exporter": "python",
   "pygments_lexer": "ipython3",
   "version": "3.9.5"
  },
  "toc": {
   "base_numbering": 1,
   "nav_menu": {},
   "number_sections": true,
   "sideBar": true,
   "skip_h1_title": false,
   "title_cell": "Table of Contents",
   "title_sidebar": "Contents",
   "toc_cell": false,
   "toc_position": {},
   "toc_section_display": true,
   "toc_window_display": false
  }
 },
 "nbformat": 4,
 "nbformat_minor": 5
}
