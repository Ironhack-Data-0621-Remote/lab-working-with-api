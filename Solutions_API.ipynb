{
 "cells": [
  {
   "cell_type": "markdown",
   "id": "c4faf014",
   "metadata": {},
   "source": [
    "# Lab | Working with APIs\n",
    "\n",
    "#### Instructions \n",
    "\n",
    "Following the class example, create a function that returns the price, names of origin and arrival airports and the name of the company. Do it for all the flights between two dates that cost the same."
   ]
  },
  {
   "cell_type": "code",
   "execution_count": 1,
   "id": "a2871657",
   "metadata": {},
   "outputs": [],
   "source": [
    "import pandas as pd\n",
    "import requests"
   ]
  },
  {
   "cell_type": "code",
   "execution_count": 2,
   "id": "0fc07bb7",
   "metadata": {},
   "outputs": [],
   "source": [
    "# Price\n",
    "# Departure airport\n",
    "# arrival airport\n",
    "# name of the company\n"
   ]
  },
  {
   "cell_type": "code",
   "execution_count": 3,
   "id": "5481810c",
   "metadata": {},
   "outputs": [
    {
     "name": "stdout",
     "output_type": "stream",
     "text": [
      "{\n",
      "  \"Quotes\" : [ {\n",
      "    \"QuoteId\" : 1,\n",
      "    \"MinPrice\" : 29,\n",
      "    \"Direct\" : false,\n",
      "    \"OutboundLeg\" : {\n",
      "      \"CarrierIds\" : [ 1090 ],\n",
      "      \"OriginId\" : 82398,\n",
      "      \"DestinationId\" : 43313,\n",
      "      \"DepartureDate\" : \"2021-12-01T00:00:00\"\n",
      "    },\n",
      "    \"QuoteDateTime\" : \"2021-10-10T15:50:00\"\n",
      "  }, {\n",
      "    \"QuoteId\" : 2,\n",
      "    \"MinPrice\" : 69,\n",
      "    \"Direct\" : true,\n",
      "    \"OutboundLeg\" : {\n",
      "      \"CarrierIds\" : [ 50441 ],\n",
      "      \"OriginId\" : 65655,\n",
      "      \"DestinationId\" : 44759,\n",
      "      \"DepartureDate\" : \"2021-12-01T00:00:00\"\n",
      "    },\n",
      "    \"QuoteDateTime\" : \"2021-10-07T20:58:00\"\n",
      "  } ],\n",
      "  \"Carriers\" : [ {\n",
      "    \"CarrierId\" : 50441,\n",
      "    \"Name\" : \"easyJet\"\n",
      "  }, {\n",
      "    \"CarrierId\" : 1090,\n",
      "    \"Name\" : \"Ryanair\"\n",
      "  } ],\n",
      "  \"Places\" : [ {\n",
      "    \"Name\" : \"Paris Beauvais\",\n",
      "    \"Type\" : \"Station\",\n",
      "    \"PlaceId\" : 43313,\n",
      "    \"IataCode\" : \"BVA\",\n",
      "    \"SkyscannerCode\" : \"BVA\",\n",
      "    \"CityName\" : \"Paris\",\n",
      "    \"CityId\" : \"PARI\",\n",
      "    \"CountryName\" : \"France\"\n",
      "  }, {\n",
      "    \"Name\" : \"Paris Charles de Gaulle\",\n",
      "    \"Type\" : \"Station\",\n",
      "    \"PlaceId\" : 44759,\n",
      "    \"IataCode\" : \"CDG\",\n",
      "    \"SkyscannerCode\" : \"CDG\",\n",
      "    \"CityName\" : \"Paris\",\n",
      "    \"CityId\" : \"PARI\",\n",
      "    \"CountryName\" : \"France\"\n",
      "  }, {\n",
      "    \"Name\" : \"London Gatwick\",\n",
      "    \"Type\" : \"Station\",\n",
      "    \"PlaceId\" : 65655,\n",
      "    \"IataCode\" : \"LGW\",\n",
      "    \"SkyscannerCode\" : \"LGW\",\n",
      "    \"CityName\" : \"London\",\n",
      "    \"CityId\" : \"LOND\",\n",
      "    \"CountryName\" : \"United Kingdom\"\n",
      "  }, {\n",
      "    \"Name\" : \"London Stansted\",\n",
      "    \"Type\" : \"Station\",\n",
      "    \"PlaceId\" : 82398,\n",
      "    \"IataCode\" : \"STN\",\n",
      "    \"SkyscannerCode\" : \"STN\",\n",
      "    \"CityName\" : \"London\",\n",
      "    \"CityId\" : \"LOND\",\n",
      "    \"CountryName\" : \"United Kingdom\"\n",
      "  }, {\n",
      "    \"Name\" : \"London\",\n",
      "    \"Type\" : \"City\",\n",
      "    \"PlaceId\" : 3169460,\n",
      "    \"SkyscannerCode\" : \"LOND\",\n",
      "    \"CityId\" : \"LOND\",\n",
      "    \"CountryName\" : \"United Kingdom\"\n",
      "  } ],\n",
      "  \"Currencies\" : [ {\n",
      "    \"Code\" : \"USD\",\n",
      "    \"Symbol\" : \"$\",\n",
      "    \"ThousandsSeparator\" : \",\",\n",
      "    \"DecimalSeparator\" : \".\",\n",
      "    \"SymbolOnLeft\" : true,\n",
      "    \"SpaceBetweenAmountAndSymbol\" : false,\n",
      "    \"RoundingCoefficient\" : 0,\n",
      "    \"DecimalDigits\" : 2\n",
      "  } ]\n",
      "}\n"
     ]
    }
   ],
   "source": [
    "import requests\n",
    "\n",
    "url = \"https://skyscanner-skyscanner-flight-search-v1.p.rapidapi.com/apiservices/browsequotes/v1.0/US/USD/en-US/LOND-sky/PARI-sky/2021-12-01\"\n",
    "\n",
    "querystring = {\"inboundpartialdate\":\"2021-12-05\"}\n",
    "\n",
    "headers = {\n",
    "    'x-rapidapi-host': \"skyscanner-skyscanner-flight-search-v1.p.rapidapi.com\",\n",
    "    'x-rapidapi-key': \"eb3d56dfafmsh83222c7fd64aaecp15b345jsn6d9cbb52893c\"\n",
    "    }\n",
    "\n",
    "response = requests.request(\"GET\", url, headers=headers, params=querystring)\n",
    "\n",
    "print(response.text)"
   ]
  },
  {
   "cell_type": "code",
   "execution_count": 4,
   "id": "10c5de21",
   "metadata": {},
   "outputs": [],
   "source": [
    "#data = pd.DataFrame(response.json().items())\n",
    "#data"
   ]
  },
  {
   "cell_type": "code",
   "execution_count": null,
   "id": "9c8d1e60",
   "metadata": {},
   "outputs": [],
   "source": []
  },
  {
   "cell_type": "code",
   "execution_count": 5,
   "id": "7234ca5a",
   "metadata": {},
   "outputs": [],
   "source": [
    "import json"
   ]
  },
  {
   "cell_type": "code",
   "execution_count": 6,
   "id": "5968dd4d",
   "metadata": {},
   "outputs": [
    {
     "data": {
      "text/html": [
       "<div>\n",
       "<style scoped>\n",
       "    .dataframe tbody tr th:only-of-type {\n",
       "        vertical-align: middle;\n",
       "    }\n",
       "\n",
       "    .dataframe tbody tr th {\n",
       "        vertical-align: top;\n",
       "    }\n",
       "\n",
       "    .dataframe thead th {\n",
       "        text-align: right;\n",
       "    }\n",
       "</style>\n",
       "<table border=\"1\" class=\"dataframe\">\n",
       "  <thead>\n",
       "    <tr style=\"text-align: right;\">\n",
       "      <th></th>\n",
       "      <th>Quotes</th>\n",
       "      <th>Carriers</th>\n",
       "      <th>Places</th>\n",
       "      <th>Currencies</th>\n",
       "    </tr>\n",
       "  </thead>\n",
       "  <tbody>\n",
       "    <tr>\n",
       "      <th>0</th>\n",
       "      <td>[{'QuoteId': 1, 'MinPrice': 29, 'Direct': Fals...</td>\n",
       "      <td>[{'CarrierId': 50441, 'Name': 'easyJet'}, {'Ca...</td>\n",
       "      <td>[{'Name': 'Paris Beauvais', 'Type': 'Station',...</td>\n",
       "      <td>[{'Code': 'USD', 'Symbol': '$', 'ThousandsSepa...</td>\n",
       "    </tr>\n",
       "  </tbody>\n",
       "</table>\n",
       "</div>"
      ],
      "text/plain": [
       "                                              Quotes  \\\n",
       "0  [{'QuoteId': 1, 'MinPrice': 29, 'Direct': Fals...   \n",
       "\n",
       "                                            Carriers  \\\n",
       "0  [{'CarrierId': 50441, 'Name': 'easyJet'}, {'Ca...   \n",
       "\n",
       "                                              Places  \\\n",
       "0  [{'Name': 'Paris Beauvais', 'Type': 'Station',...   \n",
       "\n",
       "                                          Currencies  \n",
       "0  [{'Code': 'USD', 'Symbol': '$', 'ThousandsSepa...  "
      ]
     },
     "execution_count": 6,
     "metadata": {},
     "output_type": "execute_result"
    }
   ],
   "source": [
    "pd.json_normalize(response.json())"
   ]
  },
  {
   "cell_type": "code",
   "execution_count": 7,
   "id": "560948dd",
   "metadata": {},
   "outputs": [],
   "source": [
    "quotes = pd.DataFrame(pd.json_normalize(response.json())[\"Quotes\"][0])\n",
    "carriers = pd.DataFrame(pd.json_normalize(response.json())[\"Carriers\"][0])\n",
    "places = pd.DataFrame(pd.json_normalize(response.json())[\"Places\"][0])\n",
    "currencies = pd.DataFrame(pd.json_normalize(response.json())[\"Currencies\"][0])"
   ]
  },
  {
   "cell_type": "code",
   "execution_count": 14,
   "id": "fc2a88ac",
   "metadata": {},
   "outputs": [
    {
     "data": {
      "text/html": [
       "<div>\n",
       "<style scoped>\n",
       "    .dataframe tbody tr th:only-of-type {\n",
       "        vertical-align: middle;\n",
       "    }\n",
       "\n",
       "    .dataframe tbody tr th {\n",
       "        vertical-align: top;\n",
       "    }\n",
       "\n",
       "    .dataframe thead th {\n",
       "        text-align: right;\n",
       "    }\n",
       "</style>\n",
       "<table border=\"1\" class=\"dataframe\">\n",
       "  <thead>\n",
       "    <tr style=\"text-align: right;\">\n",
       "      <th></th>\n",
       "      <th>QuoteId</th>\n",
       "      <th>MinPrice</th>\n",
       "      <th>Direct</th>\n",
       "      <th>OutboundLeg</th>\n",
       "      <th>QuoteDateTime</th>\n",
       "    </tr>\n",
       "  </thead>\n",
       "  <tbody>\n",
       "    <tr>\n",
       "      <th>0</th>\n",
       "      <td>1</td>\n",
       "      <td>29</td>\n",
       "      <td>False</td>\n",
       "      <td>{'CarrierIds': [1090], 'OriginId': 82398, 'Des...</td>\n",
       "      <td>2021-10-10T15:50:00</td>\n",
       "    </tr>\n",
       "    <tr>\n",
       "      <th>1</th>\n",
       "      <td>2</td>\n",
       "      <td>69</td>\n",
       "      <td>True</td>\n",
       "      <td>{'CarrierIds': [50441], 'OriginId': 65655, 'De...</td>\n",
       "      <td>2021-10-07T20:58:00</td>\n",
       "    </tr>\n",
       "  </tbody>\n",
       "</table>\n",
       "</div>"
      ],
      "text/plain": [
       "   QuoteId  MinPrice  Direct  \\\n",
       "0        1        29   False   \n",
       "1        2        69    True   \n",
       "\n",
       "                                         OutboundLeg        QuoteDateTime  \n",
       "0  {'CarrierIds': [1090], 'OriginId': 82398, 'Des...  2021-10-10T15:50:00  \n",
       "1  {'CarrierIds': [50441], 'OriginId': 65655, 'De...  2021-10-07T20:58:00  "
      ]
     },
     "execution_count": 14,
     "metadata": {},
     "output_type": "execute_result"
    }
   ],
   "source": [
    "quotes"
   ]
  },
  {
   "cell_type": "code",
   "execution_count": 9,
   "id": "6742fe99",
   "metadata": {},
   "outputs": [
    {
     "data": {
      "text/html": [
       "<div>\n",
       "<style scoped>\n",
       "    .dataframe tbody tr th:only-of-type {\n",
       "        vertical-align: middle;\n",
       "    }\n",
       "\n",
       "    .dataframe tbody tr th {\n",
       "        vertical-align: top;\n",
       "    }\n",
       "\n",
       "    .dataframe thead th {\n",
       "        text-align: right;\n",
       "    }\n",
       "</style>\n",
       "<table border=\"1\" class=\"dataframe\">\n",
       "  <thead>\n",
       "    <tr style=\"text-align: right;\">\n",
       "      <th></th>\n",
       "      <th>Code</th>\n",
       "      <th>Symbol</th>\n",
       "      <th>ThousandsSeparator</th>\n",
       "      <th>DecimalSeparator</th>\n",
       "      <th>SymbolOnLeft</th>\n",
       "      <th>SpaceBetweenAmountAndSymbol</th>\n",
       "      <th>RoundingCoefficient</th>\n",
       "      <th>DecimalDigits</th>\n",
       "    </tr>\n",
       "  </thead>\n",
       "  <tbody>\n",
       "    <tr>\n",
       "      <th>0</th>\n",
       "      <td>USD</td>\n",
       "      <td>$</td>\n",
       "      <td>,</td>\n",
       "      <td>.</td>\n",
       "      <td>True</td>\n",
       "      <td>False</td>\n",
       "      <td>0</td>\n",
       "      <td>2</td>\n",
       "    </tr>\n",
       "  </tbody>\n",
       "</table>\n",
       "</div>"
      ],
      "text/plain": [
       "  Code Symbol ThousandsSeparator DecimalSeparator  SymbolOnLeft  \\\n",
       "0  USD      $                  ,                .          True   \n",
       "\n",
       "   SpaceBetweenAmountAndSymbol  RoundingCoefficient  DecimalDigits  \n",
       "0                        False                    0              2  "
      ]
     },
     "execution_count": 9,
     "metadata": {},
     "output_type": "execute_result"
    }
   ],
   "source": [
    "currencies"
   ]
  },
  {
   "cell_type": "code",
   "execution_count": null,
   "id": "abf4e680",
   "metadata": {},
   "outputs": [],
   "source": []
  },
  {
   "cell_type": "code",
   "execution_count": 10,
   "id": "378ef5a2",
   "metadata": {},
   "outputs": [],
   "source": [
    "flights = pd.DataFrame(pd.DataFrame(pd.json_normalize(response.json())[\"Quotes\"][0])[\"OutboundLeg\"][0])"
   ]
  },
  {
   "cell_type": "code",
   "execution_count": 11,
   "id": "3fdf7031",
   "metadata": {},
   "outputs": [
    {
     "data": {
      "text/html": [
       "<div>\n",
       "<style scoped>\n",
       "    .dataframe tbody tr th:only-of-type {\n",
       "        vertical-align: middle;\n",
       "    }\n",
       "\n",
       "    .dataframe tbody tr th {\n",
       "        vertical-align: top;\n",
       "    }\n",
       "\n",
       "    .dataframe thead th {\n",
       "        text-align: right;\n",
       "    }\n",
       "</style>\n",
       "<table border=\"1\" class=\"dataframe\">\n",
       "  <thead>\n",
       "    <tr style=\"text-align: right;\">\n",
       "      <th></th>\n",
       "      <th>CarrierIds</th>\n",
       "      <th>OriginId</th>\n",
       "      <th>DestinationId</th>\n",
       "      <th>DepartureDate</th>\n",
       "    </tr>\n",
       "  </thead>\n",
       "  <tbody>\n",
       "    <tr>\n",
       "      <th>0</th>\n",
       "      <td>1090</td>\n",
       "      <td>82398</td>\n",
       "      <td>43313</td>\n",
       "      <td>2021-12-01T00:00:00</td>\n",
       "    </tr>\n",
       "  </tbody>\n",
       "</table>\n",
       "</div>"
      ],
      "text/plain": [
       "   CarrierIds  OriginId  DestinationId        DepartureDate\n",
       "0        1090     82398          43313  2021-12-01T00:00:00"
      ]
     },
     "execution_count": 11,
     "metadata": {},
     "output_type": "execute_result"
    }
   ],
   "source": [
    "flights"
   ]
  },
  {
   "cell_type": "code",
   "execution_count": 12,
   "id": "c63fb962",
   "metadata": {},
   "outputs": [],
   "source": [
    "data_1 = pd.concat([quotes, carriers, places, currencies], axis = 1)"
   ]
  },
  {
   "cell_type": "code",
   "execution_count": 13,
   "id": "800b7935",
   "metadata": {
    "scrolled": true
   },
   "outputs": [
    {
     "data": {
      "text/html": [
       "<div>\n",
       "<style scoped>\n",
       "    .dataframe tbody tr th:only-of-type {\n",
       "        vertical-align: middle;\n",
       "    }\n",
       "\n",
       "    .dataframe tbody tr th {\n",
       "        vertical-align: top;\n",
       "    }\n",
       "\n",
       "    .dataframe thead th {\n",
       "        text-align: right;\n",
       "    }\n",
       "</style>\n",
       "<table border=\"1\" class=\"dataframe\">\n",
       "  <thead>\n",
       "    <tr style=\"text-align: right;\">\n",
       "      <th></th>\n",
       "      <th>QuoteId</th>\n",
       "      <th>MinPrice</th>\n",
       "      <th>Direct</th>\n",
       "      <th>OutboundLeg</th>\n",
       "      <th>QuoteDateTime</th>\n",
       "      <th>CarrierId</th>\n",
       "      <th>Name</th>\n",
       "      <th>Name</th>\n",
       "      <th>Type</th>\n",
       "      <th>PlaceId</th>\n",
       "      <th>...</th>\n",
       "      <th>CityId</th>\n",
       "      <th>CountryName</th>\n",
       "      <th>Code</th>\n",
       "      <th>Symbol</th>\n",
       "      <th>ThousandsSeparator</th>\n",
       "      <th>DecimalSeparator</th>\n",
       "      <th>SymbolOnLeft</th>\n",
       "      <th>SpaceBetweenAmountAndSymbol</th>\n",
       "      <th>RoundingCoefficient</th>\n",
       "      <th>DecimalDigits</th>\n",
       "    </tr>\n",
       "  </thead>\n",
       "  <tbody>\n",
       "    <tr>\n",
       "      <th>0</th>\n",
       "      <td>1.0</td>\n",
       "      <td>29.0</td>\n",
       "      <td>False</td>\n",
       "      <td>{'CarrierIds': [1090], 'OriginId': 82398, 'Des...</td>\n",
       "      <td>2021-10-10T15:50:00</td>\n",
       "      <td>50441.0</td>\n",
       "      <td>easyJet</td>\n",
       "      <td>Paris Beauvais</td>\n",
       "      <td>Station</td>\n",
       "      <td>43313</td>\n",
       "      <td>...</td>\n",
       "      <td>PARI</td>\n",
       "      <td>France</td>\n",
       "      <td>USD</td>\n",
       "      <td>$</td>\n",
       "      <td>,</td>\n",
       "      <td>.</td>\n",
       "      <td>True</td>\n",
       "      <td>False</td>\n",
       "      <td>0.0</td>\n",
       "      <td>2.0</td>\n",
       "    </tr>\n",
       "    <tr>\n",
       "      <th>1</th>\n",
       "      <td>2.0</td>\n",
       "      <td>69.0</td>\n",
       "      <td>True</td>\n",
       "      <td>{'CarrierIds': [50441], 'OriginId': 65655, 'De...</td>\n",
       "      <td>2021-10-07T20:58:00</td>\n",
       "      <td>1090.0</td>\n",
       "      <td>Ryanair</td>\n",
       "      <td>Paris Charles de Gaulle</td>\n",
       "      <td>Station</td>\n",
       "      <td>44759</td>\n",
       "      <td>...</td>\n",
       "      <td>PARI</td>\n",
       "      <td>France</td>\n",
       "      <td>NaN</td>\n",
       "      <td>NaN</td>\n",
       "      <td>NaN</td>\n",
       "      <td>NaN</td>\n",
       "      <td>NaN</td>\n",
       "      <td>NaN</td>\n",
       "      <td>NaN</td>\n",
       "      <td>NaN</td>\n",
       "    </tr>\n",
       "  </tbody>\n",
       "</table>\n",
       "<p>2 rows × 23 columns</p>\n",
       "</div>"
      ],
      "text/plain": [
       "   QuoteId  MinPrice Direct  \\\n",
       "0      1.0      29.0  False   \n",
       "1      2.0      69.0   True   \n",
       "\n",
       "                                         OutboundLeg        QuoteDateTime  \\\n",
       "0  {'CarrierIds': [1090], 'OriginId': 82398, 'Des...  2021-10-10T15:50:00   \n",
       "1  {'CarrierIds': [50441], 'OriginId': 65655, 'De...  2021-10-07T20:58:00   \n",
       "\n",
       "   CarrierId     Name                     Name     Type  PlaceId  ... CityId  \\\n",
       "0    50441.0  easyJet           Paris Beauvais  Station    43313  ...   PARI   \n",
       "1     1090.0  Ryanair  Paris Charles de Gaulle  Station    44759  ...   PARI   \n",
       "\n",
       "  CountryName Code Symbol ThousandsSeparator DecimalSeparator SymbolOnLeft  \\\n",
       "0      France  USD      $                  ,                .         True   \n",
       "1      France  NaN    NaN                NaN              NaN          NaN   \n",
       "\n",
       "  SpaceBetweenAmountAndSymbol RoundingCoefficient DecimalDigits  \n",
       "0                       False                 0.0           2.0  \n",
       "1                         NaN                 NaN           NaN  \n",
       "\n",
       "[2 rows x 23 columns]"
      ]
     },
     "execution_count": 13,
     "metadata": {},
     "output_type": "execute_result"
    }
   ],
   "source": [
    "data_1[:2]"
   ]
  },
  {
   "cell_type": "code",
   "execution_count": null,
   "id": "7ead7792",
   "metadata": {},
   "outputs": [],
   "source": []
  },
  {
   "cell_type": "markdown",
   "id": "bb38aa70",
   "metadata": {},
   "source": []
  },
  {
   "cell_type": "code",
   "execution_count": null,
   "id": "ef46fdff",
   "metadata": {},
   "outputs": [],
   "source": []
  }
 ],
 "metadata": {
  "kernelspec": {
   "display_name": "Python 3",
   "language": "python",
   "name": "python3"
  },
  "language_info": {
   "codemirror_mode": {
    "name": "ipython",
    "version": 3
   },
   "file_extension": ".py",
   "mimetype": "text/x-python",
   "name": "python",
   "nbconvert_exporter": "python",
   "pygments_lexer": "ipython3",
   "version": "3.8.8"
  },
  "toc": {
   "base_numbering": 1,
   "nav_menu": {},
   "number_sections": true,
   "sideBar": true,
   "skip_h1_title": false,
   "title_cell": "Table of Contents",
   "title_sidebar": "Contents",
   "toc_cell": false,
   "toc_position": {},
   "toc_section_display": true,
   "toc_window_display": false
  }
 },
 "nbformat": 4,
 "nbformat_minor": 5
}
