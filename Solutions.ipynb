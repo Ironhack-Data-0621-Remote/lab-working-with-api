{
 "cells": [
  {
   "cell_type": "markdown",
   "metadata": {},
   "source": [
    "# Lab | Working with APIs"
   ]
  },
  {
   "cell_type": "markdown",
   "metadata": {},
   "source": [
    "**Instructions**\n",
    "Following the class example, create a function that returns the price, names of origin and arrival airports and the name of the company. Do it for all the flights between two dates that cost the same."
   ]
  },
  {
   "cell_type": "code",
   "execution_count": 32,
   "metadata": {},
   "outputs": [
    {
     "name": "stdout",
     "output_type": "stream",
     "text": [
      "{\n",
      "  \"Quotes\" : [ {\n",
      "    \"QuoteId\" : 1,\n",
      "    \"MinPrice\" : 99,\n",
      "    \"Direct\" : true,\n",
      "    \"OutboundLeg\" : {\n",
      "      \"CarrierIds\" : [ 870 ],\n",
      "      \"OriginId\" : 81727,\n",
      "      \"DestinationId\" : 60987,\n",
      "      \"DepartureDate\" : \"2021-12-24T00:00:00\"\n",
      "    },\n",
      "    \"QuoteDateTime\" : \"2021-10-09T07:23:00\"\n",
      "  } ],\n",
      "  \"Carriers\" : [ {\n",
      "    \"CarrierId\" : 870,\n",
      "    \"Name\" : \"jetBlue\"\n",
      "  } ],\n",
      "  \"Places\" : [ {\n",
      "    \"Name\" : \"New York John F. Kennedy\",\n",
      "    \"Type\" : \"Station\",\n",
      "    \"PlaceId\" : 60987,\n",
      "    \"IataCode\" : \"JFK\",\n",
      "    \"SkyscannerCode\" : \"JFK\",\n",
      "    \"CityName\" : \"New York\",\n",
      "    \"CityId\" : \"NYCA\",\n",
      "    \"CountryName\" : \"United States\"\n",
      "  }, {\n",
      "    \"Name\" : \"San Francisco International\",\n",
      "    \"Type\" : \"Station\",\n",
      "    \"PlaceId\" : 81727,\n",
      "    \"IataCode\" : \"SFO\",\n",
      "    \"SkyscannerCode\" : \"SFO\",\n",
      "    \"CityName\" : \"San Francisco\",\n",
      "    \"CityId\" : \"SFOA\",\n",
      "    \"CountryName\" : \"United States\"\n",
      "  } ],\n",
      "  \"Currencies\" : [ {\n",
      "    \"Code\" : \"USD\",\n",
      "    \"Symbol\" : \"$\",\n",
      "    \"ThousandsSeparator\" : \",\",\n",
      "    \"DecimalSeparator\" : \".\",\n",
      "    \"SymbolOnLeft\" : true,\n",
      "    \"SpaceBetweenAmountAndSymbol\" : false,\n",
      "    \"RoundingCoefficient\" : 0,\n",
      "    \"DecimalDigits\" : 2\n",
      "  } ]\n",
      "}\n"
     ]
    }
   ],
   "source": [
    "# example from class\n",
    "\n",
    "import requests\n",
    "\n",
    "url = \"https://skyscanner-skyscanner-flight-search-v1.p.rapidapi.com/apiservices/browsequotes/v1.0/US/USD/en-US/SFO-sky/JFK-sky/2021-12-24\"\n",
    "\n",
    "querystring = {\"inboundpartialdate\":\"2021-12-24\"}\n",
    "\n",
    "headers = {\n",
    "    'x-rapidapi-host': \"skyscanner-skyscanner-flight-search-v1.p.rapidapi.com\",\n",
    "    'x-rapidapi-key': \"ea05eaab96mshbe0ea9155d41f91p1cf69bjsna0c3487cc020\"\n",
    "    }\n",
    "\n",
    "response = requests.request(\"GET\", url, headers=headers, params=querystring)\n",
    "\n",
    "print(response.text)"
   ]
  },
  {
   "cell_type": "code",
   "execution_count": 12,
   "metadata": {},
   "outputs": [
    {
     "name": "stdout",
     "output_type": "stream",
     "text": [
      "200\n"
     ]
    }
   ],
   "source": [
    "print(response.status_code)"
   ]
  },
  {
   "cell_type": "code",
   "execution_count": 27,
   "metadata": {},
   "outputs": [],
   "source": [
    "import json\n",
    "from pandas import json_normalize\n",
    "import pandas as pd"
   ]
  },
  {
   "cell_type": "code",
   "execution_count": 14,
   "metadata": {},
   "outputs": [],
   "source": [
    "json_data= response.json()"
   ]
  },
  {
   "cell_type": "code",
   "execution_count": 15,
   "metadata": {},
   "outputs": [
    {
     "data": {
      "text/plain": [
       "{'Quotes': [{'QuoteId': 1,\n",
       "   'MinPrice': 99,\n",
       "   'Direct': True,\n",
       "   'OutboundLeg': {'CarrierIds': [870],\n",
       "    'OriginId': 81727,\n",
       "    'DestinationId': 60987,\n",
       "    'DepartureDate': '2021-12-24T00:00:00'},\n",
       "   'QuoteDateTime': '2021-10-09T07:23:00'}],\n",
       " 'Carriers': [{'CarrierId': 870, 'Name': 'jetBlue'}],\n",
       " 'Places': [{'Name': 'New York John F. Kennedy',\n",
       "   'Type': 'Station',\n",
       "   'PlaceId': 60987,\n",
       "   'IataCode': 'JFK',\n",
       "   'SkyscannerCode': 'JFK',\n",
       "   'CityName': 'New York',\n",
       "   'CityId': 'NYCA',\n",
       "   'CountryName': 'United States'},\n",
       "  {'Name': 'San Francisco International',\n",
       "   'Type': 'Station',\n",
       "   'PlaceId': 81727,\n",
       "   'IataCode': 'SFO',\n",
       "   'SkyscannerCode': 'SFO',\n",
       "   'CityName': 'San Francisco',\n",
       "   'CityId': 'SFOA',\n",
       "   'CountryName': 'United States'}],\n",
       " 'Currencies': [{'Code': 'USD',\n",
       "   'Symbol': '$',\n",
       "   'ThousandsSeparator': ',',\n",
       "   'DecimalSeparator': '.',\n",
       "   'SymbolOnLeft': True,\n",
       "   'SpaceBetweenAmountAndSymbol': False,\n",
       "   'RoundingCoefficient': 0,\n",
       "   'DecimalDigits': 2}]}"
      ]
     },
     "execution_count": 15,
     "metadata": {},
     "output_type": "execute_result"
    }
   ],
   "source": [
    "json_data"
   ]
  },
  {
   "cell_type": "code",
   "execution_count": 37,
   "metadata": {},
   "outputs": [],
   "source": [
    "json_df = pd.json_normalize(json_data, max_level=1)"
   ]
  },
  {
   "cell_type": "code",
   "execution_count": 55,
   "metadata": {},
   "outputs": [
    {
     "data": {
      "text/html": [
       "<div>\n",
       "<style scoped>\n",
       "    .dataframe tbody tr th:only-of-type {\n",
       "        vertical-align: middle;\n",
       "    }\n",
       "\n",
       "    .dataframe tbody tr th {\n",
       "        vertical-align: top;\n",
       "    }\n",
       "\n",
       "    .dataframe thead th {\n",
       "        text-align: right;\n",
       "    }\n",
       "</style>\n",
       "<table border=\"1\" class=\"dataframe\">\n",
       "  <thead>\n",
       "    <tr style=\"text-align: right;\">\n",
       "      <th></th>\n",
       "      <th>_QuoteId</th>\n",
       "      <th>_MinPrice</th>\n",
       "      <th>_Direct</th>\n",
       "      <th>_QuoteDateTime</th>\n",
       "      <th>_OutboundLeg.CarrierIds</th>\n",
       "      <th>_OutboundLeg.OriginId</th>\n",
       "      <th>_OutboundLeg.DestinationId</th>\n",
       "      <th>_OutboundLeg.DepartureDate</th>\n",
       "      <th>QuoteId</th>\n",
       "    </tr>\n",
       "  </thead>\n",
       "  <tbody>\n",
       "    <tr>\n",
       "      <th>0</th>\n",
       "      <td>1</td>\n",
       "      <td>99</td>\n",
       "      <td>True</td>\n",
       "      <td>2021-10-09T07:23:00</td>\n",
       "      <td>[870]</td>\n",
       "      <td>81727</td>\n",
       "      <td>60987</td>\n",
       "      <td>2021-12-24T00:00:00</td>\n",
       "      <td>NaN</td>\n",
       "    </tr>\n",
       "  </tbody>\n",
       "</table>\n",
       "</div>"
      ],
      "text/plain": [
       "   _QuoteId  _MinPrice  _Direct       _QuoteDateTime _OutboundLeg.CarrierIds  \\\n",
       "0         1         99     True  2021-10-09T07:23:00                   [870]   \n",
       "\n",
       "   _OutboundLeg.OriginId  _OutboundLeg.DestinationId  \\\n",
       "0                  81727                       60987   \n",
       "\n",
       "  _OutboundLeg.DepartureDate QuoteId  \n",
       "0        2021-12-24T00:00:00     NaN  "
      ]
     },
     "execution_count": 55,
     "metadata": {},
     "output_type": "execute_result"
    }
   ],
   "source": [
    "quotes = pd.json_normalize(json_data, 'Quotes', ['QuoteId'], record_prefix = '_', errors = 'ignore')\n",
    "quotes"
   ]
  },
  {
   "cell_type": "code",
   "execution_count": 57,
   "metadata": {},
   "outputs": [
    {
     "data": {
      "text/html": [
       "<div>\n",
       "<style scoped>\n",
       "    .dataframe tbody tr th:only-of-type {\n",
       "        vertical-align: middle;\n",
       "    }\n",
       "\n",
       "    .dataframe tbody tr th {\n",
       "        vertical-align: top;\n",
       "    }\n",
       "\n",
       "    .dataframe thead th {\n",
       "        text-align: right;\n",
       "    }\n",
       "</style>\n",
       "<table border=\"1\" class=\"dataframe\">\n",
       "  <thead>\n",
       "    <tr style=\"text-align: right;\">\n",
       "      <th></th>\n",
       "      <th>_CarrierId</th>\n",
       "      <th>_Name</th>\n",
       "      <th>CarrierId</th>\n",
       "    </tr>\n",
       "  </thead>\n",
       "  <tbody>\n",
       "    <tr>\n",
       "      <th>0</th>\n",
       "      <td>870</td>\n",
       "      <td>jetBlue</td>\n",
       "      <td>NaN</td>\n",
       "    </tr>\n",
       "  </tbody>\n",
       "</table>\n",
       "</div>"
      ],
      "text/plain": [
       "   _CarrierId    _Name CarrierId\n",
       "0         870  jetBlue       NaN"
      ]
     },
     "execution_count": 57,
     "metadata": {},
     "output_type": "execute_result"
    }
   ],
   "source": [
    "carriers = pd.json_normalize(json_data, 'Carriers', ['CarrierId'], record_prefix = '_', errors = 'ignore')\n",
    "carriers"
   ]
  },
  {
   "cell_type": "code",
   "execution_count": 56,
   "metadata": {},
   "outputs": [
    {
     "data": {
      "text/html": [
       "<div>\n",
       "<style scoped>\n",
       "    .dataframe tbody tr th:only-of-type {\n",
       "        vertical-align: middle;\n",
       "    }\n",
       "\n",
       "    .dataframe tbody tr th {\n",
       "        vertical-align: top;\n",
       "    }\n",
       "\n",
       "    .dataframe thead th {\n",
       "        text-align: right;\n",
       "    }\n",
       "</style>\n",
       "<table border=\"1\" class=\"dataframe\">\n",
       "  <thead>\n",
       "    <tr style=\"text-align: right;\">\n",
       "      <th></th>\n",
       "      <th>_Name</th>\n",
       "      <th>_Type</th>\n",
       "      <th>_PlaceId</th>\n",
       "      <th>_IataCode</th>\n",
       "      <th>_SkyscannerCode</th>\n",
       "      <th>_CityName</th>\n",
       "      <th>_CityId</th>\n",
       "      <th>_CountryName</th>\n",
       "      <th>CityName</th>\n",
       "    </tr>\n",
       "  </thead>\n",
       "  <tbody>\n",
       "    <tr>\n",
       "      <th>0</th>\n",
       "      <td>New York John F. Kennedy</td>\n",
       "      <td>Station</td>\n",
       "      <td>60987</td>\n",
       "      <td>JFK</td>\n",
       "      <td>JFK</td>\n",
       "      <td>New York</td>\n",
       "      <td>NYCA</td>\n",
       "      <td>United States</td>\n",
       "      <td>NaN</td>\n",
       "    </tr>\n",
       "    <tr>\n",
       "      <th>1</th>\n",
       "      <td>San Francisco International</td>\n",
       "      <td>Station</td>\n",
       "      <td>81727</td>\n",
       "      <td>SFO</td>\n",
       "      <td>SFO</td>\n",
       "      <td>San Francisco</td>\n",
       "      <td>SFOA</td>\n",
       "      <td>United States</td>\n",
       "      <td>NaN</td>\n",
       "    </tr>\n",
       "  </tbody>\n",
       "</table>\n",
       "</div>"
      ],
      "text/plain": [
       "                         _Name    _Type  _PlaceId _IataCode _SkyscannerCode  \\\n",
       "0     New York John F. Kennedy  Station     60987       JFK             JFK   \n",
       "1  San Francisco International  Station     81727       SFO             SFO   \n",
       "\n",
       "       _CityName _CityId   _CountryName CityName  \n",
       "0       New York    NYCA  United States      NaN  \n",
       "1  San Francisco    SFOA  United States      NaN  "
      ]
     },
     "execution_count": 56,
     "metadata": {},
     "output_type": "execute_result"
    }
   ],
   "source": [
    "places = pd.json_normalize(json_data, 'Places', ['CityName'], record_prefix = '_', errors = 'ignore')\n",
    "places"
   ]
  },
  {
   "cell_type": "code",
   "execution_count": 59,
   "metadata": {},
   "outputs": [
    {
     "data": {
      "text/html": [
       "<div>\n",
       "<style scoped>\n",
       "    .dataframe tbody tr th:only-of-type {\n",
       "        vertical-align: middle;\n",
       "    }\n",
       "\n",
       "    .dataframe tbody tr th {\n",
       "        vertical-align: top;\n",
       "    }\n",
       "\n",
       "    .dataframe thead th {\n",
       "        text-align: right;\n",
       "    }\n",
       "</style>\n",
       "<table border=\"1\" class=\"dataframe\">\n",
       "  <thead>\n",
       "    <tr style=\"text-align: right;\">\n",
       "      <th></th>\n",
       "      <th>_Code</th>\n",
       "      <th>_Symbol</th>\n",
       "      <th>_ThousandsSeparator</th>\n",
       "      <th>_DecimalSeparator</th>\n",
       "      <th>_SymbolOnLeft</th>\n",
       "      <th>_SpaceBetweenAmountAndSymbol</th>\n",
       "      <th>_RoundingCoefficient</th>\n",
       "      <th>_DecimalDigits</th>\n",
       "      <th>Symbol</th>\n",
       "    </tr>\n",
       "  </thead>\n",
       "  <tbody>\n",
       "    <tr>\n",
       "      <th>0</th>\n",
       "      <td>USD</td>\n",
       "      <td>$</td>\n",
       "      <td>,</td>\n",
       "      <td>.</td>\n",
       "      <td>True</td>\n",
       "      <td>False</td>\n",
       "      <td>0</td>\n",
       "      <td>2</td>\n",
       "      <td>NaN</td>\n",
       "    </tr>\n",
       "  </tbody>\n",
       "</table>\n",
       "</div>"
      ],
      "text/plain": [
       "  _Code _Symbol _ThousandsSeparator _DecimalSeparator  _SymbolOnLeft  \\\n",
       "0   USD       $                   ,                 .           True   \n",
       "\n",
       "   _SpaceBetweenAmountAndSymbol  _RoundingCoefficient  _DecimalDigits Symbol  \n",
       "0                         False                     0               2    NaN  "
      ]
     },
     "execution_count": 59,
     "metadata": {},
     "output_type": "execute_result"
    }
   ],
   "source": [
    "currencies = pd.json_normalize(json_data, 'Currencies', ['Symbol'], record_prefix = '_', errors = 'ignore')\n",
    "currencies"
   ]
  }
 ],
 "metadata": {
  "kernelspec": {
   "display_name": "Python 3",
   "language": "python",
   "name": "python3"
  },
  "language_info": {
   "codemirror_mode": {
    "name": "ipython",
    "version": 3
   },
   "file_extension": ".py",
   "mimetype": "text/x-python",
   "name": "python",
   "nbconvert_exporter": "python",
   "pygments_lexer": "ipython3",
   "version": "3.8.5"
  },
  "toc": {
   "base_numbering": 1,
   "nav_menu": {},
   "number_sections": true,
   "sideBar": true,
   "skip_h1_title": false,
   "title_cell": "Table of Contents",
   "title_sidebar": "Contents",
   "toc_cell": false,
   "toc_position": {},
   "toc_section_display": true,
   "toc_window_display": false
  }
 },
 "nbformat": 4,
 "nbformat_minor": 4
}
