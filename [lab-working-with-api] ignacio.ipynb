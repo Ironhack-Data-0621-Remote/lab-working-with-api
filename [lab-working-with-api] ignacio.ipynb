{
 "cells": [
  {
   "cell_type": "markdown",
   "id": "0553eec2",
   "metadata": {},
   "source": [
    "# Lab | Working with APIs"
   ]
  },
  {
   "cell_type": "code",
   "execution_count": 1,
   "id": "84a138ce",
   "metadata": {},
   "outputs": [],
   "source": [
    "import requests\n",
    "import pandas as pd\n",
    "import json"
   ]
  },
  {
   "cell_type": "markdown",
   "id": "cbf06ed0",
   "metadata": {},
   "source": [
    "### Following the class example, create a function that returns the price, names of origin and arrival airports and the name of the company. Do it for all the flights between two dates that cost the same."
   ]
  },
  {
   "cell_type": "code",
   "execution_count": 4,
   "id": "ca52a2ba",
   "metadata": {},
   "outputs": [],
   "source": [
    "def price_check(origin, destination, outb_date):\n",
    "\n",
    "    url = f\"https://skyscanner-skyscanner-flight-search-v1.p.rapidapi.com/apiservices/browsequotes/v1.0/US/USD/en-US/{origin}-sky/{destination}-sky/{outb_date}\"\n",
    "\n",
    "    querystring = {\"inboundpartialdate\":\"{out_date}\"}\n",
    "\n",
    "    headers = {\n",
    "        'x-rapidapi-host': \"skyscanner-skyscanner-flight-search-v1.p.rapidapi.com\",\n",
    "        'x-rapidapi-key': \"50e1e4da08mshabf5975c8283065p106c63jsne0a5e5bd4729\"\n",
    "        }\n",
    "\n",
    "    response = requests.request(\"GET\", url, headers=headers, params=querystring)\n",
    "\n",
    "    print(response.text)"
   ]
  },
  {
   "cell_type": "code",
   "execution_count": 6,
   "id": "89e2c5cd",
   "metadata": {},
   "outputs": [
    {
     "name": "stdout",
     "output_type": "stream",
     "text": [
      "{\n",
      "  \"errors\" : [ \"path param outboundDate Invalid Date Range provided 2021-10-10\" ]\n",
      "}\n"
     ]
    }
   ],
   "source": [
    "price_check(\"DUB\", \"IBZ\", '2021-10-10')"
   ]
  },
  {
   "cell_type": "code",
   "execution_count": null,
   "id": "741857b8",
   "metadata": {},
   "outputs": [],
   "source": []
  }
 ],
 "metadata": {
  "kernelspec": {
   "display_name": "ironhack_1",
   "language": "python",
   "name": "ironhack_1"
  },
  "language_info": {
   "codemirror_mode": {
    "name": "ipython",
    "version": 3
   },
   "file_extension": ".py",
   "mimetype": "text/x-python",
   "name": "python",
   "nbconvert_exporter": "python",
   "pygments_lexer": "ipython3",
   "version": "3.8.5"
  }
 },
 "nbformat": 4,
 "nbformat_minor": 5
}
