{
 "cells": [
  {
   "cell_type": "markdown",
   "id": "0655b231-4b6b-4054-951f-b3894cbe5c80",
   "metadata": {},
   "source": [
    "# Lab | Working with APIs\n",
    "\n",
    "Following the class example, create a function that returns the price, names of origin and arrival airports and the name of the company. Do it for all the flights between two dates that cost the same."
   ]
  },
  {
   "cell_type": "code",
   "execution_count": 1,
   "id": "9b8000c1-fb8e-4f26-9097-ca0f214b495b",
   "metadata": {},
   "outputs": [],
   "source": [
    "from bs4 import BeautifulSoup\n",
    "import requests\n",
    "import pandas as pd\n",
    "import json\n",
    "import datetime"
   ]
  },
  {
   "cell_type": "code",
   "execution_count": 54,
   "id": "55872ac2-9960-4e23-92dd-9b11058135fa",
   "metadata": {},
   "outputs": [],
   "source": [
    "def flight_checker():\n",
    "    # user inputs start and end date of search periode and price range\n",
    "    date_start = str(input(\"Enter a future date as start date (YYYY-MM-DD) for the flight search: \"))\n",
    "    date_end = str(input(\"Enter an end date (YYYY-MM-DD) the flight search: \"))\n",
    "    price_min = int(input(\"Enter a price minimum for the flight search: \"))\n",
    "    price_max = int(input(\"Enter a price maximum for the flight search: \"))\n",
    "    \n",
    "    # convert dates to datetime\n",
    "    date_start = date_start.split('-')\n",
    "    date_end = date_end.split('-')\n",
    "    datetime_start = datetime.datetime(int(date_start[0]), int(date_start[1]), int(date_start[2]))\n",
    "    datetime_end = datetime.datetime(int(date_end[0]), int(date_end[1]), int(date_end[2]))\n",
    "    \n",
    "    # lists for flights that match criteria\n",
    "    picks_flightdates, picks_origins, picks_destinations, picks_prices = [], [], [], []\n",
    "    \n",
    "    # list for airports\n",
    "    aiport_codes = ['ATL', 'LAX', 'SFO', 'FRA', 'DXB', 'IST']\n",
    "    \n",
    "    for i in range((datetime_end - datetime_start).days):\n",
    "        # day itterator for url                    \n",
    "        date_pos = (datetime_start + datetime.timedelta(days=i)).date()\n",
    "        date_index = str(date_pos)\n",
    "\n",
    "        for origin in aiport_codes:\n",
    "            for dest in aiport_codes:\n",
    "                if dest != origin:\n",
    "                    # api data fetching\n",
    "                    url = \"https://skyscanner-skyscanner-flight-search-v1.p.rapidapi.com/apiservices/browsedates/v1.0/US/USD/en-US/\" + origin + \"-sky/\" + dest + \"-sky/\" + date_index\n",
    "                    querystring = {\"inboundpartialdate\":\"\"}\n",
    "                    headers = {'x-rapidapi-host': \"skyscanner-skyscanner-flight-search-v1.p.rapidapi.com\",\n",
    "                               'x-rapidapi-key': \"01b9029c5amsh7424e15954d5eb6p1bf518jsn7c6241f30d35\"\n",
    "                              }\n",
    "                    response = requests.request(\"GET\", url, headers=headers, params=querystring)\n",
    "                    try:\n",
    "                        \n",
    "                        # transforming fetch to dfs\n",
    "                        df_full = pd.json_normalize(response.json())\n",
    "                        quotes = pd.DataFrame(df_full[\"Quotes\"][0])\n",
    "                        carriers = pd.DataFrame(df_full[\"Carriers\"][0])\n",
    "                        places = pd.DataFrame(df_full[\"Places\"][0])\n",
    "        \n",
    "                        # storing flight data in lists\n",
    "                        list_prices = [price for price in quotes['MinPrice']]\n",
    "                        list_airlines = [airline for airline in carriers['Name']]\n",
    "                        list_origins = [places['Name'][0] for x in range(len(list_prices))]\n",
    "                        list_destinations = [places['Name'][1] for y in range(len(list_prices))]\n",
    "                        list_flightdates = [date_pos for j in range(len(list_prices))]\n",
    "                       \n",
    "                        # append lists with data of flights that match the price range  \n",
    "                        for indx, price in enumerate(list_prices):\n",
    "                            if (price >= price_min) and (price <= price_max):\n",
    "                                picks_flightdates.append(list_flightdates[indx])\n",
    "                                picks_origins.append(list_origins[indx])\n",
    "                                picks_destinations.append(list_destinations[indx])\n",
    "                                picks_prices.append(list_prices[indx])\n",
    "                    except:\n",
    "                        continue\n",
    "    \n",
    "    # df with matching flights   \n",
    "    flights_data = pd.DataFrame({\"flight_date\": picks_flightdates, \"origin_airport\": picks_origins, \"destination airport\": picks_destinations, \"price\": picks_prices})\n",
    "    return flights_data"
   ]
  },
  {
   "cell_type": "code",
   "execution_count": 55,
   "id": "03826ed1-c095-47cf-9e98-8065b2961b7a",
   "metadata": {},
   "outputs": [
    {
     "name": "stdin",
     "output_type": "stream",
     "text": [
      "Enter a future date as start date (YYYY-MM-DD) for the flight search:  2021-11-24\n",
      "Enter an end date (YYYY-MM-DD) the flight search:  2021-12-10\n",
      "Enter a price minimum for the flight search:  400\n",
      "Enter a price maximum for the flight search:  500\n"
     ]
    }
   ],
   "source": [
    "check1 = flight_checker()"
   ]
  },
  {
   "cell_type": "code",
   "execution_count": 56,
   "id": "57d47545-c0d8-4661-932a-61c3d5be925d",
   "metadata": {},
   "outputs": [
    {
     "data": {
      "text/html": [
       "<div>\n",
       "<style scoped>\n",
       "    .dataframe tbody tr th:only-of-type {\n",
       "        vertical-align: middle;\n",
       "    }\n",
       "\n",
       "    .dataframe tbody tr th {\n",
       "        vertical-align: top;\n",
       "    }\n",
       "\n",
       "    .dataframe thead th {\n",
       "        text-align: right;\n",
       "    }\n",
       "</style>\n",
       "<table border=\"1\" class=\"dataframe\">\n",
       "  <thead>\n",
       "    <tr style=\"text-align: right;\">\n",
       "      <th></th>\n",
       "      <th>flight_date</th>\n",
       "      <th>origin_airport</th>\n",
       "      <th>destination airport</th>\n",
       "      <th>price</th>\n",
       "    </tr>\n",
       "  </thead>\n",
       "  <tbody>\n",
       "    <tr>\n",
       "      <th>0</th>\n",
       "      <td>2021-11-24</td>\n",
       "      <td>Atlanta Hartsfield-Jackson</td>\n",
       "      <td>Frankfurt am Main</td>\n",
       "      <td>446</td>\n",
       "    </tr>\n",
       "    <tr>\n",
       "      <th>1</th>\n",
       "      <td>2021-11-24</td>\n",
       "      <td>Frankfurt am Main</td>\n",
       "      <td>Los Angeles International</td>\n",
       "      <td>409</td>\n",
       "    </tr>\n",
       "    <tr>\n",
       "      <th>2</th>\n",
       "      <td>2021-11-24</td>\n",
       "      <td>Dubai</td>\n",
       "      <td>Frankfurt am Main</td>\n",
       "      <td>470</td>\n",
       "    </tr>\n",
       "    <tr>\n",
       "      <th>3</th>\n",
       "      <td>2021-11-24</td>\n",
       "      <td>Dubai</td>\n",
       "      <td>Frankfurt am Main</td>\n",
       "      <td>488</td>\n",
       "    </tr>\n",
       "    <tr>\n",
       "      <th>4</th>\n",
       "      <td>2021-11-25</td>\n",
       "      <td>Atlanta Hartsfield-Jackson</td>\n",
       "      <td>Frankfurt am Main</td>\n",
       "      <td>429</td>\n",
       "    </tr>\n",
       "    <tr>\n",
       "      <th>5</th>\n",
       "      <td>2021-11-25</td>\n",
       "      <td>Atlanta Hartsfield-Jackson</td>\n",
       "      <td>Dubai</td>\n",
       "      <td>448</td>\n",
       "    </tr>\n",
       "    <tr>\n",
       "      <th>6</th>\n",
       "      <td>2021-11-25</td>\n",
       "      <td>Dubai</td>\n",
       "      <td>Frankfurt am Main</td>\n",
       "      <td>470</td>\n",
       "    </tr>\n",
       "  </tbody>\n",
       "</table>\n",
       "</div>"
      ],
      "text/plain": [
       "  flight_date              origin_airport        destination airport  price\n",
       "0  2021-11-24  Atlanta Hartsfield-Jackson          Frankfurt am Main    446\n",
       "1  2021-11-24           Frankfurt am Main  Los Angeles International    409\n",
       "2  2021-11-24                       Dubai          Frankfurt am Main    470\n",
       "3  2021-11-24                       Dubai          Frankfurt am Main    488\n",
       "4  2021-11-25  Atlanta Hartsfield-Jackson          Frankfurt am Main    429\n",
       "5  2021-11-25  Atlanta Hartsfield-Jackson                      Dubai    448\n",
       "6  2021-11-25                       Dubai          Frankfurt am Main    470"
      ]
     },
     "execution_count": 56,
     "metadata": {},
     "output_type": "execute_result"
    }
   ],
   "source": [
    "check1"
   ]
  },
  {
   "cell_type": "code",
   "execution_count": null,
   "id": "3bc62019-3c36-40b8-a448-bd386cbf8978",
   "metadata": {},
   "outputs": [],
   "source": []
  }
 ],
 "metadata": {
  "kernelspec": {
   "display_name": "Python3Brew",
   "language": "python",
   "name": "python3brew"
  },
  "language_info": {
   "codemirror_mode": {
    "name": "ipython",
    "version": 3
   },
   "file_extension": ".py",
   "mimetype": "text/x-python",
   "name": "python",
   "nbconvert_exporter": "python",
   "pygments_lexer": "ipython3",
   "version": "3.9.4"
  }
 },
 "nbformat": 4,
 "nbformat_minor": 5
}
